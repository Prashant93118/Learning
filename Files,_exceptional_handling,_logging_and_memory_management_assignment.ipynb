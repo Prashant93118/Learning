{
  "nbformat": 4,
  "nbformat_minor": 0,
  "metadata": {
    "colab": {
      "provenance": []
    },
    "kernelspec": {
      "name": "python3",
      "display_name": "Python 3"
    },
    "language_info": {
      "name": "python"
    }
  },
  "cells": [
    {
      "cell_type": "code",
      "source": [
        "#Ques1 What is the difference between interpreted and compiled languages?\n",
        "#Ans- Interpreted languages execute code line-by-line at runtime,\n",
        "#while compiled languages translate code into machine code before execution"
      ],
      "metadata": {
        "id": "YhjzPSJdyqja"
      },
      "execution_count": null,
      "outputs": []
    },
    {
      "cell_type": "code",
      "source": [
        "#Ques2 What is exception handling in Python?\n",
        "#Ans It is a mechanism to handle runtime errors using try, except, else, and finally blocks to maintain normal program flow."
      ],
      "metadata": {
        "id": "LtpVaBBKyqhA"
      },
      "execution_count": null,
      "outputs": []
    },
    {
      "cell_type": "code",
      "source": [
        "#Ques3 What is the purpose of the finally block in exception handling?\n",
        "#Ans- The finally block executes code regardless of whether an exception occurred, often used for cleanup actions like closing files."
      ],
      "metadata": {
        "id": "IB5e8iagyqd4"
      },
      "execution_count": null,
      "outputs": []
    },
    {
      "cell_type": "code",
      "source": [
        "#Ques4 What is logging in Python?\n",
        "#Ans- It is a way to track events that happen during program execution, useful for debugging and monitoring."
      ],
      "metadata": {
        "id": "UZpoo4Rkyqa_"
      },
      "execution_count": null,
      "outputs": []
    },
    {
      "cell_type": "code",
      "source": [
        "#Ques5 What is the significance of the __del__ method in Python?\n",
        "#Ans- It is a destructor method called when an object is about to be destroyed, allowing for cleanup actions."
      ],
      "metadata": {
        "id": "eXw6zvtByqYU"
      },
      "execution_count": null,
      "outputs": []
    },
    {
      "cell_type": "code",
      "source": [
        "#Ques6 What is the difference between import and from ... import in Python?\n",
        "#Ans- \"import\" imports the entire module, while from ... import imports specific attributes or functions from a module."
      ],
      "metadata": {
        "id": "Nh8D2ziXyqU-"
      },
      "execution_count": null,
      "outputs": []
    },
    {
      "cell_type": "code",
      "source": [
        "#Ques7 How can you handle multiple exceptions in Python?\n",
        "#Ans- We can handle multiple exceptions by specifying multiple except blocks or using a single except block with a tuple of exceptions."
      ],
      "metadata": {
        "id": "QwUszqjByqRr"
      },
      "execution_count": null,
      "outputs": []
    },
    {
      "cell_type": "code",
      "source": [
        "#Ques8 What is the purpose of the with statement when handling files in Python?\n",
        "#Ans- It ensures proper acquisition and release of resources, like files, automatically handling closing even if an error occurs.?"
      ],
      "metadata": {
        "id": "FcuEDERPyqO2"
      },
      "execution_count": null,
      "outputs": []
    },
    {
      "cell_type": "code",
      "source": [
        "#Ques9 What is the difference between multithreading and multiprocessing?\n",
        "#Ans- Multithreading uses multiple threads within a single process, sharing memory,\n",
        "#while multiprocessing uses multiple processes with separate memory spaces."
      ],
      "metadata": {
        "id": "PRN9lo-RyqLx"
      },
      "execution_count": null,
      "outputs": []
    },
    {
      "cell_type": "code",
      "source": [
        "#Ques10 What are the advantages of using logging in a program?\n",
        "#Ans- It provides a way to track events, debug issues, and monitor application behavior without interrupting the program flow."
      ],
      "metadata": {
        "id": "-8g3cBx7yqI-"
      },
      "execution_count": null,
      "outputs": []
    },
    {
      "cell_type": "code",
      "source": [
        "#Ques11 What is memory management in Python?\n",
        "#Ans- It involves the allocation and deallocation of memory for objects, handled automatically by Python's garbage collector."
      ],
      "metadata": {
        "id": "x2C6mePxyqGA"
      },
      "execution_count": null,
      "outputs": []
    },
    {
      "cell_type": "code",
      "source": [
        "#Ques12 What are the basic steps involved in exception handling in Python?\n",
        "#Ans- Use try to wrap code that may raise an exception, except to handle the exception, and optionally else and finally for additional control."
      ],
      "metadata": {
        "id": "LxlPJbV1yqDE"
      },
      "execution_count": null,
      "outputs": []
    },
    {
      "cell_type": "code",
      "source": [
        "#Ques13 Why is memory management important in Python?\n",
        "#Ans- It prevents memory leaks, optimizes resource usage, and ensures efficient performance of applications."
      ],
      "metadata": {
        "id": "dtKoBn8lyqAB"
      },
      "execution_count": null,
      "outputs": []
    },
    {
      "cell_type": "code",
      "source": [
        "#Ques14 What is the role of try and except in exception handling?\n",
        "#Ans- \"try\" contains code that may raise an exception, while \"except\" defines how to respond to that exception."
      ],
      "metadata": {
        "id": "PnpFEj8Xyp9b"
      },
      "execution_count": null,
      "outputs": []
    },
    {
      "cell_type": "code",
      "source": [
        "#Ques15 How does Python's garbage collection system work?\n",
        "#Ans- It automatically manages memory by tracking object references and reclaiming memory when objects are no longer in use."
      ],
      "metadata": {
        "id": "wdcfHuoRyp6T"
      },
      "execution_count": null,
      "outputs": []
    },
    {
      "cell_type": "code",
      "source": [
        "#Ques16 What is the purpose of the else block in exception handling?\n",
        "#Ans- The else block runs if the try block does not raise an exception, allowing for code that should only execute on success."
      ],
      "metadata": {
        "id": "2xBhCS54yp3Y"
      },
      "execution_count": null,
      "outputs": []
    },
    {
      "cell_type": "code",
      "source": [
        "#Ques17 What are the common logging levels in Python?\n",
        "#Ans- The common levels are DEBUG, INFO, WARNING, ERROR, and CRITICAL, indicating the severity of events."
      ],
      "metadata": {
        "id": "6LmiAwUQyp0U"
      },
      "execution_count": null,
      "outputs": []
    },
    {
      "cell_type": "code",
      "source": [
        "#Ques18 What is the difference between os.fork() and multiprocessing in Python?\n",
        "#Ans- \"os.fork()\" creates a child process that is a copy of the parent,\n",
        "#while \"multiprocessing\" provides a higher-level interface for creating and managing processes."
      ],
      "metadata": {
        "id": "aDQ5ooytypx7"
      },
      "execution_count": null,
      "outputs": []
    },
    {
      "cell_type": "code",
      "source": [
        "#Ques19 What is the importance of closing a file in Python?\n",
        "#Ans- Closing a file releases system resources and ensures that all data is written and saved properly."
      ],
      "metadata": {
        "id": "6NY-M2AUypuA"
      },
      "execution_count": null,
      "outputs": []
    },
    {
      "cell_type": "code",
      "source": [
        "#Ques20 What is the difference between file.read() and file.readline() in Python?\n",
        "#Ans- \"file.read()\" reads the entire file at once, while \"file.readline()\" reads one line at a time."
      ],
      "metadata": {
        "id": "9VPh7gaZypq_"
      },
      "execution_count": null,
      "outputs": []
    },
    {
      "cell_type": "code",
      "source": [
        "#Ques21 What is the logging module in Python used for?\n",
        "#Ans- It provides a flexible framework for emitting log messages from Python programs, allowing for different output destinations and severity levels."
      ],
      "metadata": {
        "id": "CZFB_WeVypn5"
      },
      "execution_count": null,
      "outputs": []
    },
    {
      "cell_type": "code",
      "source": [
        "#Ques22 What is the os module in Python used for in file handling?\n",
        "#Ans- It provides functions for interacting with the operating system, including file handling, directory management, and process control."
      ],
      "metadata": {
        "id": "Ej_eTEEyyplV"
      },
      "execution_count": null,
      "outputs": []
    },
    {
      "cell_type": "code",
      "source": [
        "#Ques23 What are the challenges associated with memory management in Python?\n",
        "#Ans- Challenges include memory leaks, fragmentation, and the need for efficient allocation and deallocation."
      ],
      "metadata": {
        "id": "YGTZyTpHyphq"
      },
      "execution_count": null,
      "outputs": []
    },
    {
      "cell_type": "code",
      "source": [
        "#Ques24 How do you raise an exception manually in Python?\n",
        "#Ans We can raise an exception using the raise statement followed by the exception type (e.g., raise ValueError(\"Error message\"))."
      ],
      "metadata": {
        "id": "rdDkMQ8pype0"
      },
      "execution_count": null,
      "outputs": []
    },
    {
      "cell_type": "code",
      "source": [
        "#Ques25 Why is it important to use multithreading in certain applications?\n",
        "#Ans- It allows for concurrent execution of tasks, improving performance in I/O-bound applications and enhancing responsiveness in user interfaces."
      ],
      "metadata": {
        "id": "loMaAZofypb9"
      },
      "execution_count": null,
      "outputs": []
    },
    {
      "cell_type": "markdown",
      "source": [
        "# **Practicle Questions**"
      ],
      "metadata": {
        "id": "Sn3ohVcq6VfZ"
      }
    },
    {
      "cell_type": "code",
      "source": [
        "#Ques1 How can you open a file for writing in Python and write a string to it?\n",
        "#Ans\n",
        "with open('input.txt', 'w') as file:\n",
        "    file.write(\"Hello, World!\\n I purchased a course from Physics Wallah\")\n",
        ""
      ],
      "metadata": {
        "id": "Cu68zhJtypZu"
      },
      "execution_count": 13,
      "outputs": []
    },
    {
      "cell_type": "code",
      "source": [
        "#Ques2 Write a Python program to read the contents of a file and print each line.\n",
        "#Ans-\n",
        "with open('input.txt', 'r') as file:\n",
        "    for line in file:\n",
        "        print(line.strip())"
      ],
      "metadata": {
        "colab": {
          "base_uri": "https://localhost:8080/"
        },
        "id": "PNMGqVxAypWD",
        "outputId": "8c2d3fb5-53cf-4afd-9ffb-ade13e2ea184"
      },
      "execution_count": 14,
      "outputs": [
        {
          "output_type": "stream",
          "name": "stdout",
          "text": [
            "Hello, World!\n",
            "I purchased a course from Physics Wallah\n"
          ]
        }
      ]
    },
    {
      "cell_type": "code",
      "source": [
        "#Ques3 How would you handle a case where the file doesn't exist while trying to open it for reading?\n",
        "#Ans-\n",
        "try:\n",
        "    with open('non_existent_file.txt', 'r') as file:\n",
        "        content = file.read()\n",
        "except FileNotFoundError:\n",
        "    print(\"The file does not exist.\")"
      ],
      "metadata": {
        "colab": {
          "base_uri": "https://localhost:8080/"
        },
        "id": "lA8DfSKPypS-",
        "outputId": "e6780ce4-108e-4755-e0ff-c9dd955756e3"
      },
      "execution_count": 15,
      "outputs": [
        {
          "output_type": "stream",
          "name": "stdout",
          "text": [
            "The file does not exist.\n"
          ]
        }
      ]
    },
    {
      "cell_type": "code",
      "source": [
        "#Ques4 Write a Python script that reads from one file and writes its content to another file.\n",
        "#Ans-\n",
        "with open('source.txt', 'w') as file:\n",
        "    print(\"Hello\")\n",
        "with open('source.txt', 'r') as source_file:\n",
        "    content = source_file.read()\n",
        "file.close()\n",
        "with open('destination.txt', 'w') as dest_file:\n",
        "    dest_file.write(content)"
      ],
      "metadata": {
        "colab": {
          "base_uri": "https://localhost:8080/"
        },
        "id": "9vfVu2cVypQW",
        "outputId": "7c5f3b95-aeb0-43c0-f5aa-f7f1e50fc42c"
      },
      "execution_count": 31,
      "outputs": [
        {
          "output_type": "stream",
          "name": "stdout",
          "text": [
            "Hello\n"
          ]
        }
      ]
    },
    {
      "cell_type": "code",
      "source": [
        "#Ques5 How would you catch and handle division by zero error in Python?\n",
        "#Ans-\n",
        "try:\n",
        "    result = 10 / 0\n",
        "except ZeroDivisionError:\n",
        "    print(\"Cannot divide by zero.\")"
      ],
      "metadata": {
        "colab": {
          "base_uri": "https://localhost:8080/"
        },
        "id": "iEhGBqNAypNy",
        "outputId": "797f9c17-6abd-4409-bf06-fb37b008c1d4"
      },
      "execution_count": 32,
      "outputs": [
        {
          "output_type": "stream",
          "name": "stdout",
          "text": [
            "Cannot divide by zero.\n"
          ]
        }
      ]
    },
    {
      "cell_type": "code",
      "source": [
        "#Ques6 Write a Python program that logs an error message to a log file when a division by zero exception occurs.\n",
        "#Ans-\n",
        "import logging\n",
        "\n",
        "logging.basicConfig(filename='error.log', level=logging.ERROR)\n",
        "\n",
        "try:\n",
        "    result = 10 / 0\n",
        "except ZeroDivisionError as e:\n",
        "    logging.error(\"Division by zero error: %s\", e)"
      ],
      "metadata": {
        "colab": {
          "base_uri": "https://localhost:8080/"
        },
        "id": "-ZVkP2WHypKC",
        "outputId": "3683d71a-3b0b-4db3-a729-08199615f6b7"
      },
      "execution_count": 33,
      "outputs": [
        {
          "output_type": "stream",
          "name": "stderr",
          "text": [
            "ERROR:root:Division by zero error: division by zero\n"
          ]
        }
      ]
    },
    {
      "cell_type": "code",
      "source": [
        "#Ques7  How do you log information at different levels (INFO, ERROR, WARNING) in Python using the logging module.\n",
        "#Ans-\n",
        "import logging\n",
        "\n",
        "logging.basicConfig(level=logging.DEBUG)\n",
        "\n",
        "logging.debug(\"This is a debug message.\")\n",
        "logging.info(\"This is an info message.\")\n",
        "logging.warning(\"This is a warning message.\")\n",
        "logging.error(\"This is an error message.\")\n",
        "logging.critical(\"This is a critical message.\")"
      ],
      "metadata": {
        "colab": {
          "base_uri": "https://localhost:8080/"
        },
        "id": "5LrQ0X8rypHR",
        "outputId": "f58f059f-609e-4024-d943-c52140a59b68"
      },
      "execution_count": 34,
      "outputs": [
        {
          "output_type": "stream",
          "name": "stderr",
          "text": [
            "WARNING:root:This is a warning message.\n",
            "ERROR:root:This is an error message.\n",
            "CRITICAL:root:This is a critical message.\n"
          ]
        }
      ]
    },
    {
      "cell_type": "code",
      "source": [
        "#Ques8 Write a program to handle a file opening error using exception handling.\n",
        "#Ans-\n",
        "try:\n",
        "    with open('file.txt', 'r') as file:\n",
        "        content = file.read()\n",
        "except FileNotFoundError:\n",
        "    print(\"Error: File not found.\")"
      ],
      "metadata": {
        "colab": {
          "base_uri": "https://localhost:8080/"
        },
        "id": "US16m1DpypEx",
        "outputId": "c4e5e52b-64c9-424c-f083-eee5cc4f408a"
      },
      "execution_count": 36,
      "outputs": [
        {
          "output_type": "stream",
          "name": "stdout",
          "text": [
            "Error: File not found.\n"
          ]
        }
      ]
    },
    {
      "cell_type": "code",
      "source": [
        "#Ques9 How can you read a file line by line and store its content in a list in Python?\n",
        "#Ans-\n",
        "lines = []\n",
        "with open('input.txt', 'r') as file:\n",
        "    for line in file:\n",
        "        lines.append(line.strip())\n",
        "print(lines)"
      ],
      "metadata": {
        "colab": {
          "base_uri": "https://localhost:8080/"
        },
        "id": "f94Dztn2ypB-",
        "outputId": "54fd6146-211e-4b65-bc07-693ecd724df5"
      },
      "execution_count": 37,
      "outputs": [
        {
          "output_type": "stream",
          "name": "stdout",
          "text": [
            "['Hello, World!', 'I purchased a course from Physics Wallah']\n"
          ]
        }
      ]
    },
    {
      "cell_type": "code",
      "source": [
        "#Ques10 How can you append data to an existing file in Python?\n",
        "#Ans-\n",
        "with open('output.txt', 'a') as file:\n",
        "    file.write(\"Appending this line.\\n\")"
      ],
      "metadata": {
        "id": "yhF68jNdyo-X"
      },
      "execution_count": 38,
      "outputs": []
    },
    {
      "cell_type": "code",
      "source": [
        "#Ques11 Write a Python program that uses a try-except block to handle an error when attempting to access a dictionary key that doesn't exist\n",
        "#Ans-\n",
        "my_dict = {'a': 1, 'b': 2}\n",
        "try:\n",
        "    value = my_dict['c']\n",
        "except KeyError:\n",
        "    print(\"Key does not exist.\")"
      ],
      "metadata": {
        "colab": {
          "base_uri": "https://localhost:8080/"
        },
        "id": "U4Y6r2nryo7O",
        "outputId": "bd851840-e102-4c8a-a988-0bc271066ba5"
      },
      "execution_count": 39,
      "outputs": [
        {
          "output_type": "stream",
          "name": "stdout",
          "text": [
            "Key does not exist.\n"
          ]
        }
      ]
    },
    {
      "cell_type": "code",
      "source": [
        "#Ques12 Write a program that demonstrates using multiple except blocks to handle different types of exceptions.\n",
        "#Ans-\n",
        "try:\n",
        "    result = 10 / 0\n",
        "except ZeroDivisionError:\n",
        "    print(\"Cannot divide by zero.\")\n",
        "\n",
        "my_dict = {'a': 1, 'b': 2}\n",
        "try:\n",
        "    value = my_dict['c']\n",
        "except KeyError:\n",
        "    print(\"Key does not exist.\")"
      ],
      "metadata": {
        "colab": {
          "base_uri": "https://localhost:8080/"
        },
        "id": "WgE8EaXtyo4Y",
        "outputId": "6fc4697b-2dec-4850-d8c9-2f13eb86d6f1"
      },
      "execution_count": 42,
      "outputs": [
        {
          "output_type": "stream",
          "name": "stdout",
          "text": [
            "Cannot divide by zero.\n",
            "Key does not exist.\n"
          ]
        }
      ]
    },
    {
      "cell_type": "code",
      "source": [
        "#Ques13 How would you check if a file exists before attempting to read it in Python?\n",
        "#Ans-\n",
        "import os\n",
        "\n",
        "if os.path.exists('File_is_not_there'):\n",
        "    with open('File_is_not_there', 'r') as file:\n",
        "        content = file.read()\n",
        "else:\n",
        "    print(\"The file does not exist.\")"
      ],
      "metadata": {
        "colab": {
          "base_uri": "https://localhost:8080/"
        },
        "id": "opdXwDpUyo1X",
        "outputId": "fd9c92e5-670f-426b-c046-cdaf9ecc2722"
      },
      "execution_count": 44,
      "outputs": [
        {
          "output_type": "stream",
          "name": "stdout",
          "text": [
            "The file does not exist.\n"
          ]
        }
      ]
    },
    {
      "cell_type": "code",
      "source": [
        "#Ques14 Write a program that uses the logging module to log both informational and error messages.\n",
        "#Ans-\n",
        "import logging\n",
        "\n",
        "logging.basicConfig(level=logging.DEBUG, filename='app.log',\n",
        "                    format='%(asctime)s - %(levelname)s - %(message)s')\n",
        "\n",
        "logging.info(\"This is an informational message.\")\n",
        "\n",
        "try:\n",
        "    result = 10 / 0\n",
        "except ZeroDivisionError:\n",
        "    logging.error(\"An error occurred: Division by zero.\")"
      ],
      "metadata": {
        "colab": {
          "base_uri": "https://localhost:8080/"
        },
        "id": "T7o4pjv-yoyg",
        "outputId": "7790085d-c356-4d6a-ba12-0aae50f82627"
      },
      "execution_count": 45,
      "outputs": [
        {
          "output_type": "stream",
          "name": "stderr",
          "text": [
            "ERROR:root:An error occurred: Division by zero.\n"
          ]
        }
      ]
    },
    {
      "cell_type": "code",
      "source": [
        "#Ques15 Write a Python program that prints the content of a file and handles the case when the file is empty.\n",
        "#Ans-\n",
        "file_name = 'input.txt'\n",
        "\n",
        "try:\n",
        "    with open(file_name, 'r') as file:\n",
        "        content = file.read()\n",
        "        if not content:\n",
        "            print(\"The file is empty.\")\n",
        "        else:\n",
        "            print(content)\n",
        "except FileNotFoundError:\n",
        "    print(f\"Error: The file {file_name} does not exist.\")"
      ],
      "metadata": {
        "colab": {
          "base_uri": "https://localhost:8080/"
        },
        "id": "WAnet8GQyovg",
        "outputId": "25c22542-0f2d-40e8-98af-9c424997f7e1"
      },
      "execution_count": 46,
      "outputs": [
        {
          "output_type": "stream",
          "name": "stdout",
          "text": [
            "Hello, World!\n",
            " I purchased a course from Physics Wallah\n"
          ]
        }
      ]
    },
    {
      "cell_type": "code",
      "source": [
        "#Ques16 Demonstrate how to use memory profiling to check the memory usage of a small program.\n",
        "#Ans- Confused about question."
      ],
      "metadata": {
        "id": "JqmbtgT9yoso"
      },
      "execution_count": 48,
      "outputs": []
    },
    {
      "cell_type": "code",
      "source": [
        "#Ques17 Write a Python program to create and write a list of numbers to a file, one number per line.\n",
        "#Ans-\n",
        "numbers = [1, 2, 3, 4, 5]\n",
        "\n",
        "with open('numbers.txt', 'w') as file:\n",
        "    for number in numbers:\n",
        "        file.write(f\"{number}\\n\")"
      ],
      "metadata": {
        "id": "W4ZTtkx5yoqJ"
      },
      "execution_count": 49,
      "outputs": []
    },
    {
      "cell_type": "code",
      "source": [
        "#Ques18  How would you implement a basic logging setup that logs to a file with rotation after 1MB?\n",
        "#Ans-\n",
        "import logging\n",
        "from logging.handlers import RotatingFileHandler\n",
        "\n",
        "handler = RotatingFileHandler('app.log', maxBytes=1e6, backupCount=5)\n",
        "logging.basicConfig(level=logging.INFO, handlers=[handler])\n",
        "\n",
        "logging.info(\"This is a log message.\")"
      ],
      "metadata": {
        "id": "7nPmQQEMyonI"
      },
      "execution_count": 52,
      "outputs": []
    },
    {
      "cell_type": "code",
      "source": [
        "#Ques19 Write a program that handles both IndexError and KeyError using a try-except block.\n",
        "#Ans-\n",
        "my_list = [1, 2, 3]\n",
        "my_dict = {'a': 1, 'b': 2}\n",
        "\n",
        "try:\n",
        "    print(my_list[5])\n",
        "except IndexError:\n",
        "    print(\"IndexError: List index out of range.\")\n",
        "try:\n",
        "  print(my_dict['c'])\n",
        "except KeyError:\n",
        "    print(\"KeyError: Key does not exist in the dictionary.\")"
      ],
      "metadata": {
        "colab": {
          "base_uri": "https://localhost:8080/"
        },
        "id": "osdxOwgJyokS",
        "outputId": "55b86ab9-ea87-46bb-ff91-4cb58eeafb5f"
      },
      "execution_count": 55,
      "outputs": [
        {
          "output_type": "stream",
          "name": "stdout",
          "text": [
            "IndexError: List index out of range.\n",
            "KeyError: Key does not exist in the dictionary.\n"
          ]
        }
      ]
    },
    {
      "cell_type": "code",
      "source": [
        "#Ques20 How would you open a file and read its contents using a context manager in Python?\n",
        "#Ans-\n",
        "file_name = 'input.txt'\n",
        "\n",
        "with open(file_name, 'r') as file:\n",
        "    content = file.read()\n",
        "    print(content)"
      ],
      "metadata": {
        "colab": {
          "base_uri": "https://localhost:8080/"
        },
        "id": "rEEu1da0yohh",
        "outputId": "0b916f95-bbf7-4bda-a578-1cfa4b301bcc"
      },
      "execution_count": 56,
      "outputs": [
        {
          "output_type": "stream",
          "name": "stdout",
          "text": [
            "Hello, World!\n",
            " I purchased a course from Physics Wallah\n"
          ]
        }
      ]
    },
    {
      "cell_type": "code",
      "source": [
        "#Ques21 Write a Python program that reads a file and prints the number of occurrences of a specific word.\n",
        "#Ans-\n",
        "file_name = 'input.txt'\n",
        "word_to_count = 'example'\n",
        "\n",
        "try:\n",
        "    with open(file_name, 'r') as file:\n",
        "        content = file.read()\n",
        "        count = content.lower().count(word_to_count.lower())\n",
        "        print(f\"The word '{word_to_count}' occurs {count} times.\")\n",
        "except FileNotFoundError:\n",
        "    print(f\"Error: The file {file_name} does not exist.\")"
      ],
      "metadata": {
        "colab": {
          "base_uri": "https://localhost:8080/"
        },
        "id": "49CLlO0jyoeg",
        "outputId": "ccd5e68e-593e-426b-9268-896bc31171cb"
      },
      "execution_count": 59,
      "outputs": [
        {
          "output_type": "stream",
          "name": "stdout",
          "text": [
            "The word 'example' occurs 0 times.\n"
          ]
        }
      ]
    },
    {
      "cell_type": "code",
      "source": [
        "#Ques22 How can you check if a file is empty before attempting to read its contents?\n",
        "#Ans-\n",
        "file_name = 'input.txt'\n",
        "\n",
        "try:\n",
        "    if os.path.getsize(file_name) == 0:\n",
        "        print(\"The file is empty.\")\n",
        "    else:\n",
        "        with open(file_name, 'r') as file:\n",
        "            content = file.read()\n",
        "            print(content)\n",
        "except FileNotFoundError:\n",
        "    print(f\"Error: The file {file_name} does not exist.\")"
      ],
      "metadata": {
        "colab": {
          "base_uri": "https://localhost:8080/"
        },
        "id": "l9-0P_6byocI",
        "outputId": "2fc74a1f-85b8-4502-b8be-4b4f840098f2"
      },
      "execution_count": 60,
      "outputs": [
        {
          "output_type": "stream",
          "name": "stdout",
          "text": [
            "Hello, World!\n",
            " I purchased a course from Physics Wallah\n"
          ]
        }
      ]
    },
    {
      "cell_type": "code",
      "source": [
        "#Ques23  Write a Python program that writes to a log file when an error occurs during file handling.\n",
        "#Ans-\n",
        "import logging\n",
        "\n",
        "logging.basicConfig(filename='file_errors.log', level=logging.ERROR)\n",
        "\n",
        "file_name = 'input.txt'\n",
        "\n",
        "try:\n",
        "    with open(file_name, 'r') as file:\n",
        "        content = file.read()\n",
        "except Exception as e:\n",
        "    logging.error(\"Error occurred while handling the file: %s\", e)"
      ],
      "metadata": {
        "id": "5oiCLQjoyoZU"
      },
      "execution_count": 64,
      "outputs": []
    },
    {
      "cell_type": "code",
      "source": [],
      "metadata": {
        "id": "EjyzA-RSyoWm"
      },
      "execution_count": 63,
      "outputs": []
    },
    {
      "cell_type": "code",
      "source": [],
      "metadata": {
        "id": "jIT0SNo-yoUN"
      },
      "execution_count": 62,
      "outputs": []
    },
    {
      "cell_type": "code",
      "source": [],
      "metadata": {
        "id": "9LTJn1t6yoRi"
      },
      "execution_count": null,
      "outputs": []
    },
    {
      "cell_type": "code",
      "source": [],
      "metadata": {
        "id": "B109DHnFyoOf"
      },
      "execution_count": null,
      "outputs": []
    },
    {
      "cell_type": "code",
      "execution_count": null,
      "metadata": {
        "id": "pTMNbsO2qkVv"
      },
      "outputs": [],
      "source": []
    }
  ]
}