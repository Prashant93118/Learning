{
  "nbformat": 4,
  "nbformat_minor": 0,
  "metadata": {
    "colab": {
      "provenance": []
    },
    "kernelspec": {
      "name": "python3",
      "display_name": "Python 3"
    },
    "language_info": {
      "name": "python"
    }
  },
  "cells": [
    {
      "cell_type": "code",
      "execution_count": null,
      "metadata": {
        "id": "16QgiHI4VENh"
      },
      "outputs": [],
      "source": [
        "#Ques1-  What is Python, and why is it popular?\n",
        "#Ans- python is a programming language through which we can create programes, websites etc. And its popular because of ease of Learning and Use and it has extensive Libraries."
      ]
    },
    {
      "cell_type": "code",
      "source": [
        "#Ques2- What is an interpreter in python\n",
        "#Ans- A Python interpreter is a program that runs Python code one line at a time, so there’s no need to compile it beforehand. It can work in two ways: there's an interactive mode for quick tests, and then there's script mode for running full programs."
      ],
      "metadata": {
        "id": "37yOCS0lYlj-"
      },
      "execution_count": null,
      "outputs": []
    },
    {
      "cell_type": "code",
      "source": [
        "#Ques3- What are pre-defined keywords in Python?\n",
        "#Ans- In Python, there are certain words that are set only for specific purposes. These reserved words cannot be used as names for variables or functions.\n",
        "#example :-\n",
        "help(\"keywords\")"
      ],
      "metadata": {
        "colab": {
          "base_uri": "https://localhost:8080/"
        },
        "id": "fdsP7sahYlaa",
        "outputId": "26e16df4-5c2e-43cc-f7ec-ca3bad5becd2"
      },
      "execution_count": null,
      "outputs": [
        {
          "output_type": "stream",
          "name": "stdout",
          "text": [
            "\n",
            "Here is a list of the Python keywords.  Enter any keyword to get more help.\n",
            "\n",
            "False               class               from                or\n",
            "None                continue            global              pass\n",
            "True                def                 if                  raise\n",
            "and                 del                 import              return\n",
            "as                  elif                in                  try\n",
            "assert              else                is                  while\n",
            "async               except              lambda              with\n",
            "await               finally             nonlocal            yield\n",
            "break               for                 not                 \n",
            "\n"
          ]
        }
      ]
    },
    {
      "cell_type": "code",
      "source": [
        "#Ques4- Can keywords be used as variable names?\n",
        "#Ans- No, keywords cannot be used as variable names as they are reserved for specific purposes."
      ],
      "metadata": {
        "id": "-u0BK9RAiKoI"
      },
      "execution_count": null,
      "outputs": []
    },
    {
      "cell_type": "code",
      "source": [
        "#Ques5-  What is mutability in Python?\n",
        "#Ans- Mutability is about whether an object can be changed after it has been created. Objects that can be changed are considered mutable.\n",
        "#Example :-\n",
        "my_list = [1, 2, 3, 2.0, 4.5, \"prashant\", \"cricket\", \"fruits\", \"True\"]\n",
        "print(my_list)\n",
        "my_list[6] = \"Game\"\n",
        "print(my_list)"
      ],
      "metadata": {
        "colab": {
          "base_uri": "https://localhost:8080/"
        },
        "id": "S2Wk5uhKjMql",
        "outputId": "76ec070f-6ea5-4759-bf7e-89875208b32f"
      },
      "execution_count": null,
      "outputs": [
        {
          "output_type": "stream",
          "name": "stdout",
          "text": [
            "[1, 2, 3, 2.0, 4.5, 'prashant', 'cricket', 'fruits', 'True']\n",
            "[1, 2, 3, 2.0, 4.5, 'prashant', 'Game', 'fruits', 'True']\n"
          ]
        }
      ]
    },
    {
      "cell_type": "code",
      "source": [
        "#Ques6- Why are lists mutable, but tuples are immutable?\n",
        "#Ans- We can change the elements in lists, which makes them flexible. On the other hand, tuples are fixed; once we make them, we can't alter their elements."
      ],
      "metadata": {
        "id": "d728VXH_oSVX"
      },
      "execution_count": null,
      "outputs": []
    },
    {
      "cell_type": "code",
      "source": [
        "#Ques7-  What is the difference between “==” and “is” operators in Python?\n",
        "#Ans- \"==\" compares two values to see if they are the same, while \"is\" checks if two variables point to the same object in memory.\n",
        "#Example:-\n",
        "x = 511\n",
        "y = 10\n",
        "print(x == y)\n",
        "#\"is\" operator example\n",
        "a = [1, 2, 3]\n",
        "b = a\n",
        "print(a is b)"
      ],
      "metadata": {
        "colab": {
          "base_uri": "https://localhost:8080/"
        },
        "id": "MqQitwsSkJ8M",
        "outputId": "36e66980-785b-4120-8700-1a0ea329457a"
      },
      "execution_count": null,
      "outputs": [
        {
          "output_type": "stream",
          "name": "stdout",
          "text": [
            "False\n",
            "True\n"
          ]
        }
      ]
    },
    {
      "cell_type": "code",
      "source": [
        "#Ques8- What are logical operators in Python?\n",
        "#Ans- In Python, there are three main logical operators: and, or, and not. These help connect different conditional statements.\n",
        "#Example -\n",
        "a = True\n",
        "b = False\n",
        "print(a and b)\n",
        "print(a or b)"
      ],
      "metadata": {
        "colab": {
          "base_uri": "https://localhost:8080/"
        },
        "id": "RXofp3HbklN1",
        "outputId": "dff3205a-6f8d-42c8-c1b3-069d90426ffb"
      },
      "execution_count": null,
      "outputs": [
        {
          "output_type": "stream",
          "name": "stdout",
          "text": [
            "False\n",
            "True\n"
          ]
        }
      ]
    },
    {
      "cell_type": "code",
      "source": [
        "#Ques9- What is type casting in Python?\n",
        "#Ans- Type casting is the process of changing a variable from one kind of data to another, like turning an integer into a float or a string into an integer.\n",
        "#Example :-\n",
        "age = 23\n",
        "type(age)\n"
      ],
      "metadata": {
        "id": "XhW4uu8Dnus6",
        "colab": {
          "base_uri": "https://localhost:8080/"
        },
        "outputId": "c9fbbbbc-62f9-499f-9d23-4c06d848b3b0"
      },
      "execution_count": 5,
      "outputs": [
        {
          "output_type": "execute_result",
          "data": {
            "text/plain": [
              "int"
            ]
          },
          "metadata": {},
          "execution_count": 5
        }
      ]
    },
    {
      "cell_type": "code",
      "source": [
        "age = str(age)\n",
        "type(age)"
      ],
      "metadata": {
        "colab": {
          "base_uri": "https://localhost:8080/"
        },
        "id": "wPiYx5txyfYU",
        "outputId": "6555301d-d1a8-41f0-86ed-65d3e0f00d3e"
      },
      "execution_count": 6,
      "outputs": [
        {
          "output_type": "execute_result",
          "data": {
            "text/plain": [
              "str"
            ]
          },
          "metadata": {},
          "execution_count": 6
        }
      ]
    },
    {
      "cell_type": "code",
      "source": [
        "#Ques10- What is the difference between implicit and explicit type casting?\n",
        "#Ans- In Python, type casting can happen on its own without any extra help. But if we want to change a type ourself, then we need to use functions like int(), float(), or str()."
      ],
      "metadata": {
        "id": "CGb9tBRjzsPN"
      },
      "execution_count": null,
      "outputs": []
    },
    {
      "cell_type": "code",
      "source": [
        "#Ques11- What is the purpose of conditional statements in Python?\n",
        "#Ans- Conditional statements such as if, elif, and else help decide how a program runs depending on certain conditions."
      ],
      "metadata": {
        "id": "q4mUJnR90Vm6"
      },
      "execution_count": null,
      "outputs": []
    },
    {
      "cell_type": "code",
      "source": [
        "#Ques12- How does the elif statement work\n",
        "#Ans- The elif statement looks at other conditions if the previous if condition doesn't hold true, and then it runs just one block of code.\n"
      ],
      "metadata": {
        "id": "gTHjuZya019y"
      },
      "execution_count": null,
      "outputs": []
    },
    {
      "cell_type": "code",
      "source": [
        "#Ques13- What is the difference between for and while loops?\n",
        "#Ans-  \"for\" loop goes through each item in a sequence, while a \"while\" loop keeps going as long as a certain condition remains true.\n",
        ""
      ],
      "metadata": {
        "id": "qRhS5mBx19aB"
      },
      "execution_count": null,
      "outputs": []
    },
    {
      "cell_type": "code",
      "source": [
        "#Ques14- Describe a scenario where a while loop is more suitable than a for?\n",
        "#Ans- It’s a good idea to use a while loop when we don’t know how many times it will run. This situation often comes up when we are waiting for the user to give input or for a certain condition to be true.\n",
        "#Example :-\n",
        "# Number guessing game\n",
        "secret_number = 7\n",
        "guess = None\n",
        "\n",
        "while guess != secret_number:\n",
        "    guess = int(input(\"What’s your guess for the secret number (between 1 and 10)? \"))\n",
        "    if guess < secret_number:\n",
        "        print(\"That’s too low! Give it another shot.\")\n",
        "    elif guess > secret_number:\n",
        "        print(\"That’s too high! Try again.\")\n",
        "    else:\n",
        "        print(\"Well done! You got it.\")\n"
      ],
      "metadata": {
        "colab": {
          "base_uri": "https://localhost:8080/"
        },
        "id": "Q4K6ZTzs22Qv",
        "outputId": "9df499f5-fddb-4e20-c3fa-386380ff8353"
      },
      "execution_count": 1,
      "outputs": [
        {
          "output_type": "stream",
          "name": "stdout",
          "text": [
            "What’s your guess for the secret number (between 1 and 10)? 2\n",
            "That’s too low! Give it another shot.\n",
            "What’s your guess for the secret number (between 1 and 10)? 6\n",
            "That’s too low! Give it another shot.\n",
            "What’s your guess for the secret number (between 1 and 10)? 9\n",
            "That’s too high! Try again.\n",
            "What’s your guess for the secret number (between 1 and 10)? 0\n",
            "That’s too low! Give it another shot.\n",
            "What’s your guess for the secret number (between 1 and 10)? 7\n",
            "Well done! You got it.\n"
          ]
        }
      ]
    },
    {
      "cell_type": "markdown",
      "source": [
        "# **Practicle questions**\n"
      ],
      "metadata": {
        "id": "aL1QRr6q9DWM"
      }
    },
    {
      "cell_type": "code",
      "source": [
        "#Ques1- Write a Python program to print \"Hello, World!\"\n",
        "print(\"Hello, World!\")"
      ],
      "metadata": {
        "colab": {
          "base_uri": "https://localhost:8080/"
        },
        "id": "uhvHVFj09RD8",
        "outputId": "1852d51d-48cf-41dd-93a4-305c34ea93e6"
      },
      "execution_count": 2,
      "outputs": [
        {
          "output_type": "stream",
          "name": "stdout",
          "text": [
            "Hello, World!\n"
          ]
        }
      ]
    },
    {
      "cell_type": "code",
      "source": [
        "#Ques2- Write a Python program that displays your name and age.\n",
        "name = \"prashant\"\n",
        "age = 23\n",
        "print(\"My name is\", name, \"and my age is\", age)"
      ],
      "metadata": {
        "colab": {
          "base_uri": "https://localhost:8080/"
        },
        "id": "ssfExpMTbHPR",
        "outputId": "5761c4c3-c327-4cc8-87d8-66af452ad938"
      },
      "execution_count": 7,
      "outputs": [
        {
          "output_type": "stream",
          "name": "stdout",
          "text": [
            "My name is prashant and my age is 23\n"
          ]
        }
      ]
    },
    {
      "cell_type": "code",
      "source": [
        "#Ques3- Write code to print all the pre-defined keywords in Python using the keyword library\n",
        "import keyword\n",
        "print(keyword.kwlist)\n"
      ],
      "metadata": {
        "colab": {
          "base_uri": "https://localhost:8080/"
        },
        "id": "hmTRfjB-bh8d",
        "outputId": "c3211504-715c-43c0-bf0e-2de78cb31592"
      },
      "execution_count": 10,
      "outputs": [
        {
          "output_type": "stream",
          "name": "stdout",
          "text": [
            "['False', 'None', 'True', 'and', 'as', 'assert', 'async', 'await', 'break', 'class', 'continue', 'def', 'del', 'elif', 'else', 'except', 'finally', 'for', 'from', 'global', 'if', 'import', 'in', 'is', 'lambda', 'nonlocal', 'not', 'or', 'pass', 'raise', 'return', 'try', 'while', 'with', 'yield']\n"
          ]
        }
      ]
    },
    {
      "cell_type": "code",
      "source": [
        "#Ques4- Write a program that checks if a given word is a Python keyword.\n",
        "import keyword\n",
        "word = input(\"Enter a word: \")\n",
        "if keyword.iskeyword(word):\n",
        "    print(\"{word} is a Python keyword.\")\n",
        "else:\n",
        "    print(\"{word} is not a Python keyword.\")\n"
      ],
      "metadata": {
        "colab": {
          "base_uri": "https://localhost:8080/"
        },
        "id": "kvL7aoxWb9nR",
        "outputId": "3dc5c559-6299-4ce2-f512-96a1af983a2e"
      },
      "execution_count": 18,
      "outputs": [
        {
          "output_type": "stream",
          "name": "stdout",
          "text": [
            "Enter a word: Word\n",
            "{word} is not a Python keyword.\n"
          ]
        }
      ]
    },
    {
      "cell_type": "code",
      "source": [
        "#Ques5- Create a list and tuple in Python, and demonstrate how attempting to change an element works differently for each.\n",
        "# List (mutable)\n",
        "my_list = [1, 2, 3]\n",
        "my_list[0] = 10\n",
        "print(\"Modified list:\", my_list)\n",
        "\n",
        "# Tuple (immutable)\n",
        "my_tuple = (1, 2, 3)\n",
        "try:\n",
        "    my_tuple[0] = 10\n",
        "except TypeError:\n",
        "    print(\"Tuples are immutable.\")\n"
      ],
      "metadata": {
        "colab": {
          "base_uri": "https://localhost:8080/"
        },
        "id": "FJIYaa5AcbLz",
        "outputId": "c916f5cc-82cd-4149-c1bb-7f0897432a1e"
      },
      "execution_count": 20,
      "outputs": [
        {
          "output_type": "stream",
          "name": "stdout",
          "text": [
            "Modified list: [10, 2, 3]\n",
            "Tuples are immutable.\n"
          ]
        }
      ]
    },
    {
      "cell_type": "code",
      "source": [
        "#Ques6- Write a function to demonstrate the behavior of mutable and immutable arguments.\n",
        "def modify_list(my_list):\n",
        "    my_list.append(4)\n",
        "\n",
        "def modify_string(my_str):\n",
        "    my_str += \" world\"\n",
        "\n",
        "lst = [1, 2, 3]\n",
        "modify_list(lst)\n",
        "print(\"Mutable argument (list):\", lst)\n",
        "\n",
        "string = \"Hello\"\n",
        "modify_string(string)\n",
        "print(\"Immutable argument (string):\", string)\n",
        "\n"
      ],
      "metadata": {
        "colab": {
          "base_uri": "https://localhost:8080/"
        },
        "id": "IQy2TjqfeIQ4",
        "outputId": "eb72203d-5cb5-4684-ff9c-fd5880f3f83b"
      },
      "execution_count": 25,
      "outputs": [
        {
          "output_type": "stream",
          "name": "stdout",
          "text": [
            "Mutable argument (list): [1, 2, 3, 4]\n",
            "Immutable argument (string): Hello\n"
          ]
        }
      ]
    },
    {
      "cell_type": "code",
      "source": [
        "#Ques8- Write a program to demonstrate the use of logical operators.\n",
        "a, b, c = True, False, True\n",
        "print(\"a and b:\", a and b)\n",
        "print(\"a or b:\", a or b)\n",
        "print(\"not c:\", not c)\n",
        "\n"
      ],
      "metadata": {
        "colab": {
          "base_uri": "https://localhost:8080/"
        },
        "id": "hj5e8TbWnkZ-",
        "outputId": "64b50cfc-3c53-457c-f6a2-94a0e03479e9"
      },
      "execution_count": 26,
      "outputs": [
        {
          "output_type": "stream",
          "name": "stdout",
          "text": [
            "a and b: False\n",
            "a or b: True\n",
            "not c: False\n"
          ]
        }
      ]
    },
    {
      "cell_type": "code",
      "source": [
        "#Ques9- Write a Python program to convert user input from string to integer, float, and boolean types.\n",
        "user_input = input(\"Enter a value: \")\n",
        "print(\"A integer:\", int(user_input))\n",
        "print(\"A float:\", float(user_input))\n",
        "print(\"A boolean:\", bool(user_input))\n"
      ],
      "metadata": {
        "colab": {
          "base_uri": "https://localhost:8080/"
        },
        "id": "Ij0Y-U5Hpvkn",
        "outputId": "595d0dee-1a8d-4a74-fe05-4a6830fff285"
      },
      "execution_count": 30,
      "outputs": [
        {
          "output_type": "stream",
          "name": "stdout",
          "text": [
            "Enter a value: 60\n",
            "A integer: 60\n",
            "A float: 60.0\n",
            "A boolean: True\n"
          ]
        }
      ]
    },
    {
      "cell_type": "code",
      "source": [
        "#Ques10- Write code to demonstrate type casting with list elements.\n",
        "#Ans - don't know to solve this."
      ],
      "metadata": {
        "id": "mwrRCokCqCw6"
      },
      "execution_count": null,
      "outputs": []
    },
    {
      "cell_type": "code",
      "source": [
        "#Ques11- Write a program that checks if a number is positive, negative, or zero.\n",
        "num = float(input(\"Enter a number: \"))\n",
        "if num > 0:\n",
        "    print(\"Positive\")\n",
        "elif num < 0:\n",
        "    print(\"Negative\")\n",
        "else:\n",
        "    print(\"Zero\")"
      ],
      "metadata": {
        "colab": {
          "base_uri": "https://localhost:8080/"
        },
        "id": "eBDcO06_rgLS",
        "outputId": "cee85f0b-d18b-4bba-d8a1-2e62c00d70bc"
      },
      "execution_count": 37,
      "outputs": [
        {
          "output_type": "stream",
          "name": "stdout",
          "text": [
            "Enter a number: 65\n",
            "Positive\n"
          ]
        }
      ]
    },
    {
      "cell_type": "code",
      "source": [
        "#Ques12- Write a for loop to print numbers from 1 to 10.\n",
        "for i in range(1, 11):\n",
        "    print(i)"
      ],
      "metadata": {
        "colab": {
          "base_uri": "https://localhost:8080/"
        },
        "id": "YKjW3Omrr9UM",
        "outputId": "75aeb866-d294-4d66-f11a-531c2dd0588e"
      },
      "execution_count": 38,
      "outputs": [
        {
          "output_type": "stream",
          "name": "stdout",
          "text": [
            "1\n",
            "2\n",
            "3\n",
            "4\n",
            "5\n",
            "6\n",
            "7\n",
            "8\n",
            "9\n",
            "10\n"
          ]
        }
      ]
    },
    {
      "cell_type": "code",
      "source": [
        "#Ques13- Write a Python program to find the sum of all even numbers between 1 and 50.\n",
        "total = sum(i for i in range(1, 51) if i % 2 == 0)\n",
        "print(\"Sum of even numbers:\", total)\n"
      ],
      "metadata": {
        "colab": {
          "base_uri": "https://localhost:8080/"
        },
        "id": "8zG5IKubs8Xq",
        "outputId": "6c5817d3-9f02-499e-c323-0b71ba7a1699"
      },
      "execution_count": 39,
      "outputs": [
        {
          "output_type": "stream",
          "name": "stdout",
          "text": [
            "Sum of even numbers: 650\n"
          ]
        }
      ]
    },
    {
      "cell_type": "code",
      "source": [
        "#Ques-14 Write a program to reverse a string using a while loop.\n",
        "string = input(\"Enter a string: \")\n",
        "reversed_string = \"\"\n",
        "i = len(string) - 1\n",
        "while i >= 0:\n",
        "    reversed_string += string[i]\n",
        "    i -= 1\n",
        "print(\"Reversed string:\", reversed_string)\n"
      ],
      "metadata": {
        "colab": {
          "base_uri": "https://localhost:8080/"
        },
        "id": "8-15HzLAtM98",
        "outputId": "f37e41e0-e387-487a-b088-ec413e8f0ee9"
      },
      "execution_count": 40,
      "outputs": [
        {
          "output_type": "stream",
          "name": "stdout",
          "text": [
            "Enter a string: heloo\n",
            "Reversed string: ooleh\n"
          ]
        }
      ]
    },
    {
      "cell_type": "code",
      "source": [
        "#Ques15- Write a Python program to calculate the factorial of a number provided by the user using a while loop.\n",
        "num = int(input(\"Enter a number: \"))\n",
        "factorial = 1\n",
        "while num > 0:\n",
        "    factorial *= num\n",
        "    num -= 1\n",
        "print(\"Factorial:\", factorial)\n"
      ],
      "metadata": {
        "colab": {
          "base_uri": "https://localhost:8080/"
        },
        "id": "e2RIJ8KdtqH_",
        "outputId": "d0848c1c-5491-416c-8214-eb013d9d2c7a"
      },
      "execution_count": 43,
      "outputs": [
        {
          "output_type": "stream",
          "name": "stdout",
          "text": [
            "Enter a number: 0\n",
            "Factorial: 1\n"
          ]
        }
      ]
    }
  ]
}