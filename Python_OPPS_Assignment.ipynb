{
  "nbformat": 4,
  "nbformat_minor": 0,
  "metadata": {
    "colab": {
      "provenance": []
    },
    "kernelspec": {
      "name": "python3",
      "display_name": "Python 3"
    },
    "language_info": {
      "name": "python"
    }
  },
  "cells": [
    {
      "cell_type": "code",
      "source": [
        "#Ques 1 What is Object-Oriented Programming (OOP)\n",
        "#Ans- Object-Oriented Programming, or OOP, is a way of coding that focuses on using \"objects\" to handle both data and functions.\n",
        "#It highlights ideas like putting things together, sharing features, and using one form in different ways.\n",
        "#This approach leads to code that is easier to break down, reuse, and keep neat.\n",
        "#OOP is great for reflecting real-life things and connections, which makes it simpler to handle complicated software systems."
      ],
      "metadata": {
        "id": "ezdg66pN5z32"
      },
      "execution_count": 1,
      "outputs": []
    },
    {
      "cell_type": "code",
      "source": [
        "#Ques2  What is a class in OOP?\n",
        "#Ans- Object-Oriented Programming (OOP) is a programming paradigm that uses \"objects\" to represent data and methods.\n",
        "#It emphasizes concepts such as encapsulation, inheritance, and polymorphism, allowing for modular, reusable, and organized code. OOP helps in modeling real-world entities and relationships, making it easier to manage complex software systems."
      ],
      "metadata": {
        "id": "d_Lq6wXl5z1D"
      },
      "execution_count": null,
      "outputs": []
    },
    {
      "cell_type": "code",
      "source": [
        "#Ques3 What is an object in OOP\n",
        "#Ans- An object in OOP is an instance of a class that encapsulates data (attributes) and behavior (methods) related to a specific entity."
      ],
      "metadata": {
        "id": "sykoTSp75zyX"
      },
      "execution_count": null,
      "outputs": []
    },
    {
      "cell_type": "code",
      "source": [
        "#Ques4 What is the difference between abstraction and encapsulation?\n",
        "#Ans- Abstraction is the concept of hiding complex implementation details and showing only the essential features of an object,\n",
        "#while encapsulation is the bundling of data and methods that operate on that data within a class, restricting direct access to some of the object's components."
      ],
      "metadata": {
        "id": "Q6RaJZCn5zvl"
      },
      "execution_count": null,
      "outputs": []
    },
    {
      "cell_type": "code",
      "source": [
        "#Ques5 What are dunder methods in Python?\n",
        "#Ans- Dunder methods, or \"double underscore methods,\" in Python are special methods that begin and end with double underscores (e.g., __init__, __str__).\n",
        "#They allow developers to define the behavior of objects for built-in operations, such as initialization, string representation, and arithmetic operations, enabling customization of object behavior."
      ],
      "metadata": {
        "id": "f334CiTK5zs-"
      },
      "execution_count": null,
      "outputs": []
    },
    {
      "cell_type": "code",
      "source": [
        "#Ques6 Explain the concept of inheritance in OOP\n",
        "#Ans- Inheritance is a mechanism in object-oriented programming that allows you to create a new class (child class) based on an existing class (parent class).\n",
        "#The child class inherits the properties and methods of the parent class and can add its own."
      ],
      "metadata": {
        "id": "u3ehCJCW5zoL"
      },
      "execution_count": null,
      "outputs": []
    },
    {
      "cell_type": "code",
      "source": [
        "#Ques7 What is polymorphism in OOP?\n",
        "#Ans- Polymorphism means \"many forms\".\n",
        "#In OOP, polymorphism allows you to perform the same action on different objects of different classes in a uniform way."
      ],
      "metadata": {
        "id": "8A-7s3AA5zlm"
      },
      "execution_count": null,
      "outputs": []
    },
    {
      "cell_type": "code",
      "source": [
        "#Ques8 How is encapsulation achieved in Python?\n",
        "#Ans- Encapsulation is achieved by wrapping data and methods within a class and controlling access to them through the class interface.\n",
        "#This helps to protect the internal state of the object and prevent accidental changes."
      ],
      "metadata": {
        "id": "nK5d4xeF5zjP"
      },
      "execution_count": null,
      "outputs": []
    },
    {
      "cell_type": "code",
      "source": [
        "#Ques9 What is a constructor in Python?\n",
        "#Ans- A constructor is a special method that is called automatically when an object of the class is created.\n",
        "#It is used to initialize the object's attributes."
      ],
      "metadata": {
        "id": "BJSNbhBV5zex"
      },
      "execution_count": null,
      "outputs": []
    },
    {
      "cell_type": "code",
      "source": [
        "#Ques10 What are class and static methods in Python?\n",
        "#Ans- Class Methods: Methods that are bound to the class itself and can be called on the class directly. They are typically used for operations that involve the class as a whole, rather than specific instances.\n",
        "#Static Methods: Methods that are not bound to the class or an instance and can be called without creating an object of the class. They are typically used for utility functions that don't require access to class or instance data."
      ],
      "metadata": {
        "id": "tO4yafzh5zcD"
      },
      "execution_count": null,
      "outputs": []
    },
    {
      "cell_type": "code",
      "source": [
        "#Ques11 What is method overloading in Python?\n",
        "#Ans- Method overloading is a concept where multiple methods with the same name but different parameters are defined within a class.\n",
        "#Python doesn't support method overloading in the traditional sense. Instead, you can use optional arguments or keyword arguments to achieve similar functionality."
      ],
      "metadata": {
        "id": "OLHIAwpV5zZk"
      },
      "execution_count": null,
      "outputs": []
    },
    {
      "cell_type": "code",
      "source": [
        "#Ques12 What is method overriding in OOP?\n",
        "#Ans Method overriding is when a subclass defines a method with the same name and signature as a method in its parent class.\n",
        "#This allows the subclass to provide a different implementation for that method, tailoring it to its specific needs"
      ],
      "metadata": {
        "id": "egmlqtBq5zVF"
      },
      "execution_count": null,
      "outputs": []
    },
    {
      "cell_type": "code",
      "source": [
        "#Ques13 What is a property decorator in Python?\n",
        "#A property decorator in Python is a way to control access to an attribute of a class.\n",
        "#They allow you to define custom getter, setter, and deleter methods for an attribute.\n",
        "#This provides a more controlled and flexible way to manage data within your clas"
      ],
      "metadata": {
        "id": "D0WxEDBi5zSf"
      },
      "execution_count": null,
      "outputs": []
    },
    {
      "cell_type": "code",
      "source": [
        "#Ques14 Why is polymorphism important in OOP?\n",
        "#Ans Polymorphism allows objects of different classes to be treated as objects of a common type, making code more flexible and reusable."
      ],
      "metadata": {
        "id": "nKpSGOYD5zQG"
      },
      "execution_count": 2,
      "outputs": []
    },
    {
      "cell_type": "code",
      "source": [
        "#Ques15 What is an abstract class in Python?\n",
        "#Ans An abstract class is a class that cannot be instantiated, it acts as a blueprint for other classes"
      ],
      "metadata": {
        "id": "TWU1I_875zLo"
      },
      "execution_count": 3,
      "outputs": []
    },
    {
      "cell_type": "code",
      "source": [
        "#Ques16 What are the advantages of OOP?\n",
        "#Ans- Code Reusability: OOP allows the reuse of existing code, reducing development time and effort.\n",
        "#Maintainability: OOP makes code easier to maintain by isolating changes to specific classes.\n",
        "#Modularity: OOP allows breaking down complex problems into smaller, more manageable modules."
      ],
      "metadata": {
        "id": "TbfYwmlK5zId"
      },
      "execution_count": null,
      "outputs": []
    },
    {
      "cell_type": "code",
      "source": [
        "#Ques17 What is the difference between a class variable and an instance variable?\n",
        "#Ans Class Variable: A class variable is shared by all instances of the class.\n",
        "#Instance Variable: An instance variable is unique to each instance of the class."
      ],
      "metadata": {
        "id": "uEFDZAni5zFz"
      },
      "execution_count": null,
      "outputs": []
    },
    {
      "cell_type": "code",
      "source": [
        "#Ques18 What is multiple inheritance in Python?\n",
        "#Ans Multiple inheritance allows a class to inherit attributes and methods from multiple parent classes."
      ],
      "metadata": {
        "id": "bQuj1q_q5zCa"
      },
      "execution_count": null,
      "outputs": []
    },
    {
      "cell_type": "code",
      "source": [
        "#Ques19 Explain the purpose of \"_str' and 'repr'' methods in Python.\n",
        "#Ans str: Returns a human-readable string representation of an object.\n",
        "#repr : Returns a string representation of an object that can be used to recreate the object."
      ],
      "metadata": {
        "id": "x-V2qrpm5zAA"
      },
      "execution_count": null,
      "outputs": []
    },
    {
      "cell_type": "code",
      "source": [
        "#Ques20 What is the significance of the 'super()' function in Python?+\n",
        "#Ans The super() function allows you to access methods of the parent class from a subclass."
      ],
      "metadata": {
        "id": "bjRLvvis5y5w"
      },
      "execution_count": null,
      "outputs": []
    },
    {
      "cell_type": "code",
      "source": [
        "#Ques21 What is the significance of the del method in Python?\n",
        "#Ans The __del__ method is a destructor that is called when an object is garbage collected."
      ],
      "metadata": {
        "id": "BFJMkLMm5y2a"
      },
      "execution_count": null,
      "outputs": []
    },
    {
      "cell_type": "code",
      "source": [
        "#Ques22 What is the difference between @staticmethod and @classmethod in Python?\n",
        "#Ans @staticmethod: A static method is bound to a class, not an instance. It doesn't have access to self or cls.\n",
        "#@classmethod: A class method is bound to a class and can be called on the class directly. It has access to cls but not self"
      ],
      "metadata": {
        "id": "PsSfHrQ95yzG"
      },
      "execution_count": null,
      "outputs": []
    },
    {
      "cell_type": "code",
      "source": [
        "#Ques23 How does polymorphism work in Python with inheritance?\n",
        "#Ans In Python, polymorphism with inheritance allows objects of different classes to be treated as objects of a common superclass.\n",
        "#This enables code to interact with objects of different types without needing to know their specific class."
      ],
      "metadata": {
        "id": "9qkMoXKF5ywn"
      },
      "execution_count": null,
      "outputs": []
    },
    {
      "cell_type": "code",
      "source": [
        "#Ques24 What is method chaining in python OOP?\n",
        "#Method chaining is a technique that allows you to call multiple methods on an object in a sequential manner, using a dot operator."
      ],
      "metadata": {
        "id": "PtOr22Pp5yuV"
      },
      "execution_count": null,
      "outputs": []
    },
    {
      "cell_type": "code",
      "source": [
        "#Ques25  What is the purpose of the __call__ method in Python?\n",
        "#Ans The __call__ method allows an instance of a class to be called as if it were a function.\n",
        "#When you call an instance of a class, Python internally calls the __call__ method associated with that instance.\n",
        "#This allows you to create callable objects that can be used in a similar way to regular functions."
      ],
      "metadata": {
        "id": "reyaXjPt5yp-"
      },
      "execution_count": null,
      "outputs": []
    },
    {
      "cell_type": "markdown",
      "source": [
        "# **Practicle Questions**"
      ],
      "metadata": {
        "id": "bQ3Zv7C4HqWk"
      }
    },
    {
      "cell_type": "code",
      "source": [
        "#QUES1 Create a parent class Animal with a method speak() that prints a generic message.\n",
        "#Create a child class Dog that overrides the speak() method to print \"Bark!\"\n",
        "class Animal:\n",
        "  def speak(self):\n",
        "    print(\"Animal sound\")\n",
        "\n",
        "class Dog(Animal):\n",
        "  def speak(self):\n",
        "    print(\"Bark!\")\n",
        "\n",
        "dog = Dog()"
      ],
      "metadata": {
        "id": "cjPIrD2A5yl_"
      },
      "execution_count": 4,
      "outputs": []
    },
    {
      "cell_type": "code",
      "source": [
        "dog.speak()"
      ],
      "metadata": {
        "colab": {
          "base_uri": "https://localhost:8080/"
        },
        "id": "gl3_yTQ35yir",
        "outputId": "5d391c40-be70-4b25-de99-99b8719eb2bb"
      },
      "execution_count": 5,
      "outputs": [
        {
          "output_type": "stream",
          "name": "stdout",
          "text": [
            "Bark!\n"
          ]
        }
      ]
    },
    {
      "cell_type": "code",
      "source": [
        "#Ques2  Write a program to create an abstract class Shape with a method area().\n",
        "#Derive classes Circle and Rectangle from it and implement the area() method in both.\n",
        "#Ans\n",
        "from abc import ABC, abstractmethod\n",
        "\n",
        "class Shape(ABC):\n",
        "    @abstractmethod\n",
        "    def area(self):\n",
        "        pass\n",
        "\n",
        "class Circle(Shape):\n",
        "    def __init__(self, radius):\n",
        "        self.radius = radius\n",
        "\n",
        "    def area(self):\n",
        "        return 3.14159 * self.radius * self.radius\n",
        "\n",
        "class Rectangle(Shape):\n",
        "    def __init__(self, length, width):\n",
        "        self.length = length\n",
        "        self.width = width\n",
        "\n",
        "    def area(self):\n",
        "        return self.length * self.width\n",
        "\n",
        "circle = Circle(5)\n",
        "print(\"Area of circle:\", circle.area())\n",
        "\n",
        "rectangle = Rectangle(4, 6)\n",
        "print(\"Area of rectangle:\", rectangle.area())"
      ],
      "metadata": {
        "colab": {
          "base_uri": "https://localhost:8080/"
        },
        "id": "BFXkBrw85ygb",
        "outputId": "04ba0161-6358-4d1f-9b18-e8260f307c39"
      },
      "execution_count": 1,
      "outputs": [
        {
          "output_type": "stream",
          "name": "stdout",
          "text": [
            "Area of circle: 78.53975\n",
            "Area of rectangle: 24\n"
          ]
        }
      ]
    },
    {
      "cell_type": "code",
      "source": [
        "#Ques3 Implement a multi-level inheritance scenario where a class Vehicle has an attribute type. Derive a class Car and further derive a class ElectricCar that adds a battery attribute\n",
        "#Ans\n",
        "class Vehicle:\n",
        "    def __init__(self, type):\n",
        "        self.type = type\n",
        "\n",
        "    def display_info(self):\n",
        "        print(f\"Vehicle Type: {self.type}\")\n",
        "\n",
        "\n",
        "class Car(Vehicle):\n",
        "    def __init__(self, type, brand):\n",
        "        super().__init__(type)\n",
        "        self.brand = brand\n",
        "\n",
        "    def display_info(self):\n",
        "        super().display_info()\n",
        "        print(f\"Brand: {self.brand}\")\n",
        "\n",
        "\n",
        "class ElectricCar(Car):\n",
        "    def __init__(self, type, brand, battery):\n",
        "        super().__init__(type, brand)\n",
        "        self.battery = battery\n",
        "\n",
        "    def display_info(self):\n",
        "        super().display_info()\n",
        "        print(f\"Battery Capacity: {self.battery} kWh\")\n",
        "\n",
        "# instances of each class\n",
        "vehicle = Vehicle(\"Truck\")\n",
        "car = Car(\"Sedan\", \"Tesla\")\n",
        "electric_car = ElectricCar(\"Sports\", \"Porsche\", 100)\n",
        "\n",
        "vehicle.display_info()\n",
        "car.display_info()\n",
        "electric_car.display_info()"
      ],
      "metadata": {
        "colab": {
          "base_uri": "https://localhost:8080/"
        },
        "id": "nzbgogcY5ya_",
        "outputId": "72fd5afd-d4dc-4021-d828-55f6ae9fd2b9"
      },
      "execution_count": 3,
      "outputs": [
        {
          "output_type": "stream",
          "name": "stdout",
          "text": [
            "Vehicle Type: Truck\n",
            "Vehicle Type: Sedan\n",
            "Brand: Tesla\n",
            "Vehicle Type: Sports\n",
            "Brand: Porsche\n",
            "Battery Capacity: 100 kWh\n"
          ]
        }
      ]
    },
    {
      "cell_type": "code",
      "source": [
        "#Ques4 #Ques3 Implement a multi-level inheritance scenario where a class Vehicle has an attribute type. Derive a class Car and further derive a class ElectricCar that adds a battery attribute\n",
        "#Ans\n",
        "class Vehicle:\n",
        "    def __init__(self, type):\n",
        "        self.type = type\n",
        "\n",
        "    def display_info(self):\n",
        "        print(f\"Vehicle Type: {self.type}\")\n",
        "\n",
        "\n",
        "class Car(Vehicle):\n",
        "    def __init__(self, type, brand):\n",
        "        super().__init__(type)\n",
        "        self.brand = brand\n",
        "\n",
        "    def display_info(self):\n",
        "        super().display_info()\n",
        "        print(f\"Brand: {self.brand}\")\n",
        "\n",
        "\n",
        "class ElectricCar(Car):\n",
        "    def __init__(self, type, brand, battery):\n",
        "        super().__init__(type, brand)\n",
        "        self.battery = battery\n",
        "\n",
        "    def display_info(self):\n",
        "        super().display_info()\n",
        "        print(f\"Battery Capacity: {self.battery} kWh\")\n",
        "\n",
        "# instances of each class\n",
        "vehicle = Vehicle(\"Truck\")\n",
        "car = Car(\"Sedan\", \"Tesla\")\n",
        "electric_car = ElectricCar(\"Sports\", \"Porsche\", 100)\n",
        "\n",
        "vehicle.display_info()\n",
        "car.display_info()\n",
        "electric_car.display_info()"
      ],
      "metadata": {
        "colab": {
          "base_uri": "https://localhost:8080/"
        },
        "id": "21ZQ9UsS5yX0",
        "outputId": "14fd88e3-16a4-4578-8bc4-e56c71d9bf57"
      },
      "execution_count": 4,
      "outputs": [
        {
          "output_type": "stream",
          "name": "stdout",
          "text": [
            "Vehicle Type: Truck\n",
            "Vehicle Type: Sedan\n",
            "Brand: Tesla\n",
            "Vehicle Type: Sports\n",
            "Brand: Porsche\n",
            "Battery Capacity: 100 kWh\n"
          ]
        }
      ]
    },
    {
      "cell_type": "code",
      "source": [
        "#Ques5 Write a program to demonstrate encapsulation by creating a class BankAccount with private attributes balance and methods to deposit, withdraw, and check balance.\n",
        "#Ans\n",
        "class Bank: #either we deposite or withdraw.\n",
        "   def __init__(self, balance):\n",
        "    self.__balance = balance\n",
        "\n",
        "   def deposite(self, amount): #amount is deposition\n",
        "    self.__balance = self.__balance + amount\n",
        "\n",
        "   def withdraw(self, amount):\n",
        "    if self.__balance >= amount:\n",
        "      self.__balance = self.__balance - amount\n",
        "      return True\n",
        "    else:\n",
        "      return False\n",
        "   def get_balance(self):\n",
        "    return self.__balance"
      ],
      "metadata": {
        "id": "wANya3i45yVw"
      },
      "execution_count": 5,
      "outputs": []
    },
    {
      "cell_type": "code",
      "source": [
        "acc1 = Bank(5000)"
      ],
      "metadata": {
        "id": "xP4_cwFg5yR4"
      },
      "execution_count": 7,
      "outputs": []
    },
    {
      "cell_type": "code",
      "source": [
        "acc1.get_balance()"
      ],
      "metadata": {
        "colab": {
          "base_uri": "https://localhost:8080/"
        },
        "id": "WzOCR3mu5yPb",
        "outputId": "d18ce814-c136-4b05-8a33-4ff22bc4f26a"
      },
      "execution_count": 8,
      "outputs": [
        {
          "output_type": "execute_result",
          "data": {
            "text/plain": [
              "5000"
            ]
          },
          "metadata": {},
          "execution_count": 8
        }
      ]
    },
    {
      "cell_type": "code",
      "source": [
        "acc1.withdraw(1000)"
      ],
      "metadata": {
        "colab": {
          "base_uri": "https://localhost:8080/"
        },
        "id": "VBeNLA_G5yIX",
        "outputId": "0826eb0d-7558-4875-e1ae-b5b91ef943e0"
      },
      "execution_count": 9,
      "outputs": [
        {
          "output_type": "execute_result",
          "data": {
            "text/plain": [
              "True"
            ]
          },
          "metadata": {},
          "execution_count": 9
        }
      ]
    },
    {
      "cell_type": "code",
      "source": [
        "acc1.get_balance()"
      ],
      "metadata": {
        "colab": {
          "base_uri": "https://localhost:8080/"
        },
        "id": "d6ifWNax5yE3",
        "outputId": "dda610f1-2b0a-4e52-81dc-76aa412d7f68"
      },
      "execution_count": 10,
      "outputs": [
        {
          "output_type": "execute_result",
          "data": {
            "text/plain": [
              "4000"
            ]
          },
          "metadata": {},
          "execution_count": 10
        }
      ]
    },
    {
      "cell_type": "code",
      "source": [
        "#QUes6 Demonstrate runtime polymorphism using a method play() in a base class Instrument. Derive classes Guitar and Piano that implement their own version of play().\n",
        "#Ans\n",
        "class Instrument:\n",
        "  def play(self):\n",
        "    print(\"Playing a generic instrument\")\n",
        "\n",
        "class Guitar(Instrument):\n",
        "  def play(self):\n",
        "    print(\"Playing a guitar\")\n",
        "\n",
        "class Piano(Instrument):\n",
        "  def play(self):\n",
        "    print(\"Playing a piano\")\n",
        "\n",
        "guitar = Guitar()\n",
        "piano = Piano()\n",
        "\n",
        "guitar.play()\n",
        "piano.play()"
      ],
      "metadata": {
        "colab": {
          "base_uri": "https://localhost:8080/"
        },
        "id": "q5FQN1QU5yBG",
        "outputId": "ee0fc1e9-270b-492c-9390-3765803e53e6"
      },
      "execution_count": 11,
      "outputs": [
        {
          "output_type": "stream",
          "name": "stdout",
          "text": [
            "Playing a guitar\n",
            "Playing a piano\n"
          ]
        }
      ]
    },
    {
      "cell_type": "code",
      "source": [
        "#Ques7 Create a class MathOperations with a class method add_numbers() to add two numbers and a static method subtract_numbers() to subtract two numbers\n",
        "#Ans\n",
        "class MathOperations:\n",
        "    @classmethod\n",
        "    def add_numbers(cls, a, b):\n",
        "        \"\"\"\n",
        "        Adds two numbers.\n",
        "        Args:\n",
        "            a: The first number.\n",
        "            b: The second number.\n",
        "        Returns:\n",
        "            The sum of the two numbers.\n",
        "        \"\"\"\n",
        "        return a + b\n",
        "\n",
        "    @staticmethod\n",
        "    def subtract_numbers(a, b):\n",
        "        \"\"\"\n",
        "        Subtracts two numbers.\n",
        "        Args:\n",
        "            a: The first number.\n",
        "            b: The second number.\n",
        "        Returns:\n",
        "            The difference of the two numbers.\n",
        "        \"\"\"\n",
        "        return a - b"
      ],
      "metadata": {
        "id": "rXXVfUUn5x9X"
      },
      "execution_count": 12,
      "outputs": []
    },
    {
      "cell_type": "code",
      "source": [
        "result1 = MathOperations.add_numbers(10, 3)\n",
        "result2 = MathOperations.subtract_numbers(10, 2)"
      ],
      "metadata": {
        "id": "Ngi6rvwl5x7M"
      },
      "execution_count": 13,
      "outputs": []
    },
    {
      "cell_type": "code",
      "source": [
        "result1"
      ],
      "metadata": {
        "colab": {
          "base_uri": "https://localhost:8080/"
        },
        "id": "-y3g3Fjd5x2H",
        "outputId": "faad747b-746d-4181-fb38-558a632e4292"
      },
      "execution_count": 17,
      "outputs": [
        {
          "output_type": "execute_result",
          "data": {
            "text/plain": [
              "13"
            ]
          },
          "metadata": {},
          "execution_count": 17
        }
      ]
    },
    {
      "cell_type": "code",
      "source": [
        "result2"
      ],
      "metadata": {
        "colab": {
          "base_uri": "https://localhost:8080/"
        },
        "id": "m_2BfR6-5xyw",
        "outputId": "f33280d5-227c-4535-b4c2-bb41a8c2e175"
      },
      "execution_count": 16,
      "outputs": [
        {
          "output_type": "execute_result",
          "data": {
            "text/plain": [
              "8"
            ]
          },
          "metadata": {},
          "execution_count": 16
        }
      ]
    },
    {
      "cell_type": "code",
      "source": [
        "#Ques8 Implement a class Person with a class method to count the total number of persons created\n",
        "#Ans"
      ],
      "metadata": {
        "id": "4ZRBpHnD5xwh"
      },
      "execution_count": 25,
      "outputs": []
    },
    {
      "cell_type": "code",
      "source": [
        "#Ques9  Write a class Fraction with attributes numerator and denominator. Override the str method to display the fraction as \"numerator/denominator\".\n",
        "#Ans\n",
        "class Fraction:\n",
        "    \"\"\"Represents a fraction with a numerator and denominator.\"\"\"\n",
        "\n",
        "    def __init__(self, numerator, denominator):\n",
        "        \"\"\"Initializes a Fraction object.\n",
        "        Args:\n",
        "            numerator: The numerator of the fraction.\n",
        "            denominator: The denominator of the fraction.\n",
        "        \"\"\"\n",
        "        self.numerator = numerator\n",
        "        self.denominator = denominator\n",
        "\n",
        "    def __str__(self):\n",
        "        \"\"\"Returns a string representation of the fraction.\"\"\"\n",
        "        return f\"{self.numerator}/{self.denominator}\""
      ],
      "metadata": {
        "id": "1EwN3hOR5xt5"
      },
      "execution_count": 29,
      "outputs": []
    },
    {
      "cell_type": "code",
      "source": [
        "my_fraction = Fraction(3, 4)\n",
        "print(my_fraction)\n"
      ],
      "metadata": {
        "colab": {
          "base_uri": "https://localhost:8080/"
        },
        "id": "Jsx-jepb5xoi",
        "outputId": "4dbbc234-a1df-45a2-8ffe-d07e34162ed1"
      },
      "execution_count": 28,
      "outputs": [
        {
          "output_type": "stream",
          "name": "stdout",
          "text": [
            "3/4\n"
          ]
        }
      ]
    },
    {
      "cell_type": "code",
      "source": [
        "#Ques10 Demonstrate operator overloading by creating a class Vector and overriding the add method to add two vectors.\n",
        "#Ans\n",
        "class Vector:\n",
        "    def __init__(self, x, y):\n",
        "        self.x = x\n",
        "        self.y = y\n",
        "\n",
        "    def __add__(self, other):\n",
        "        return Vector(self.x + other.x, self.y + other.y)\n",
        "\n",
        "    def __str__(self):\n",
        "        return f\"({self.x}, {self.y})\""
      ],
      "metadata": {
        "id": "PLG2RfvU5xlS"
      },
      "execution_count": 31,
      "outputs": []
    },
    {
      "cell_type": "code",
      "source": [
        "v1 = Vector(20, 2)\n",
        "v2 = Vector(3, 14)\n",
        "\n",
        "\n",
        "v3 = v1 + v2\n",
        "\n",
        "\n",
        "print(v3)"
      ],
      "metadata": {
        "colab": {
          "base_uri": "https://localhost:8080/"
        },
        "id": "Mkse6Jay5xiw",
        "outputId": "0113b72f-1885-49b5-c763-a4bbcfeda6b7"
      },
      "execution_count": 33,
      "outputs": [
        {
          "output_type": "stream",
          "name": "stdout",
          "text": [
            "(23, 16)\n"
          ]
        }
      ]
    },
    {
      "cell_type": "code",
      "source": [
        "#Ques11 Create a class Person with attributes name and age. Add a method greet() that prints \"Hello, my name is {name} and I am {age} years old.\"\n",
        "#Ans\n",
        "class Person:\n",
        "    def __init__(self, name, age):\n",
        "        self.name = name\n",
        "        self.age = age\n",
        "\n",
        "    def greet(self):\n",
        "        print(f\"Hello, my name is {self.name} and I am {self.age} years old.\")"
      ],
      "metadata": {
        "id": "vKjSvEin5xgz"
      },
      "execution_count": 34,
      "outputs": []
    },
    {
      "cell_type": "code",
      "source": [
        "person1 = Person(\"Prashant\", 23)\n",
        "person1.greet()"
      ],
      "metadata": {
        "colab": {
          "base_uri": "https://localhost:8080/"
        },
        "id": "b0f3Qoih5xc1",
        "outputId": "f83722e7-8b23-49ca-9b50-7be4ac9a1770"
      },
      "execution_count": 35,
      "outputs": [
        {
          "output_type": "stream",
          "name": "stdout",
          "text": [
            "Hello, my name is Prashant and I am 23 years old.\n"
          ]
        }
      ]
    },
    {
      "cell_type": "code",
      "source": [
        "#QUES12. Implement a class Student with attributes name and grades. Create a method average_grade() to compute the average of the grades\n",
        "#Ans\n",
        "class Student:\n",
        "    def __init__(self, name, grades):\n",
        "        self.name = name\n",
        "        self.grades = grades\n",
        "\n",
        "    def average_grade(self):\n",
        "        return sum(self.grades) / len(self.grades)\n"
      ],
      "metadata": {
        "id": "uSOEEwmA5xYD"
      },
      "execution_count": 37,
      "outputs": []
    },
    {
      "cell_type": "code",
      "source": [
        "student1 = Student(\"Prashant\", [90, 85, 95])\n",
        "\n",
        "average_grade = student1.average_grade()\n",
        "print(f\"The average grade of {student1.name} is {average_grade:.2f}\")"
      ],
      "metadata": {
        "colab": {
          "base_uri": "https://localhost:8080/"
        },
        "id": "hUavLd9a5xUx",
        "outputId": "c0733d97-bf58-468d-a705-e8e2bbc55d49"
      },
      "execution_count": 38,
      "outputs": [
        {
          "output_type": "stream",
          "name": "stdout",
          "text": [
            "The average grade of Prashant is 90.00\n"
          ]
        }
      ]
    },
    {
      "cell_type": "code",
      "source": [
        "#Ques13 Create a class Rectangle with methods set_dimensions() to set the dimensions and area() to calculate the area.\n",
        "#Ans\n",
        "class Rectangle:\n",
        "    def __init__(self):\n",
        "        self.length = 0\n",
        "        self.width = 0\n",
        "\n",
        "    def set_dimensions(self, length, width):\n",
        "        self.length = length\n",
        "        self.width = width\n",
        "\n",
        "    def area(self):\n",
        "        return self.length * self.width\n",
        "\n",
        "rectangle = Rectangle()\n",
        "\n",
        "rectangle.set_dimensions(5, 10)\n",
        "\n",
        "area = rectangle.area()\n",
        "\n",
        "print(\"Area of the rectangle:\", area)"
      ],
      "metadata": {
        "colab": {
          "base_uri": "https://localhost:8080/"
        },
        "id": "fJ8fUyHG5xRf",
        "outputId": "a1495db8-6b66-4093-8d5f-769fbe085fa3"
      },
      "execution_count": 50,
      "outputs": [
        {
          "output_type": "stream",
          "name": "stdout",
          "text": [
            "Area of the rectangle: 50\n"
          ]
        }
      ]
    },
    {
      "cell_type": "code",
      "source": [
        "#Ques14  Create a class Employee with a method calculate_salary() that computes the salary based on hours worked and hourly rate. Create a derived class Manager that adds a bonus to the salary\n",
        "#Ans not able to understand this one"
      ],
      "metadata": {
        "id": "tAdQGSpN5xOa"
      },
      "execution_count": 40,
      "outputs": []
    },
    {
      "cell_type": "code",
      "source": [
        "#Ques15 Create a class Product with attributes name, price, and quantity. Implement a method total_price() that calculates the total price of the product.\n",
        "#Ans\n",
        "class Product:\n",
        "    \"\"\"Represents a product with a name, price, and quantity.\"\"\"\n",
        "\n",
        "    def __init__(self, name, price, quantity):\n",
        "        \"\"\"\n",
        "        Initializes a Product object.\n",
        "        Args:\n",
        "            name (str): The name of the product.\n",
        "            price (float): The price of the product.\n",
        "            quantity (int): The quantity of the product.\n",
        "        \"\"\"\n",
        "        self.name = name\n",
        "        self.price = price\n",
        "        self.quantity = quantity\n",
        "\n",
        "    def total_price(self):\n",
        "        \"\"\"Calculates the total price of the product.\"\"\"\n",
        "        return self.price * self.quantity"
      ],
      "metadata": {
        "id": "QK_ee5HM5xK6"
      },
      "execution_count": 42,
      "outputs": []
    },
    {
      "cell_type": "code",
      "source": [
        "product1 = Product(\"Laptop\", 1200.00, 2)\n",
        "\n",
        "total_price = product1.total_price()\n",
        "\n",
        "print(f\"Total price of {product1.name}: ${total_price}\")"
      ],
      "metadata": {
        "colab": {
          "base_uri": "https://localhost:8080/"
        },
        "id": "gTj3t9CC5xIB",
        "outputId": "73ce7feb-8d19-4c59-b4ee-e392920de59e"
      },
      "execution_count": 45,
      "outputs": [
        {
          "output_type": "stream",
          "name": "stdout",
          "text": [
            "Total price of Laptop: $2400.0\n"
          ]
        }
      ]
    },
    {
      "cell_type": "code",
      "source": [
        "#Ques16 Create a class Animal with an abstract method sound(). Create two derived classes Cow and Sheep that implement the sound() method\n",
        "#Ans\n",
        "from abc import ABC, abstractmethod\n",
        "\n",
        "class Animal(ABC):\n",
        "    @abstractmethod\n",
        "    def sound(self):\n",
        "        pass\n",
        "\n",
        "class Cow(Animal):\n",
        "    def sound(self):\n",
        "        print(\"Moo\")\n",
        "\n",
        "class Sheep(Animal):\n",
        "    def sound(self):\n",
        "        print(\"Baa\")\n",
        "\n",
        "cow = Cow()\n",
        "sheep = Sheep()\n",
        "\n",
        "cow.sound()\n",
        "sheep.sound()"
      ],
      "metadata": {
        "colab": {
          "base_uri": "https://localhost:8080/"
        },
        "id": "CIpd4oG05xEX",
        "outputId": "e16faec2-f4b7-4db2-96e5-ecbf89a6d47d"
      },
      "execution_count": 46,
      "outputs": [
        {
          "output_type": "stream",
          "name": "stdout",
          "text": [
            "Moo\n",
            "Baa\n"
          ]
        }
      ]
    },
    {
      "cell_type": "code",
      "source": [
        "#Ques17 Create a class Book with attributes title, author, and year_published. Add a method get_book_info() that returns a formatted string with the book's details\n",
        "#Ans\n",
        "class Book:\n",
        "    def __init__(self, title, author, year_published):\n",
        "        self.title = title\n",
        "        self.author = author\n",
        "        self.year_published = year_published\n",
        "\n",
        "    def get_book_info(self):\n",
        "        return f\"Title: {self.title}\\nAuthor: {self.author}\\nYear Published: {self.year_published}\"\n",
        "\n",
        "book1 = Book(\"The Lord of the Rings\", \"J.R.R. Tolkien\", 1954)\n",
        "print(book1.get_book_info())"
      ],
      "metadata": {
        "colab": {
          "base_uri": "https://localhost:8080/"
        },
        "id": "CSC8giFB5xBy",
        "outputId": "01ae18e3-f8a5-4c4c-8b01-269750e58c42"
      },
      "execution_count": 49,
      "outputs": [
        {
          "output_type": "stream",
          "name": "stdout",
          "text": [
            "Title: The Lord of the Rings\n",
            "Author: J.R.R. Tolkien\n",
            "Year Published: 1954\n"
          ]
        }
      ]
    },
    {
      "cell_type": "code",
      "source": [],
      "metadata": {
        "id": "apbiqFrD5w9x"
      },
      "execution_count": 48,
      "outputs": []
    },
    {
      "cell_type": "code",
      "source": [],
      "metadata": {
        "id": "tkoWLNLT5w30"
      },
      "execution_count": null,
      "outputs": []
    },
    {
      "cell_type": "code",
      "source": [],
      "metadata": {
        "id": "WAEQIKBW5w1I"
      },
      "execution_count": null,
      "outputs": []
    },
    {
      "cell_type": "code",
      "source": [],
      "metadata": {
        "id": "aF9hQwrG5wup"
      },
      "execution_count": null,
      "outputs": []
    },
    {
      "cell_type": "code",
      "source": [],
      "metadata": {
        "id": "t6gQU-RH5wsc"
      },
      "execution_count": null,
      "outputs": []
    },
    {
      "cell_type": "code",
      "source": [],
      "metadata": {
        "id": "-aH8HuZB5woc"
      },
      "execution_count": null,
      "outputs": []
    },
    {
      "cell_type": "code",
      "source": [],
      "metadata": {
        "id": "17RZbz8o5wk5"
      },
      "execution_count": null,
      "outputs": []
    },
    {
      "cell_type": "code",
      "source": [],
      "metadata": {
        "id": "2g0susAZ5wgj"
      },
      "execution_count": null,
      "outputs": []
    },
    {
      "cell_type": "code",
      "source": [],
      "metadata": {
        "id": "n6C-CfQp5wdi"
      },
      "execution_count": null,
      "outputs": []
    },
    {
      "cell_type": "code",
      "source": [],
      "metadata": {
        "id": "9DLTvfMp5wbE"
      },
      "execution_count": null,
      "outputs": []
    },
    {
      "cell_type": "code",
      "source": [],
      "metadata": {
        "id": "wtukcRv_5wYb"
      },
      "execution_count": null,
      "outputs": []
    },
    {
      "cell_type": "code",
      "source": [],
      "metadata": {
        "id": "Tv9c0gQO5wV0"
      },
      "execution_count": null,
      "outputs": []
    },
    {
      "cell_type": "code",
      "source": [],
      "metadata": {
        "id": "7wSTAzrh5wSq"
      },
      "execution_count": null,
      "outputs": []
    },
    {
      "cell_type": "code",
      "source": [],
      "metadata": {
        "id": "JQGMtmNn5wMo"
      },
      "execution_count": null,
      "outputs": []
    },
    {
      "cell_type": "code",
      "execution_count": null,
      "metadata": {
        "id": "jYe5gwZd2Uif"
      },
      "outputs": [],
      "source": []
    }
  ]
}