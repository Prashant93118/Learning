{
  "nbformat": 4,
  "nbformat_minor": 0,
  "metadata": {
    "colab": {
      "provenance": []
    },
    "kernelspec": {
      "name": "python3",
      "display_name": "Python 3"
    },
    "language_info": {
      "name": "python"
    }
  },
  "cells": [
    {
      "cell_type": "code",
      "source": [
        "#Ques1  What is a random variable in probability theory?\n",
        "#Ans In probability theory, a random variable is a mathematical concept that represents a variable whose values depend on the outcomes of a random event or experiment. Simply put, it assigns a numerical value to each possible outcome in a probability space.\n",
        "#Two main types of random variables:\n",
        "#Discrete Random Variable: This variable takes on a countable number of distinct values. For example, the number of heads when flipping three coins.\n",
        "\n",
        "#Continuous Random Variable: This variable can take on an infinite number of values within a given range. For example, the time it takes for a bus to arrive, which could be any value within a continuous interval."
      ],
      "metadata": {
        "id": "8ILDxVBtvjjR"
      },
      "execution_count": null,
      "outputs": []
    },
    {
      "cell_type": "code",
      "source": [
        "#Ques2 What are the types of random variables?\n",
        "#Ans Random variables are categorized into two main types based on the nature of their possible values:\n",
        "#Discrete Random Variables:\n",
        "#These take on a finite or countable set of distinct values.\n",
        "#Example: The number of cars passing a traffic signal in an hour (e.g., 0, 1, 2, ...).\n",
        "\n",
        "#Continuous Random Variables:\n",
        "#These can take on any value within a continuous range or interval.\n",
        "#Example: The height of students in a class, which could be any real number within a certain range."
      ],
      "metadata": {
        "id": "CCKVi38Rvjf5"
      },
      "execution_count": null,
      "outputs": []
    },
    {
      "cell_type": "code",
      "source": [
        "#Ques3 What is the difference between discrete and continuous distributions?\n",
        "#Ans Discrete distributions describe probabilities of outcomes that are countable and distinct (e.g., rolling a dice: 1, 2, 3, etc.).\n",
        "#Continuous distributions describe probabilities over an interval of values, where outcomes can take any value within a range (e.g., height: 160.5 cm, 162.3 cm, etc.)."
      ],
      "metadata": {
        "id": "xEP6OXSdvjcE"
      },
      "execution_count": null,
      "outputs": []
    },
    {
      "cell_type": "code",
      "source": [
        "#Ques4 What are probability distribution functions (PDF)?\n",
        "#Ans In probability theory, a Probability Distribution Function (PDF) provides a mathematical description of the likelihood of different outcomes for a random variable.\n",
        "##There are two types of PDFs based on the type of random variable:\n",
        "\n",
        "#For discrete random variables: It's called the Probability Mass Function (PMF), which assigns probabilities to specific values.\n",
        "#Example: Tossing a coin where\n",
        "#P(Head) = 0.5 and P(Tail) = 0.5.\n",
        "\n",
        "#For continuous random variables: It's called the Probability Density Function, which describes the density of probabilities over a range of values. The probability of a single value is 0, but you calculate probabilities over intervals.\n",
        "#Example: Heights of people represented by a bell-shaped curve."
      ],
      "metadata": {
        "id": "qp0kBy_PvjYS"
      },
      "execution_count": null,
      "outputs": []
    },
    {
      "cell_type": "code",
      "source": [
        "#Ques5 How do cumulative distribution functions (CDF) differ from probability distribution functions (PDF)?\n",
        "#Ans Cumulative Distribution Functions (CDF) and Probability Distribution Functions (PDF) differ in how they represent probabilities:\n",
        "\n",
        "## PDF (Probability Distribution Function): Describes the likelihood of a random variable taking on a specific value (discrete case) or within an infinitesimally small range of values (continuous case).\n",
        "\n",
        "## CDF (Cumulative Distribution Function): Represents the probability that a random variable will take on a value less than or equal to a given point. It accumulates probabilities and is always a non-decreasing function."
      ],
      "metadata": {
        "id": "KyqmXCLnvjUk"
      },
      "execution_count": null,
      "outputs": []
    },
    {
      "cell_type": "code",
      "source": [
        "#Ques6 What is a discrete uniform distribution?\n",
        "#Ans A discrete uniform distribution is a type of probability distribution where a discrete random variable has an equal probability of taking on each possible value in its range.\n",
        "\n",
        "#For example, when rolling a fair six-sided dice, each outcome (1,2,3,4,5,6) has the same probability of 1/6.\n",
        "\n",
        "#Key Components:\n",
        "#The probabilities are uniform (equal).\n",
        "#It's defined over a finite and countable set of values."
      ],
      "metadata": {
        "id": "zZZ4jqjNvjQq"
      },
      "execution_count": null,
      "outputs": []
    },
    {
      "cell_type": "code",
      "source": [
        "#Ques7 What are the key properties of a Bernoulli distribution?\n",
        "#Ans The Bernoulli distribution is a simple yet foundational probability distribution with the following key properties:\n",
        "\n",
        "#Binary Outcomes: The random variable can only take two values:1 (success) and 0 (failure).\n",
        "#Single Trial: It models the probability of success in a single experiment or trial.\n",
        "#Probability Parameter: The probability of success is denoted by 𝑝, and the probability of failure is 1−𝑝, where 0 ≤ 𝑝 ≤ 1.\n",
        "#Mean (Expected Value): 𝐸(𝑋)=𝑝\n",
        "#Variance: 𝑉𝑎𝑟(𝑋)=𝑝(1−𝑝)\n",
        "#PMF (Probability Mass Function): 𝑃(𝑋=𝑥)={𝑝/1−𝑝} if 𝑥=1, if 𝑥=0."
      ],
      "metadata": {
        "id": "jHiiWqVIvjM9"
      },
      "execution_count": null,
      "outputs": []
    },
    {
      "cell_type": "code",
      "source": [
        "#Ques8 What is the binomial distribution, and how is it used in probability?\n",
        "#Ans The binomial distribution is a discrete probability distribution that describes the number of successes in a fixed number of independent trials of a binary experiment (i.e., where there are only two possible outcomes: success or failure). Each trial has the same probability of success, denoted by 𝑝, and failure, 1−𝑝.\n",
        "#Key Characteristics:\n",
        "#Fixed Number of Trials (𝑛):The experiment consists of 𝑛 identical and independent trials.\n",
        "#Binary Outcomes: Each trial results in success (1) or failure (0).\n",
        "#Constant Probability: The probability of success (𝑝) remains the same across all trials.\n",
        "#Random Variable (𝑋): Represents the number of successes out of 𝑛 trials."
      ],
      "metadata": {
        "id": "XLne-3rGvjJl"
      },
      "execution_count": null,
      "outputs": []
    },
    {
      "cell_type": "code",
      "source": [
        "#Ques9 What is the Poisson distribution and where is it applied?\n",
        "#Ans The Poisson distribution is a probability distribution that models the number of times an event occurs in a fixed interval of time, space, or other measurable dimensions, under certain conditions.\n",
        "#It is useful for predicting rare or random events when the average occurrence rate is known."
      ],
      "metadata": {
        "id": "goUeEQMYvjF9"
      },
      "execution_count": null,
      "outputs": []
    },
    {
      "cell_type": "code",
      "source": [
        "#Ques10 What is a continuous uniform distribution?\n",
        "#Ans A continuous uniform distribution is a type of probability distribution in which all outcomes are equally likely within a specified interval. This means that if you were to randomly select a value from this distribution,\n",
        "#every value within the interval has the same probability of being chosen.\n",
        "#Key Characteristics:\n",
        "# Interval: The continuous uniform distribution is defined over a closed interval ([a, b]), where (a) is the minimum value and (b) is the maximum value.\n",
        "# Probability Density Function (PDF): The probability density function for a continuous uniform distribution is given by: [ f(x) = \\begin{cases} \\frac{1}{b - a} & \\text{for } a \\leq x \\leq b \\ 0 & \\text{otherwise} \\end{cases} ]\n",
        "#This indicates that the height of the PDF is constant (equal to (\\frac{1}{b - a})) across the interval ([a, b]).\n",
        "# Cumulative Distribution Function (CDF): The cumulative distribution function, which gives the probability that a random variable (X) is less than or equal to a certain value (x), is defined as:\n",
        "#[ F(x) = \\begin{cases} 0 & \\text{for } x < a \\ \\frac{x - a}{b - a} & \\text{for } a \\leq x < b \\ 1 & \\text{for } x \\geq b \\end{cases} ]\n",
        "\n",
        "#Continuous uniform distributions are often used in simulations, random sampling, and scenarios where each outcome within a range is equally likely,\n",
        "#such as generating random numbers or modeling certain types of random processes."
      ],
      "metadata": {
        "id": "kKG5WSlMvjCf"
      },
      "execution_count": null,
      "outputs": []
    },
    {
      "cell_type": "code",
      "source": [
        "#Ques 11 What are the characteristics of a normal distribution?\n",
        "#Ans Symmetry: It is symmetric around the mean, which means the left and right sides are mirror images.\n",
        "#Bell-shaped Curve: The graph of the distribution forms a bell-shaped curve.\n",
        "#Mean, Median, Mode: All three measures of central tendency (mean, median, and mode) are equal and located at the center of the distribution.\n",
        "#68-95-99.7 Rule: Approximately 68% of the data falls within one standard deviation of the mean, 95% within two standard deviations, and 99.7% within three standard deviations.\n",
        "#Asymptotic: The tails of the distribution approach the horizontal axis but never touch it.\n",
        "#Defined by Two Parameters: It is fully characterized by its mean (μ) and standard deviation (σ)."
      ],
      "metadata": {
        "id": "aF6zYzRuvi_H"
      },
      "execution_count": null,
      "outputs": []
    },
    {
      "cell_type": "code",
      "source": [
        "#Ques 12 What is the standard normal distribution, and why is it important?\n",
        "#Ans The standard normal distribution is a special case of the normal distribution with a mean of 0 and a standard deviation of 1. It is denoted as (Z) and is represented by the probability density function:\n",
        "#[ f(z) = \\frac{1}{\\sqrt{2\\pi}} e^{-\\frac{z^2}{2}} ]\n",
        "\n",
        "##Importance:\n",
        "#Standardization: It allows for the comparison of different normal distributions by converting them into a common scale using the z-score formula: (z = \\frac{(X - \\mu)}{\\sigma}).\n",
        "#Statistical Inference: Many statistical methods and tests (e.g., hypothesis testing, confidence intervals) rely on the properties of the standard normal distribution.\n",
        "#Probability Calculations: It simplifies the calculation of probabilities for normally distributed variables using z-tables or software.\n",
        "#Central Limit Theorem: It underpins the central limit theorem, which states that the sum of a large number of independent random variables tends toward a normal distribution, regardless of the original distribution."
      ],
      "metadata": {
        "id": "uU0-fCCRvi7Z"
      },
      "execution_count": null,
      "outputs": []
    },
    {
      "cell_type": "code",
      "source": [
        "#Ques 13 What is the Central Limit Theorem (CLT), and why is it critical in statistics?\n",
        "#Ans The Central Limit Theorem (CLT) states that, given a sufficiently large sample size, the sampling distribution of the sample mean (or sum) of a random variable will be approximately normally distributed, regardless of the original distribution of the variable. This approximation improves as the sample size increases.\n",
        "##Key Points:\n",
        "#Sample Size: Typically, a sample size of 30 or more is considered sufficient for the CLT to hold, although this can vary depending on the original distribution.\n",
        "#Independence: The samples must be independent of each other.\n",
        "#Mean and Variance: The mean of the sampling distribution will equal the mean of the population ((\\mu)), and the variance will equal the population variance divided by the sample size ((\\sigma^2/n)).\n",
        "\n",
        "##Importance in Statistics:\n",
        "#Normal Approximation: The CLT allows statisticians to use the normal distribution to make inferences about population parameters, even when the population distribution is not normal.\n",
        "#Hypothesis Testing: It underpins many statistical tests and confidence intervals, enabling the use of z-scores and t-scores.\n",
        "#Simplifies Analysis: It simplifies the analysis of sample means, making it easier to draw conclusions from data.\n",
        "#Foundation for Inferential Statistics: The CLT is a cornerstone of inferential statistics, allowing for generalizations from samples to populations."
      ],
      "metadata": {
        "id": "aX234tuovitO"
      },
      "execution_count": null,
      "outputs": []
    },
    {
      "cell_type": "code",
      "source": [
        "#Ques 14 How does the Central Limit Theorem relate to the normal distribution?\n",
        "#Ans The Central Limit Theorem (CLT) is fundamentally connected to the normal distribution in several key ways:\n",
        "\n",
        "#Approximation to Normality: The CLT states that as the sample size increases, the distribution of the sample means will approach a normal distribution, regardless of the shape of the population distribution. This means that even if the original data is skewed or not normally distributed, the means of sufficiently large samples will be normally distributed.\n",
        "#Sampling Distribution: The CLT specifically describes the behavior of the sampling distribution of the sample mean. As the sample size grows, this distribution will become increasingly bell-shaped and symmetric, resembling the normal distribution.\n",
        "#Mean and Variance: According to the CLT, the mean of the sampling distribution of the sample mean will equal the population mean ((\\mu)), and the variance will equal the population variance divided by the sample size ((\\sigma^2/n)). This allows for the application of normal distribution properties to make inferences about the population.\n",
        "#Statistical Inference: Because of the CLT, many statistical methods (such as hypothesis testing and confidence intervals) can be applied using the normal distribution, even when the underlying data does not follow a normal distribution. This is crucial for making valid inferences based on sample data."
      ],
      "metadata": {
        "id": "_HBpm6-ovipi"
      },
      "execution_count": null,
      "outputs": []
    },
    {
      "cell_type": "code",
      "source": [
        "#Ques 15 What is the application of Z statistics in hypothesis testing?\n",
        "#Ans Z statistics are widely used in hypothesis testing, particularly when dealing with large sample sizes or when the population standard deviation is known.\n",
        "#Here are the key applications of Z statistics in hypothesis testing:\n",
        "\n",
        "#Testing Hypotheses About Population Means:\n",
        "#One-Sample Z-Test: Used to determine if the sample mean significantly differs from a known population mean. The Z statistic is calculated as:\n",
        "#[ Z = \\frac{\\bar{X} - \\mu}{\\sigma / \\sqrt{n}} ] where (\\bar{X}) is the sample mean, (\\mu) is the population mean, (\\sigma) is the population standard deviation, and (n) is the sample size.\n",
        "\n",
        "#Determining P-Values: The Z statistic can be used to find the p-value associated with the test. This p-value helps determine the strength of the evidence against the null hypothesis. A small p-value (typically less than 0.05) indicates strong evidence against the null hypothesis.\n",
        "#Confidence Intervals: Z statistics are used to construct confidence intervals for population means. For example, a 95% confidence interval for the population mean can be calculated as: [ \\bar{X} \\pm Z_{\\alpha/2} \\left(\\frac{\\sigma}{\\sqrt{n}}\\right) ] where (Z_{\\alpha/2}) is the critical value from the standard normal distribution corresponding to the desired confidence level.\n",
        "#Comparing Two Population Means: Two-Sample Z-Test: When comparing the means of two independent samples, the Z statistic can be used to test if there is a significant difference between the two population means.\n",
        "#Quality Control: In quality control processes, Z statistics are used to monitor processes and determine if they are operating within acceptable limits. Control charts often utilize Z statistics to identify out-of-control conditions.\n",
        "#Large Sample Sizes: Z statistics are particularly useful when the sample size is large (typically (n \\geq 30)), as the Central Limit Theorem ensures that the sampling distribution of the sample mean approaches normality.\n"
      ],
      "metadata": {
        "id": "aAXExMFsvimT"
      },
      "execution_count": null,
      "outputs": []
    },
    {
      "cell_type": "code",
      "source": [
        "#Ques 16 How do you calculate a Z-score, and what does it represent?\n",
        "#Ans A Z-score (or standard score) is a statistical measurement that describes a value's relationship to the mean of a group of values.\n",
        "#It indicates how many standard deviations a data point is from the mean.\n",
        "\n",
        "#Calculation of a Z-score:\n",
        "#The formula to calculate a Z-score for a given value (X) is:\n",
        "#[ Z = \\frac{X - \\mu}{\\sigma} ]\n",
        "\n",
        "#Steps to Calculate a Z-score:\n",
        "#Determine the Mean ((\\mu)): Calculate the average of the dataset.\n",
        "#Determine the Standard Deviation ((\\sigma)): Calculate the standard deviation of the dataset.\n",
        "#Subtract the Mean from the Value: Find the difference between the value (X) and the mean (\\mu).\n",
        "#Divide by the Standard Deviation: Divide the result from step 3 by the standard deviation (\\sigma).\n",
        "\n",
        "#What a Z-score Represents:\n",
        "#Standardization: The Z-score standardizes different data points, allowing for comparison across different datasets or distributions.\n",
        "#Position Relative to the Mean: A Z-score tells you how far and in what direction a data point deviates from the mean:\n",
        "\n",
        "#A Z-score of 0 indicates that the value is exactly at the mean.\n",
        "#A positive Z-score indicates that the value is above the mean.\n",
        "#A negative Z-score indicates that the value is below the mean.\n",
        "#Probability: Z-scores can be used to determine the probability of a value occurring within a normal distribution. By looking up the Z-score in a standard normal distribution table, you can find the corresponding percentile or probability."
      ],
      "metadata": {
        "id": "X9twRubeKqVN"
      },
      "execution_count": null,
      "outputs": []
    },
    {
      "cell_type": "code",
      "source": [
        "#Ques17 What are point estimates and interval estimates in statistics?\n",
        "#Ans Point Estimates: A point estimate is a single value that serves as an estimate of a population parameter. For example,\n",
        "#the sample mean ((\\bar{x})) is a point estimate of the population mean ((\\mu)).\n",
        "#Point estimates provide a specific value but do not convey any information about the uncertainty or variability of that estimate.\n",
        "\n",
        "#Interval Estimates: An interval estimate provides a range of values within which the population parameter is expected to lie, along with a specified level of confidence.\n",
        "#For example, a confidence interval for the population mean might be expressed as ((\\bar{x} - E, \\bar{x} + E)), where (E) is the margin of error.\n",
        "#Interval estimates account for uncertainty and give a more comprehensive view of the parameter's possible values."
      ],
      "metadata": {
        "id": "BX5ToPvtviiV"
      },
      "execution_count": null,
      "outputs": []
    },
    {
      "cell_type": "code",
      "source": [
        "#Ques18 What is the significance of confidence intervals in statistical analysis?\n",
        "#Ans Confidence intervals (CIs) are crucial in statistical analysis because they provide a range of values that likely contain the true population parameter,\n",
        "#along with a specified level of confidence (e.g., 95% or 99%). The significance of confidence intervals includes:\n",
        "\n",
        "#Uncertainty Quantification: CIs quantify the uncertainty associated with point estimates, indicating the precision of the estimate.\n",
        "\n",
        "#Decision Making: They help in making informed decisions by providing a range of plausible values for the parameter, rather than a single point estimate.\n",
        "\n",
        "#Statistical Inference: CIs facilitate hypothesis testing by allowing researchers to assess whether a parameter falls within a certain range, aiding in the evaluation of null and alternative hypotheses.\n",
        "\n",
        "#Comparison of Groups: CIs can be used to compare means or proportions between groups, helping to determine if differences are statistically significant.\n",
        "\n",
        "##Overall, confidence intervals enhance the interpretability of statistical results and provide a more comprehensive understanding of the data."
      ],
      "metadata": {
        "id": "jhnZphQ6vidy"
      },
      "execution_count": null,
      "outputs": []
    },
    {
      "cell_type": "code",
      "source": [
        "#Ques19 What is the relationship between a Z-score and a confidence interval?\n",
        "#Ans The relationship between a Z-score and a confidence interval lies in the use of the Z-score to determine the range of values that define the confidence interval for a population parameter, typically the mean.\n",
        "\n",
        "#Z-Score Definition: A Z-score represents the number of standard deviations a data point is from the mean of a distribution. It is used in standard normal distribution calculations.\n",
        "\n",
        "#Confidence Interval Calculation: When constructing a confidence interval for a population mean, the Z-score corresponding to the desired confidence level (e.g., 1.96 for a 95% confidence level) is used to calculate the margin of error.\n",
        "#The formula for a confidence interval is: [ \\text{CI} = \\bar{x} \\pm Z \\left(\\frac{\\sigma}{\\sqrt{n}}\\right) ] where (\\bar{x}) is the sample mean, (Z) is the Z-score for the desired confidence level, (\\sigma) is the population standard deviation, and (n) is the sample size.\n",
        "\n",
        "#Interpretation: The Z-score helps determine how far from the sample mean the interval extends, thus defining the range within which the true population mean is likely to fall with a specified level of confidence."
      ],
      "metadata": {
        "id": "QFfKMNQBviZh"
      },
      "execution_count": null,
      "outputs": []
    },
    {
      "cell_type": "code",
      "source": [
        "#Ques20 How are Z-scores used to compare different distributions?\n",
        "#Ans Z-scores are used to compare different distributions by standardizing values from different datasets, allowing for a direct comparison of their relative positions within their respective distributions. Here’s how they work:\n",
        "\n",
        "#Standardization: A Z-score indicates how many standard deviations a particular value is from the mean of its distribution. The formula is: [ Z = \\frac{(X - \\mu)}{\\sigma} ] where (X) is the value, (\\mu) is the mean, and (\\sigma) is the standard deviation.\n",
        "\n",
        "#Comparison Across Distributions: By converting values from different distributions into Z-scores, you can compare them on a common scale. This is particularly useful when the distributions have different means and standard deviations.\n",
        "\n",
        "#Identifying Relative Position: A Z-score allows you to determine how a value compares to the average of its distribution. For example, a Z-score of +2 indicates that the value is two standard deviations above the mean, regardless of the original distribution's characteristics.\n",
        "\n",
        "#Outlier Detection: Z-scores can help identify outliers in different datasets by indicating values that are significantly higher or lower than the mean."
      ],
      "metadata": {
        "id": "UilwMoFLviVD"
      },
      "execution_count": null,
      "outputs": []
    },
    {
      "cell_type": "code",
      "source": [
        "#Ques21 What are the assumptions for applying the Central Limit Theorem?\n",
        "#Ans The Central Limit Theorem (CLT) relies on several key assumptions for its application:\n",
        "\n",
        "#Independence: The samples must be independent of each other. This means that the selection of one sample does not influence the selection of another.\n",
        "\n",
        "#Random Sampling: The samples should be drawn randomly from the population to ensure that they are representative.\n",
        "\n",
        "#Sample Size: The sample size should be sufficiently large. A common rule of thumb is that a sample size of 30 or more is generally\n",
        "#considered adequate for the CLT to hold, although this can vary depending on the population distribution.\n",
        "\n",
        "#Finite Variance: The population from which the samples are drawn should have a finite mean and variance.\n",
        "#If the population has infinite variance (e.g., certain heavy-tailed distributions), the CLT may not apply."
      ],
      "metadata": {
        "id": "EmloRF1TviQD"
      },
      "execution_count": null,
      "outputs": []
    },
    {
      "cell_type": "code",
      "source": [
        "#Ques22  What is the concept of expected value in a probability distribution?\n",
        "#Ans The expected value (EV) in a probability distribution is a measure of the central tendency of a random variable,\n",
        "#representing the long-term average outcome if an experiment is repeated many times.\n",
        "#It is calculated as the weighted sum of all possible values of the random variable, where each value is multiplied by its probability of occurrence.\n",
        "\n",
        "#For a discrete random variable (X), the expected value is given by: [ E(X) = \\sum_{i} x_i \\cdot P(x_i) ] where (x_i) are the possible values and (P(x_i)) is the probability of each value.\n",
        "#For continuous random variables, it is calculated using an integral.\n",
        "\n",
        "#In essence, the expected value provides a single summary measure that indicates the average result of a random process, guiding decision-making in uncertain situations."
      ],
      "metadata": {
        "id": "uuNLrsu9viLy"
      },
      "execution_count": null,
      "outputs": []
    },
    {
      "cell_type": "code",
      "source": [
        "#Ques23 How does a probability distribution relate to the expected outcome of a random variable?\n",
        "#Ans A probability distribution describes how the probabilities of a random variable are distributed across its possible values, providing a complete picture of the likelihood of each outcome.\n",
        "#The expected outcome, or expected value, is derived from this distribution and represents the long-term average of the random variable.\n",
        "\n",
        "#In essence, the expected value is calculated as a weighted average of all possible outcomes, where each outcome is weighted by its probability from the distribution.\n",
        "#Thus, the probability distribution directly influences the expected outcome by determining how likely each value is to occur.\n",
        "#This relationship allows the expected value to serve as a summary measure of the central tendency of the random variable, reflecting the average result one would expect over many trials."
      ],
      "metadata": {
        "id": "_iTLEFACviHs"
      },
      "execution_count": null,
      "outputs": []
    },
    {
      "cell_type": "markdown",
      "source": [
        "# **Practicles questions**"
      ],
      "metadata": {
        "id": "HMEJKHdUKgep"
      }
    },
    {
      "cell_type": "code",
      "source": [
        "#Ques1 Write a Python program to generate a random variable and display its value\n",
        "#Ans\n",
        "import numpy as np\n",
        "\n",
        "#parameters for the normal distribution\n",
        "mean = 0      # Mean of the distribution\n",
        "std_dev = 1   # Standard deviation of the distribution\n",
        "\n",
        "#random variable\n",
        "random_variable = np.random.normal(loc=mean, scale=std_dev)\n",
        "\n",
        "#the value\n",
        "print(f\"Random Variable Value: {random_variable:.4f}\")"
      ],
      "metadata": {
        "id": "94kFVKVBviD0",
        "colab": {
          "base_uri": "https://localhost:8080/"
        },
        "outputId": "cc747b60-26f5-4ca8-e1d6-e81ca06bdbc4"
      },
      "execution_count": 1,
      "outputs": [
        {
          "output_type": "stream",
          "name": "stdout",
          "text": [
            "Random Variable Value: -2.1015\n"
          ]
        }
      ]
    },
    {
      "cell_type": "code",
      "source": [
        "#Ques2 Generate a discrete uniform distribution using Python and plot the probability mass function (PMF)\n",
        "#Ans\n",
        "import numpy as np\n",
        "import matplotlib.pyplot as plt\n",
        "\n",
        "#Parameters for the discrete uniform distribution\n",
        "low = 1    # Minimum value\n",
        "high = 6   # Maximum value (inclusive)\n",
        "\n",
        "#Generate the discrete uniform distribution\n",
        "x = np.arange(low, high + 1)  # Values from low to high\n",
        "pmf = np.ones_like(x) / len(x)  # PMF calculation\n",
        "\n",
        "#Plot the PMF\n",
        "plt.stem(x, pmf)\n",
        "plt.title('Probability Mass Function (PMF) of Discrete Uniform Distribution')\n",
        "plt.xlabel('Value')\n",
        "plt.ylabel('Probability')\n",
        "plt.xticks(x)\n",
        "plt.ylim(0, max(pmf) + 0.05)\n",
        "plt.grid()\n",
        "plt.show()"
      ],
      "metadata": {
        "colab": {
          "base_uri": "https://localhost:8080/",
          "height": 472
        },
        "id": "S1fHvgMkKqbF",
        "outputId": "332c4f29-b3df-405c-b72f-5e2f25b5bcff"
      },
      "execution_count": 13,
      "outputs": [
        {
          "output_type": "display_data",
          "data": {
            "text/plain": [
              "<Figure size 640x480 with 1 Axes>"
            ],
            "image/png": "[encoded data removed]"
          },
          "metadata": {}
        }
      ]
    },
    {
      "cell_type": "code",
      "source": [
        "#Ques3 Write a Python function to calculate the probability distribution function (PDF) of a Bernoulli distribution\n",
        "#Ans\n",
        "def bernoulli_pdf(x, p):\n",
        "    \"\"\"\n",
        "    Calculate the PDF of a Bernoulli distribution.\n",
        "\n",
        "    Parameters:\n",
        "    x (int): The outcome (0 or 1).\n",
        "    p (float): The probability of success (0 <= p <= 1).\n",
        "\n",
        "    Returns:\n",
        "    float: The probability of the outcome.\n",
        "    \"\"\"\n",
        "    if x not in [0, 1]:\n",
        "        return 0.0\n",
        "    return p if x == 1 else (1 - p)\n",
        "\n",
        "#Example\n",
        "p_success = 0.7  #Probability of success\n",
        "print(f\"PDF for x=1: {bernoulli_pdf(1, p_success)}\")  #Probability of success\n",
        "print(f\"PDF for x=0: {bernoulli_pdf(0, p_success)}\")  #Probability of failure"
      ],
      "metadata": {
        "colab": {
          "base_uri": "https://localhost:8080/"
        },
        "id": "kDXwnd47KqWw",
        "outputId": "21bb3c39-7027-425f-f32c-50d42949a555"
      },
      "execution_count": 14,
      "outputs": [
        {
          "output_type": "stream",
          "name": "stdout",
          "text": [
            "PDF for x=1: 0.7\n",
            "PDF for x=0: 0.30000000000000004\n"
          ]
        }
      ]
    },
    {
      "cell_type": "code",
      "source": [
        "#Ques4  Write a Python script to simulate a binomial distribution with n=10 and p=0.5, then plot its histogram\n",
        "#Ans\n",
        "\n",
        "#Parameters for the binomial distribution\n",
        "n = 10  # Number of trials\n",
        "p = 0.5  # Probability of success\n",
        "num_simulations = 1000  # Number of simulations\n",
        "\n",
        "#Simulate binomial distribution\n",
        "data = np.random.binomial(n, p, num_simulations)\n",
        "\n",
        "#Plot histogram\n",
        "plt.hist(data, bins=np.arange(n + 2) - 0.5, density=True, alpha=0.7, color='blue', edgecolor='black')\n",
        "plt.title('Histogram of Binomial Distribution (n=10, p=0.5)')\n",
        "plt.xlabel('Number of Successes')\n",
        "plt.ylabel('Probability')\n",
        "plt.xticks(range(n + 1))\n",
        "plt.grid()\n",
        "plt.show()"
      ],
      "metadata": {
        "colab": {
          "base_uri": "https://localhost:8080/",
          "height": 472
        },
        "id": "JD5CY92jKqTD",
        "outputId": "74993e72-3412-4e50-b43c-a72602749d0f"
      },
      "execution_count": 15,
      "outputs": [
        {
          "output_type": "display_data",
          "data": {
            "text/plain": [
              "<Figure size 640x480 with 1 Axes>"
            ],
            "image/png": "[encoded data removed]"
          },
          "metadata": {}
        }
      ]
    },
    {
      "cell_type": "code",
      "source": [
        "#Ques5 Create a Poisson distribution and visualize it using Python\n",
        "#Ans\n",
        "from scipy.stats import poisson\n",
        "\n",
        "#the Poisson distribution\n",
        "lambda_param = 5  # Average rate (lambda)\n",
        "\n",
        "#Generate Poisson distribution data\n",
        "x = np.arange(0, 15)  # Range of values\n",
        "pmf = poisson.pmf(x, lambda_param)  # Probability mass function\n",
        "\n",
        "#Plot the Poisson distribution\n",
        "plt.bar(x, pmf, color='blue', alpha=0.7, edgecolor='black')\n",
        "plt.title('Poisson Distribution (λ = 5)')\n",
        "plt.xlabel('Number of Events')\n",
        "plt.ylabel('Probability')\n",
        "plt.xticks(x)\n",
        "plt.grid(axis='y')\n",
        "plt.show()"
      ],
      "metadata": {
        "id": "7UEdldcovh_a",
        "colab": {
          "base_uri": "https://localhost:8080/",
          "height": 472
        },
        "outputId": "1cf446e3-fc3b-4935-d783-e54a78ce6eae"
      },
      "execution_count": 16,
      "outputs": [
        {
          "output_type": "display_data",
          "data": {
            "text/plain": [
              "<Figure size 640x480 with 1 Axes>"
            ],
            "image/png": "[encoded data removed]"
          },
          "metadata": {}
        }
      ]
    },
    {
      "cell_type": "code",
      "source": [
        "#Ques6 Write a Python program to calculate and plot the cumulative distribution function (CDF) of a discrete uniform distribution\n",
        "#Ans\n",
        "#Parameters for the discrete uniform distribution\n",
        "low = 1    # Minimum value\n",
        "high = 6   # Maximum value (inclusive)\n",
        "\n",
        "#Generate the discrete uniform distribution\n",
        "x = np.arange(low, high + 1)  # Values from low to high\n",
        "cdf = np.arange(1, len(x) + 1) / len(x)  # CDF calculation\n",
        "\n",
        "#Plot the CDF\n",
        "plt.step(x, cdf, where='post', color='blue', alpha=0.7)\n",
        "plt.title('Cumulative Distribution Function (CDF) of Discrete Uniform Distribution')\n",
        "plt.xlabel('Value')\n",
        "plt.ylabel('Cumulative Probability')\n",
        "plt.xticks(x)\n",
        "plt.ylim(0, 1)\n",
        "plt.grid()\n",
        "plt.show()"
      ],
      "metadata": {
        "id": "1H54HR68vh2G",
        "colab": {
          "base_uri": "https://localhost:8080/",
          "height": 472
        },
        "outputId": "04d5c6f5-e65c-4f1f-91ad-44ee35732f09"
      },
      "execution_count": 17,
      "outputs": [
        {
          "output_type": "display_data",
          "data": {
            "text/plain": [
              "<Figure size 640x480 with 1 Axes>"
            ],
            "image/png": "[encoded data removed]"
          },
          "metadata": {}
        }
      ]
    },
    {
      "cell_type": "code",
      "source": [
        "#Ques7 Generate a continuous uniform distribution using NumPy and visualize it\n",
        "#Ans\n",
        "#Parameters for the continuous uniform distribution\n",
        "low = 0    # Minimum value\n",
        "high = 10  # Maximum value\n",
        "\n",
        "#Generate random samples from a continuous uniform distribution\n",
        "samples = np.random.uniform(low, high, 1000)\n",
        "\n",
        "#Create a histogram to visualize the distribution\n",
        "plt.hist(samples, bins=30, density=True, alpha=0.7, color='blue', edgecolor='black')\n",
        "\n",
        "#Plot the theoretical PDF\n",
        "x = np.linspace(low, high, 100)\n",
        "plt.plot(x, np.ones_like(x) / (high - low), color='red', lw=2, label='PDF')\n",
        "\n",
        "#Add titles and labels\n",
        "plt.title('Continuous Uniform Distribution')\n",
        "plt.xlabel('Value')\n",
        "plt.ylabel('Density')\n",
        "plt.legend()\n",
        "plt.grid()\n",
        "plt.show()"
      ],
      "metadata": {
        "id": "-Ym8IVhjvhyJ",
        "colab": {
          "base_uri": "https://localhost:8080/",
          "height": 472
        },
        "outputId": "04873af1-6906-46ba-a996-4582e2c01afe"
      },
      "execution_count": 18,
      "outputs": [
        {
          "output_type": "display_data",
          "data": {
            "text/plain": [
              "<Figure size 640x480 with 1 Axes>"
            ],
            "image/png": "[encoded data removed]"
          },
          "metadata": {}
        }
      ]
    },
    {
      "cell_type": "code",
      "source": [
        "#Ques8 Simulate data from a normal distribution and plot its histogram.\n",
        "#Ans\n",
        "#Parameters\n",
        "low = 0    #Minimum value\n",
        "high = 10  #Maximum value\n",
        "\n",
        "#random samples from a continuous uniform distribution\n",
        "samples = np.random.uniform(low, high, 1000)\n",
        "\n",
        "#histogram to visualize the distribution\n",
        "plt.hist(samples, bins=30, density=True, alpha=0.7, color='blue', edgecolor='black')\n",
        "\n",
        "#Plot the theoretical PDF\n",
        "x = np.linspace(low, high, 100)\n",
        "plt.plot(x, np.ones_like(x) / (high - low), color='red', lw=2, label='PDF')\n",
        "\n",
        "#titles and labels\n",
        "plt.title('Continuous Uniform Distribution')\n",
        "plt.xlabel('Value')\n",
        "plt.ylabel('Density')\n",
        "plt.legend()\n",
        "plt.grid()\n",
        "plt.show()"
      ],
      "metadata": {
        "id": "uf6ckdyvvhuu",
        "colab": {
          "base_uri": "https://localhost:8080/",
          "height": 472
        },
        "outputId": "198028be-ce44-45e1-a0b7-106f306de930"
      },
      "execution_count": 19,
      "outputs": [
        {
          "output_type": "display_data",
          "data": {
            "text/plain": [
              "<Figure size 640x480 with 1 Axes>"
            ],
            "image/png": "[encoded data removed]"
          },
          "metadata": {}
        }
      ]
    },
    {
      "cell_type": "code",
      "source": [
        "#Ques9 Write a Python function to calculate Z-scores from a dataset and plot them\n",
        "#Ans\n",
        "def calculate_z_scores(data):\n",
        "    \"\"\"\n",
        "    Calculate Z-scores for a given dataset.\n",
        "\n",
        "    Parameters:\n",
        "    data (array-like): Input dataset.\n",
        "\n",
        "    Returns:\n",
        "    array: Z-scores of the dataset.\n",
        "    \"\"\"\n",
        "    mean = np.mean(data)\n",
        "    std_dev = np.std(data)\n",
        "    z_scores = (data - mean) / std_dev\n",
        "    return z_scores\n",
        "\n",
        "#Example dataset\n",
        "data = np.array([10, 12, 23, 23, 16, 23, 21, 16])\n",
        "\n",
        "#Calculate Z-scores\n",
        "z_scores = calculate_z_scores(data)\n",
        "\n",
        "#Plot Z-scores\n",
        "plt.bar(range(len(z_scores)), z_scores, color='blue', alpha=0.7)\n",
        "plt.title('Z-Scores of the Dataset')\n",
        "plt.xlabel('Data Points')\n",
        "plt.ylabel('Z-Score')\n",
        "plt.xticks(range(len(data)), data)\n",
        "plt.grid()\n",
        "plt.show()"
      ],
      "metadata": {
        "id": "DJG5ggt0vhmU",
        "colab": {
          "base_uri": "https://localhost:8080/",
          "height": 472
        },
        "outputId": "63d727b9-e0df-4f1d-d7a5-00380e4f20e3"
      },
      "execution_count": 20,
      "outputs": [
        {
          "output_type": "display_data",
          "data": {
            "text/plain": [
              "<Figure size 640x480 with 1 Axes>"
            ],
            "image/png": "[encoded data removed]"
          },
          "metadata": {}
        }
      ]
    },
    {
      "cell_type": "code",
      "source": [
        "#Ques10 Implement the Central Limit Theorem (CLT) using Python for a non-normal distribution\n",
        "#Ans\n",
        "#Parameters\n",
        "num_samples = 1000  #Number of samples\n",
        "sample_size = 30    #Size of each sample\n",
        "\n",
        "#Generate a non-normal distribution (exponential)\n",
        "data = np.random.exponential(scale=1, size=num_samples)\n",
        "\n",
        "#Take samples and calculate their means\n",
        "sample_means = [np.mean(np.random.choice(data, sample_size)) for _ in range(num_samples)]\n",
        "\n",
        "#Plot the original distribution\n",
        "plt.figure(figsize=(12, 6))\n",
        "\n",
        "plt.subplot(1, 2, 1)\n",
        "plt.hist(data, bins=30, density=True, alpha=0.7, color='blue', edgecolor='black')\n",
        "plt.title('Original Exponential Distribution')\n",
        "plt.xlabel('Value')\n",
        "plt.ylabel('Density')\n",
        "\n",
        "#Plot the distribution of sample means\n",
        "plt.subplot(1, 2, 2)\n",
        "plt.hist(sample_means, bins=30, density=True, alpha=0.7, color='orange', edgecolor='black')\n",
        "plt.title('Distribution of Sample Means (CLT)')\n",
        "plt.xlabel('Sample Mean')\n",
        "plt.ylabel('Density')\n",
        "\n",
        "plt.tight_layout()\n",
        "plt.show()"
      ],
      "metadata": {
        "id": "AfqRoX0AvhTy",
        "colab": {
          "base_uri": "https://localhost:8080/",
          "height": 607
        },
        "outputId": "2b763b1e-531f-4222-dbb9-4cb9ce43e3ff"
      },
      "execution_count": 21,
      "outputs": [
        {
          "output_type": "display_data",
          "data": {
            "text/plain": [
              "<Figure size 1200x600 with 2 Axes>"
            ],
            "image/png": "[encoded data removed]"
          },
          "metadata": {}
        }
      ]
    },
    {
      "cell_type": "code",
      "source": [
        "#Ques11 Simulate multiple samples from a normal distribution and verify the Central Limit Theorem\n",
        "#Ans\n",
        "#Parameters\n",
        "num_samples = 1000  #Number of samples\n",
        "sample_size = 30    #Size of each sample\n",
        "mean = 0            #Mean of the normal distribution\n",
        "std_dev = 1         #Standard deviation of the normal distribution\n",
        "\n",
        "#Generate samples from a normal distribution\n",
        "data = np.random.normal(loc=mean, scale=std_dev, size=num_samples)\n",
        "\n",
        "#samples and calculate their means\n",
        "sample_means = [np.mean(np.random.choice(data, sample_size)) for _ in range(num_samples)]\n",
        "\n",
        "#Plot\n",
        "plt.figure(figsize=(12, 6))\n",
        "\n",
        "plt.subplot(1, 2, 1)\n",
        "plt.hist(data, bins=30, density=True, alpha=0.7, color='blue', edgecolor='black')\n",
        "plt.title('Original Normal Distribution')\n",
        "plt.xlabel('Value')\n",
        "plt.ylabel('Density')\n",
        "\n",
        "#Plot sample means\n",
        "plt.subplot(1, 2, 2)\n",
        "plt.hist(sample_means, bins=30, density=True, alpha=0.7, color='orange', edgecolor='black')\n",
        "plt.title('Distribution of Sample Means (CLT)')\n",
        "plt.xlabel('Sample Mean')\n",
        "plt.ylabel('Density')\n",
        "\n",
        "plt.tight_layout()\n",
        "plt.show()"
      ],
      "metadata": {
        "id": "-5TbCwUmvhQv",
        "colab": {
          "base_uri": "https://localhost:8080/",
          "height": 607
        },
        "outputId": "c5a7577a-0bc8-45d2-8675-4524592ad553"
      },
      "execution_count": 22,
      "outputs": [
        {
          "output_type": "display_data",
          "data": {
            "text/plain": [
              "<Figure size 1200x600 with 2 Axes>"
            ],
            "image/png": "[encoded data removed]"
          },
          "metadata": {}
        }
      ]
    },
    {
      "cell_type": "code",
      "source": [
        "#Ques12 Write a Python function to calculate and plot the standard normal distribution (mean = 0, std = 1)\n",
        "#Ans\n",
        "from scipy.stats import norm\n",
        "\n",
        "def plot_standard_normal_distribution():\n",
        "    #the standard normal distribution\n",
        "    mean = 0\n",
        "    std_dev = 1\n",
        "\n",
        "    #Generate x values\n",
        "    x = np.linspace(-4, 4, 1000)\n",
        "    #the PDF of the standard normal distribution\n",
        "    pdf = norm.pdf(x, mean, std_dev)\n",
        "\n",
        "    #Plot the standard normal distribution\n",
        "    plt.plot(x, pdf, color='blue', label='Standard Normal Distribution')\n",
        "    plt.title('Standard Normal Distribution (mean = 0, std = 1)')\n",
        "    plt.xlabel('Value')\n",
        "    plt.ylabel('Probability Density')\n",
        "    plt.axhline(0, color='black', lw=0.5, ls='--')\n",
        "    plt.axvline(0, color='red', lw=0.5, ls='--', label='Mean (0)')\n",
        "    plt.legend()\n",
        "    plt.grid()\n",
        "    plt.show()\n",
        "\n",
        "#the function to plot\n",
        "plot_standard_normal_distribution()"
      ],
      "metadata": {
        "id": "F2b7__0TvhNj",
        "colab": {
          "base_uri": "https://localhost:8080/",
          "height": 472
        },
        "outputId": "59e10aa9-64ce-470d-98d4-6f1b40e0b0ae"
      },
      "execution_count": 23,
      "outputs": [
        {
          "output_type": "display_data",
          "data": {
            "text/plain": [
              "<Figure size 640x480 with 1 Axes>"
            ],
            "image/png": "[encoded data removed]"
          },
          "metadata": {}
        }
      ]
    },
    {
      "cell_type": "code",
      "source": [
        "#Ques13 Generate random variables and calculate their corresponding probabilities using the binomial distribution\n",
        "#Ans\n",
        "from scipy.stats import binom\n",
        "\n",
        "#the binomial distribution\n",
        "n = 10  #Number of trials\n",
        "p = 0.5  #Probability of success\n",
        "\n",
        "#random variables (number of successes)\n",
        "random_variables = np.arange(0, n + 1)\n",
        "\n",
        "#corresponding probabilities using the binomial distribution\n",
        "probabilities = binom.pmf(random_variables, n, p)\n",
        "\n",
        "#the results\n",
        "for rv, prob in zip(random_variables, probabilities):\n",
        "    print(f'P(X = {rv}) = {prob:.4f}')"
      ],
      "metadata": {
        "id": "wh5SyMm8vhKR",
        "colab": {
          "base_uri": "https://localhost:8080/"
        },
        "outputId": "18f42e62-d90b-4e8a-949e-9e2a3bdadad4"
      },
      "execution_count": 24,
      "outputs": [
        {
          "output_type": "stream",
          "name": "stdout",
          "text": [
            "P(X = 0) = 0.0010\n",
            "P(X = 1) = 0.0098\n",
            "P(X = 2) = 0.0439\n",
            "P(X = 3) = 0.1172\n",
            "P(X = 4) = 0.2051\n",
            "P(X = 5) = 0.2461\n",
            "P(X = 6) = 0.2051\n",
            "P(X = 7) = 0.1172\n",
            "P(X = 8) = 0.0439\n",
            "P(X = 9) = 0.0098\n",
            "P(X = 10) = 0.0010\n"
          ]
        }
      ]
    },
    {
      "cell_type": "code",
      "source": [
        "#Ques14 Write a Python program to calculate the Z-score for a given data point and compare it to a standard normal distribution\n",
        "#Ans\n",
        "def calculate_z_score(data_point, mean, std_dev):\n",
        "    \"\"\"Calculate the Z-score for a given data point.\"\"\"\n",
        "    return (data_point - mean) / std_dev\n",
        "\n",
        "#Data\n",
        "data_point = 75\n",
        "mean = 70\n",
        "std_dev = 10\n",
        "\n",
        "#Calculate Z-score\n",
        "z_score = calculate_z_score(data_point, mean, std_dev)\n",
        "print(f'Z-score for data point {data_point}: {z_score:.2f}')\n",
        "\n",
        "#Plotting the standard normal distribution\n",
        "x = np.linspace(-4, 4, 1000)\n",
        "pdf = norm.pdf(x)\n",
        "\n",
        "plt.plot(x, pdf, color='blue', label='Standard Normal Distribution')\n",
        "plt.axvline(z_score, color='red', linestyle='--', label=f'Z-score = {z_score:.2f}')\n",
        "plt.title('Standard Normal Distribution with Z-score')\n",
        "plt.xlabel('Z-value')\n",
        "plt.ylabel('Probability Density')\n",
        "plt.legend()\n",
        "plt.grid()\n",
        "plt.show()"
      ],
      "metadata": {
        "id": "1Y7CFjuOvhG7",
        "colab": {
          "base_uri": "https://localhost:8080/",
          "height": 489
        },
        "outputId": "40e1e5fb-c457-4b95-a707-82e21fcd7f8b"
      },
      "execution_count": 25,
      "outputs": [
        {
          "output_type": "stream",
          "name": "stdout",
          "text": [
            "Z-score for data point 75: 0.50\n"
          ]
        },
        {
          "output_type": "display_data",
          "data": {
            "text/plain": [
              "<Figure size 640x480 with 1 Axes>"
            ],
            "image/png": "[encoded data removed]"
          },
          "metadata": {}
        }
      ]
    },
    {
      "cell_type": "code",
      "source": [
        "#Ques15 Implement hypothesis testing using Z-statistics for a sample dataset\n",
        "#Ans\n",
        "import scipy.stats as stats\n",
        "#data\n",
        "sample_data = np.array([20, 22, 21, 19, 23, 24, 20, 22, 21, 20])\n",
        "population_mean = 21  #Known population mean\n",
        "alpha = 0.05  #Significance level\n",
        "\n",
        "#sample mean and standard deviation\n",
        "sample_mean = np.mean(sample_data)\n",
        "sample_std = np.std(sample_data, ddof=1)  #Sample standard deviation\n",
        "n = len(sample_data)  #Sample size\n",
        "\n",
        "#Z-statistic\n",
        "z_statistic = (sample_mean - population_mean) / (sample_std / np.sqrt(n))\n",
        "\n",
        "#the critical Z-value for a two-tailed test\n",
        "critical_value = stats.norm.ppf(1 - alpha / 2)\n",
        "\n",
        "#results\n",
        "print(f'Sample Mean: {sample_mean:.2f}')\n",
        "print(f'Z-statistic: {z_statistic:.2f}')\n",
        "print(f'Critical Value: ±{critical_value:.2f}')\n",
        "\n",
        "#Hypothesis testing\n",
        "if abs(z_statistic) > critical_value:\n",
        "    print(\"Reject the null hypothesis: There is a significant difference.\")\n",
        "else:\n",
        "    print(\"Fail to reject the null hypothesis: No significant difference.\")"
      ],
      "metadata": {
        "id": "Uqg3dBDpvhDy",
        "colab": {
          "base_uri": "https://localhost:8080/"
        },
        "outputId": "540fdbb7-2124-438e-f842-f2d9ea44e2a7"
      },
      "execution_count": 27,
      "outputs": [
        {
          "output_type": "stream",
          "name": "stdout",
          "text": [
            "Sample Mean: 21.20\n",
            "Z-statistic: 0.41\n",
            "Critical Value: ±1.96\n",
            "Fail to reject the null hypothesis: No significant difference.\n"
          ]
        }
      ]
    },
    {
      "cell_type": "code",
      "source": [
        "#Ques16 Create a confidence interval for a dataset using Python and interpret the result\n",
        "#Ans\n",
        "import numpy as np\n",
        "import scipy.stats as stats\n",
        "\n",
        "#data\n",
        "data = np.array([20, 22, 21, 19, 23, 24, 20, 22, 21, 20])\n",
        "\n",
        "#Parameters\n",
        "confidence_level = 0.95  # 95% confidence level\n",
        "\n",
        "#sample mean and standard deviation\n",
        "sample_mean = np.mean(data)\n",
        "sample_std = np.std(data, ddof=1)  #standard deviation\n",
        "n = len(data)  #Sample size\n",
        "\n",
        "#the critical t-value for the confidence level\n",
        "critical_value = stats.t.ppf((1 + confidence_level) / 2, df=n-1)\n",
        "\n",
        "#the margin of error\n",
        "margin_of_error = critical_value * (sample_std / np.sqrt(n))\n",
        "\n",
        "#the confidence interval\n",
        "confidence_interval = (sample_mean - margin_of_error, sample_mean + margin_of_error)\n",
        "\n",
        "#results\n",
        "print(f'Sample Mean: {sample_mean:.2f}')\n",
        "print(f'Confidence Interval: {confidence_interval[0]:.2f} to {confidence_interval[1]:.2f}')\n",
        "\n",
        "#Interpretation\n",
        "print(f'We are {confidence_level*100:.0f}% confident that the true population mean lies within this interval.')"
      ],
      "metadata": {
        "id": "kQ5KYR2Xvg_Z",
        "colab": {
          "base_uri": "https://localhost:8080/"
        },
        "outputId": "7a78a902-ebe9-4ee8-8682-824382210720"
      },
      "execution_count": 28,
      "outputs": [
        {
          "output_type": "stream",
          "name": "stdout",
          "text": [
            "Sample Mean: 21.20\n",
            "Confidence Interval: 20.09 to 22.31\n",
            "We are 95% confident that the true population mean lies within this interval.\n"
          ]
        }
      ]
    },
    {
      "cell_type": "code",
      "source": [
        "#Ques17 Generate data from a normal distribution, then calculate and interpret the confidence interval for its mean\n",
        "#Ans\n",
        "import numpy as np\n",
        "import scipy.stats as stats\n",
        "\n",
        "# Parameters for the normal distribution\n",
        "mean = 50      # Mean of the distribution\n",
        "std_dev = 10   # Standard deviation of the distribution\n",
        "sample_size = 30  # Sample size\n",
        "\n",
        "#random data from a normal distribution\n",
        "data = np.random.normal(loc=mean, scale=std_dev, size=sample_size)\n",
        "\n",
        "#sample mean and standard deviation\n",
        "sample_mean = np.mean(data)\n",
        "sample_std = np.std(data, ddof=1)  #standard deviation\n",
        "\n",
        "#Confidence level\n",
        "confidence_level = 0.95  # 95% confidence level\n",
        "\n",
        "#the critical t-value for the confidence level\n",
        "critical_value = stats.t.ppf((1 + confidence_level) / 2, df=sample_size - 1)\n",
        "\n",
        "#the margin of error\n",
        "margin_of_error = critical_value * (sample_std / np.sqrt(sample_size))\n",
        "\n",
        "#the confidence interval\n",
        "confidence_interval = (sample_mean - margin_of_error, sample_mean + margin_of_error)\n",
        "\n",
        "#results\n",
        "print(f'Sample Mean: {sample_mean:.2f}')\n",
        "print(f'Confidence Interval: {confidence_interval[0]:.2f} to {confidence_interval[1]:.2f}')\n",
        "\n",
        "#Interpretation\n",
        "print(f'We are {confidence_level*100:.0f}% confident that the true population mean lies within this interval.')"
      ],
      "metadata": {
        "id": "YL4JCXVcvg8A",
        "colab": {
          "base_uri": "https://localhost:8080/"
        },
        "outputId": "de082286-8f3a-4c9b-9c23-6acc05be3cda"
      },
      "execution_count": 29,
      "outputs": [
        {
          "output_type": "stream",
          "name": "stdout",
          "text": [
            "Sample Mean: 49.87\n",
            "Confidence Interval: 46.49 to 53.25\n",
            "We are 95% confident that the true population mean lies within this interval.\n"
          ]
        }
      ]
    },
    {
      "cell_type": "code",
      "source": [
        "#Ques18 Write a Python script to calculate and visualize the probability density function (PDF) of a normal distribution\n",
        "#Ans\n",
        "#the normal distribution\n",
        "mean = 0      # Mean of the distribution\n",
        "std_dev = 1   # Standard deviation of the distribution\n",
        "\n",
        "#x values\n",
        "x = np.linspace(mean - 4*std_dev, mean + 4*std_dev, 1000)\n",
        "#the PDF of the normal distribution\n",
        "pdf = norm.pdf(x, mean, std_dev)\n",
        "\n",
        "#Plot the PDF\n",
        "plt.plot(x, pdf, color='blue', label='Normal Distribution PDF')\n",
        "plt.title('Probability Density Function of Normal Distribution')\n",
        "plt.xlabel('Value')\n",
        "plt.ylabel('Probability Density')\n",
        "plt.axhline(0, color='black', lw=0.5, ls='--')\n",
        "plt.axvline(mean, color='red', lw=0.5, ls='--', label='Mean (0)')\n",
        "plt.legend()\n",
        "plt.grid()\n",
        "plt.show()"
      ],
      "metadata": {
        "id": "OK573d78vg4o",
        "colab": {
          "base_uri": "https://localhost:8080/",
          "height": 472
        },
        "outputId": "e6b5b8d2-ad06-460d-ff1a-e2711d2b3600"
      },
      "execution_count": 30,
      "outputs": [
        {
          "output_type": "display_data",
          "data": {
            "text/plain": [
              "<Figure size 640x480 with 1 Axes>"
            ],
            "image/png": "[encoded data removed]"
          },
          "metadata": {}
        }
      ]
    },
    {
      "cell_type": "code",
      "source": [
        "#Ques19 Use Python to calculate and interpret the cumulative distribution function (CDF) of a Poisson distribution\n",
        "#Ans\n",
        "#the Poisson distribution\n",
        "lambda_param = 5  # Average rate (lambda)\n",
        "\n",
        "#x values (number of events)\n",
        "x = np.arange(0, 15)\n",
        "\n",
        "#the CDF of the Poisson distribution\n",
        "cdf = poisson.cdf(x, lambda_param)\n",
        "\n",
        "#CDF values\n",
        "for k, prob in zip(x, cdf):\n",
        "    print(f'P(X ≤ {k}) = {prob:.4f}')\n",
        "\n",
        "#Plot the CDF\n",
        "plt.step(x, cdf, where='post', color='blue', label='Poisson CDF', linewidth=2)\n",
        "plt.title('Cumulative Distribution Function of Poisson Distribution')\n",
        "plt.xlabel('Number of Events (k)')\n",
        "plt.ylabel('Cumulative Probability')\n",
        "plt.axhline(0, color='black', lw=0.5, ls='--')\n",
        "plt.axvline(lambda_param, color='red', lw=0.5, ls='--', label='λ (5)')\n",
        "plt.legend()\n",
        "plt.grid()\n",
        "plt.show()\n",
        "\n",
        "#Interpretation\n",
        "print(f'\\nInterpretation: The CDF value at k=5 is {cdf[lambda_param]:.4f}, meaning there is a {cdf[lambda_param]*100:.2f}% probability of observing 5 or fewer events.')"
      ],
      "metadata": {
        "id": "b9nVhzaavgum",
        "colab": {
          "base_uri": "https://localhost:8080/",
          "height": 767
        },
        "outputId": "fa6d6d9b-8e39-4d03-ad30-5acf809ad28d"
      },
      "execution_count": 31,
      "outputs": [
        {
          "output_type": "stream",
          "name": "stdout",
          "text": [
            "P(X ≤ 0) = 0.0067\n",
            "P(X ≤ 1) = 0.0404\n",
            "P(X ≤ 2) = 0.1247\n",
            "P(X ≤ 3) = 0.2650\n",
            "P(X ≤ 4) = 0.4405\n",
            "P(X ≤ 5) = 0.6160\n",
            "P(X ≤ 6) = 0.7622\n",
            "P(X ≤ 7) = 0.8666\n",
            "P(X ≤ 8) = 0.9319\n",
            "P(X ≤ 9) = 0.9682\n",
            "P(X ≤ 10) = 0.9863\n",
            "P(X ≤ 11) = 0.9945\n",
            "P(X ≤ 12) = 0.9980\n",
            "P(X ≤ 13) = 0.9993\n",
            "P(X ≤ 14) = 0.9998\n"
          ]
        },
        {
          "output_type": "display_data",
          "data": {
            "text/plain": [
              "<Figure size 640x480 with 1 Axes>"
            ],
            "image/png": "[encoded data removed]"
          },
          "metadata": {}
        },
        {
          "output_type": "stream",
          "name": "stdout",
          "text": [
            "\n",
            "Interpretation: The CDF value at k=5 is 0.6160, meaning there is a 61.60% probability of observing 5 or fewer events.\n"
          ]
        }
      ]
    },
    {
      "cell_type": "code",
      "source": [
        "#Ques20 Simulate a random variable using a continuous uniform distribution and calculate its expected value\n",
        "#Ans\n",
        "import numpy as np\n",
        "\n",
        "#the continuous uniform distribution\n",
        "low = 0    #Min value\n",
        "high = 10  #Max value\n",
        "num_samples = 1000  #Number of random samples\n",
        "\n",
        "#Simulate random variables from a continuous uniform distribution\n",
        "random_variables = np.random.uniform(low, high, num_samples)\n",
        "\n",
        "#the expected value (mean) of the uniform distribution\n",
        "expected_value = (low + high) / 2\n",
        "\n",
        "#results\n",
        "print(f'Simulated Random Variables: {random_variables[:10]}...')  # Display first 10 samples\n",
        "print(f'Expected Value: {expected_value:.2f}')"
      ],
      "metadata": {
        "id": "OMlSvx4Dvgrc",
        "colab": {
          "base_uri": "https://localhost:8080/"
        },
        "outputId": "4eead32f-fbf1-4b4f-deda-4ceb0fa2df7e"
      },
      "execution_count": 32,
      "outputs": [
        {
          "output_type": "stream",
          "name": "stdout",
          "text": [
            "Simulated Random Variables: [7.43955591 2.81077804 7.84817372 5.78431575 4.19036361 5.0509774\n",
            " 9.98827748 4.4327652  4.41433957 2.45369283]...\n",
            "Expected Value: 5.00\n"
          ]
        }
      ]
    },
    {
      "cell_type": "code",
      "source": [],
      "metadata": {
        "id": "m_fyQx7_vgof"
      },
      "execution_count": null,
      "outputs": []
    },
    {
      "cell_type": "code",
      "source": [],
      "metadata": {
        "id": "51MrRh1JvglX"
      },
      "execution_count": null,
      "outputs": []
    },
    {
      "cell_type": "code",
      "source": [],
      "metadata": {
        "id": "DCHN2xo8vgiC"
      },
      "execution_count": null,
      "outputs": []
    },
    {
      "cell_type": "code",
      "source": [],
      "metadata": {
        "id": "sFM0e32cvgez"
      },
      "execution_count": null,
      "outputs": []
    },
    {
      "cell_type": "code",
      "source": [],
      "metadata": {
        "id": "MoOr-saFvgVP"
      },
      "execution_count": null,
      "outputs": []
    },
    {
      "cell_type": "code",
      "source": [],
      "metadata": {
        "id": "f9fSzaRLvgSY"
      },
      "execution_count": null,
      "outputs": []
    },
    {
      "cell_type": "code",
      "source": [],
      "metadata": {
        "id": "LBFggFTCvgPK"
      },
      "execution_count": null,
      "outputs": []
    },
    {
      "cell_type": "code",
      "source": [],
      "metadata": {
        "id": "p1StPfPKvgL0"
      },
      "execution_count": null,
      "outputs": []
    },
    {
      "cell_type": "code",
      "source": [],
      "metadata": {
        "id": "k90z9ez2vgIQ"
      },
      "execution_count": null,
      "outputs": []
    },
    {
      "cell_type": "code",
      "source": [],
      "metadata": {
        "id": "hfda4IsuvgFR"
      },
      "execution_count": null,
      "outputs": []
    },
    {
      "cell_type": "code",
      "source": [],
      "metadata": {
        "id": "dVDVEU8jvgCW"
      },
      "execution_count": null,
      "outputs": []
    },
    {
      "cell_type": "code",
      "source": [],
      "metadata": {
        "id": "_BRerwWDvf_j"
      },
      "execution_count": null,
      "outputs": []
    },
    {
      "cell_type": "code",
      "source": [],
      "metadata": {
        "id": "-yLbLuvJvf8n"
      },
      "execution_count": null,
      "outputs": []
    },
    {
      "cell_type": "code",
      "source": [],
      "metadata": {
        "id": "3vohpBNovf56"
      },
      "execution_count": null,
      "outputs": []
    },
    {
      "cell_type": "code",
      "source": [],
      "metadata": {
        "id": "WCYMH6tTvf20"
      },
      "execution_count": null,
      "outputs": []
    },
    {
      "cell_type": "code",
      "source": [],
      "metadata": {
        "id": "gV4x2t0Tvfuy"
      },
      "execution_count": null,
      "outputs": []
    },
    {
      "cell_type": "code",
      "source": [],
      "metadata": {
        "id": "3Bgu-H7mvfsA"
      },
      "execution_count": null,
      "outputs": []
    },
    {
      "cell_type": "code",
      "source": [],
      "metadata": {
        "id": "ac2bq9QNvfpM"
      },
      "execution_count": null,
      "outputs": []
    },
    {
      "cell_type": "code",
      "source": [],
      "metadata": {
        "id": "--YhRl06vfmY"
      },
      "execution_count": null,
      "outputs": []
    },
    {
      "cell_type": "code",
      "source": [],
      "metadata": {
        "id": "Equhmq-yvfjh"
      },
      "execution_count": null,
      "outputs": []
    },
    {
      "cell_type": "code",
      "source": [],
      "metadata": {
        "id": "M5GDOXvrvfgf"
      },
      "execution_count": null,
      "outputs": []
    },
    {
      "cell_type": "code",
      "source": [],
      "metadata": {
        "id": "r2y9n2tQvfYI"
      },
      "execution_count": null,
      "outputs": []
    },
    {
      "cell_type": "code",
      "source": [],
      "metadata": {
        "id": "U9XW8uZsvfVV"
      },
      "execution_count": null,
      "outputs": []
    },
    {
      "cell_type": "code",
      "source": [],
      "metadata": {
        "id": "0Rh2zFKtvfSC"
      },
      "execution_count": null,
      "outputs": []
    },
    {
      "cell_type": "code",
      "source": [],
      "metadata": {
        "id": "IsyODg_uvfOq"
      },
      "execution_count": null,
      "outputs": []
    },
    {
      "cell_type": "code",
      "source": [],
      "metadata": {
        "id": "WW34DKPSvfGY"
      },
      "execution_count": null,
      "outputs": []
    },
    {
      "cell_type": "code",
      "source": [],
      "metadata": {
        "id": "im2n5xRGvfDf"
      },
      "execution_count": null,
      "outputs": []
    },
    {
      "cell_type": "code",
      "source": [],
      "metadata": {
        "id": "dTszIADtvfAW"
      },
      "execution_count": null,
      "outputs": []
    },
    {
      "cell_type": "code",
      "source": [],
      "metadata": {
        "id": "o9ksldE7ve9B"
      },
      "execution_count": null,
      "outputs": []
    },
    {
      "cell_type": "code",
      "source": [],
      "metadata": {
        "id": "rJivV5Wnve6L"
      },
      "execution_count": null,
      "outputs": []
    },
    {
      "cell_type": "code",
      "source": [],
      "metadata": {
        "id": "CPHBA2zZveyG"
      },
      "execution_count": null,
      "outputs": []
    },
    {
      "cell_type": "code",
      "source": [],
      "metadata": {
        "id": "OZMLg33uvevX"
      },
      "execution_count": null,
      "outputs": []
    },
    {
      "cell_type": "code",
      "source": [],
      "metadata": {
        "id": "SRboKMUrvesE"
      },
      "execution_count": null,
      "outputs": []
    },
    {
      "cell_type": "code",
      "source": [],
      "metadata": {
        "id": "I2ZtXd1tvepZ"
      },
      "execution_count": null,
      "outputs": []
    },
    {
      "cell_type": "code",
      "source": [],
      "metadata": {
        "id": "TeFtPFz3vemd"
      },
      "execution_count": null,
      "outputs": []
    },
    {
      "cell_type": "code",
      "source": [],
      "metadata": {
        "id": "xpwO-l56veeA"
      },
      "execution_count": null,
      "outputs": []
    },
    {
      "cell_type": "code",
      "source": [],
      "metadata": {
        "id": "cZl9eFNLvebM"
      },
      "execution_count": null,
      "outputs": []
    },
    {
      "cell_type": "code",
      "source": [],
      "metadata": {
        "id": "CAvm_hYTveTf"
      },
      "execution_count": null,
      "outputs": []
    },
    {
      "cell_type": "code",
      "source": [],
      "metadata": {
        "id": "jmCCHZfEveLe"
      },
      "execution_count": null,
      "outputs": []
    },
    {
      "cell_type": "code",
      "source": [],
      "metadata": {
        "id": "Em2xiIBpveIU"
      },
      "execution_count": null,
      "outputs": []
    },
    {
      "cell_type": "code",
      "source": [],
      "metadata": {
        "id": "Od5jZihlveFt"
      },
      "execution_count": null,
      "outputs": []
    },
    {
      "cell_type": "code",
      "source": [],
      "metadata": {
        "id": "75AKr7DjveCu"
      },
      "execution_count": null,
      "outputs": []
    },
    {
      "cell_type": "code",
      "source": [],
      "metadata": {
        "id": "ATq8xIrFvd7L"
      },
      "execution_count": null,
      "outputs": []
    },
    {
      "cell_type": "code",
      "source": [],
      "metadata": {
        "id": "apvlYFWuvd3n"
      },
      "execution_count": null,
      "outputs": []
    },
    {
      "cell_type": "code",
      "source": [],
      "metadata": {
        "id": "thjIiUzWvd1J"
      },
      "execution_count": null,
      "outputs": []
    },
    {
      "cell_type": "code",
      "source": [],
      "metadata": {
        "id": "qD3n2CBivdyI"
      },
      "execution_count": null,
      "outputs": []
    },
    {
      "cell_type": "code",
      "source": [],
      "metadata": {
        "id": "LoMSz4YDvdqf"
      },
      "execution_count": null,
      "outputs": []
    },
    {
      "cell_type": "code",
      "source": [],
      "metadata": {
        "id": "S4vPTnDkvdnO"
      },
      "execution_count": null,
      "outputs": []
    },
    {
      "cell_type": "code",
      "source": [],
      "metadata": {
        "id": "ceEsvR_Hvdkw"
      },
      "execution_count": null,
      "outputs": []
    },
    {
      "cell_type": "code",
      "source": [],
      "metadata": {
        "id": "QDSK7Igtvdh4"
      },
      "execution_count": null,
      "outputs": []
    },
    {
      "cell_type": "code",
      "source": [],
      "metadata": {
        "id": "SpX55k8jvdfO"
      },
      "execution_count": null,
      "outputs": []
    },
    {
      "cell_type": "code",
      "source": [],
      "metadata": {
        "id": "OWpXZvmHvdah"
      },
      "execution_count": null,
      "outputs": []
    },
    {
      "cell_type": "code",
      "source": [],
      "metadata": {
        "id": "DWg3C2sIvdTr"
      },
      "execution_count": null,
      "outputs": []
    },
    {
      "cell_type": "code",
      "source": [],
      "metadata": {
        "id": "wm9TfvRTvdQo"
      },
      "execution_count": null,
      "outputs": []
    },
    {
      "cell_type": "code",
      "source": [],
      "metadata": {
        "id": "b4ZaCI98vdJ7"
      },
      "execution_count": null,
      "outputs": []
    },
    {
      "cell_type": "code",
      "source": [],
      "metadata": {
        "id": "KRhB80BnvdF7"
      },
      "execution_count": null,
      "outputs": []
    },
    {
      "cell_type": "code",
      "source": [],
      "metadata": {
        "id": "zTCjFaFevdCv"
      },
      "execution_count": null,
      "outputs": []
    },
    {
      "cell_type": "code",
      "source": [],
      "metadata": {
        "id": "6zRLE1qzvdAN"
      },
      "execution_count": null,
      "outputs": []
    },
    {
      "cell_type": "code",
      "source": [],
      "metadata": {
        "id": "4AGnXHj2vc9I"
      },
      "execution_count": null,
      "outputs": []
    },
    {
      "cell_type": "code",
      "source": [],
      "metadata": {
        "id": "FDLDkQ3Jvc16"
      },
      "execution_count": null,
      "outputs": []
    },
    {
      "cell_type": "code",
      "source": [],
      "metadata": {
        "id": "m0uiKahqvcy7"
      },
      "execution_count": null,
      "outputs": []
    },
    {
      "cell_type": "code",
      "source": [],
      "metadata": {
        "id": "0-62eT_xvcse"
      },
      "execution_count": null,
      "outputs": []
    },
    {
      "cell_type": "code",
      "source": [],
      "metadata": {
        "id": "dUjvRbk_vcqD"
      },
      "execution_count": null,
      "outputs": []
    },
    {
      "cell_type": "code",
      "source": [],
      "metadata": {
        "id": "v4qnNYAzvcjZ"
      },
      "execution_count": null,
      "outputs": []
    },
    {
      "cell_type": "code",
      "source": [],
      "metadata": {
        "id": "sQsQBXsCvcgt"
      },
      "execution_count": null,
      "outputs": []
    },
    {
      "cell_type": "code",
      "source": [],
      "metadata": {
        "id": "QNPVM61vvcZJ"
      },
      "execution_count": null,
      "outputs": []
    },
    {
      "cell_type": "code",
      "source": [],
      "metadata": {
        "id": "JmyI7M8KvcQv"
      },
      "execution_count": null,
      "outputs": []
    },
    {
      "cell_type": "code",
      "source": [],
      "metadata": {
        "id": "tCo58UNhvcNp"
      },
      "execution_count": null,
      "outputs": []
    },
    {
      "cell_type": "code",
      "source": [],
      "metadata": {
        "id": "ZwGP7gE9vcLR"
      },
      "execution_count": null,
      "outputs": []
    },
    {
      "cell_type": "code",
      "source": [],
      "metadata": {
        "id": "R3R9KZKhvcIL"
      },
      "execution_count": null,
      "outputs": []
    },
    {
      "cell_type": "code",
      "source": [],
      "metadata": {
        "id": "1cC4qtkWvcFj"
      },
      "execution_count": null,
      "outputs": []
    },
    {
      "cell_type": "code",
      "source": [],
      "metadata": {
        "id": "ETSNEOVWvb_x"
      },
      "execution_count": null,
      "outputs": []
    },
    {
      "cell_type": "code",
      "source": [],
      "metadata": {
        "id": "kQrjjWe3vb8j"
      },
      "execution_count": null,
      "outputs": []
    },
    {
      "cell_type": "code",
      "source": [],
      "metadata": {
        "id": "mVw2JMfVvb6S"
      },
      "execution_count": null,
      "outputs": []
    },
    {
      "cell_type": "code",
      "source": [],
      "metadata": {
        "id": "Foc9sPjrvb09"
      },
      "execution_count": null,
      "outputs": []
    },
    {
      "cell_type": "code",
      "source": [],
      "metadata": {
        "id": "0Ezmfgmovbw2"
      },
      "execution_count": null,
      "outputs": []
    },
    {
      "cell_type": "code",
      "source": [],
      "metadata": {
        "id": "SW05q7Cmvbrm"
      },
      "execution_count": null,
      "outputs": []
    },
    {
      "cell_type": "code",
      "source": [],
      "metadata": {
        "id": "QS3SxqwEvboK"
      },
      "execution_count": null,
      "outputs": []
    },
    {
      "cell_type": "code",
      "source": [],
      "metadata": {
        "id": "uCQvSqM1vblm"
      },
      "execution_count": null,
      "outputs": []
    },
    {
      "cell_type": "code",
      "source": [],
      "metadata": {
        "id": "1TKYOs3bvbie"
      },
      "execution_count": null,
      "outputs": []
    },
    {
      "cell_type": "code",
      "source": [],
      "metadata": {
        "id": "IVc-FTTOvbft"
      },
      "execution_count": null,
      "outputs": []
    },
    {
      "cell_type": "code",
      "source": [],
      "metadata": {
        "id": "O_WgZsrjvbaS"
      },
      "execution_count": null,
      "outputs": []
    },
    {
      "cell_type": "code",
      "source": [],
      "metadata": {
        "id": "Iutsrhq-vbUt"
      },
      "execution_count": null,
      "outputs": []
    },
    {
      "cell_type": "code",
      "source": [],
      "metadata": {
        "id": "kP_Ng_yDvbSB"
      },
      "execution_count": null,
      "outputs": []
    },
    {
      "cell_type": "code",
      "source": [],
      "metadata": {
        "id": "I2M9Cbx_vbPo"
      },
      "execution_count": null,
      "outputs": []
    },
    {
      "cell_type": "code",
      "source": [],
      "metadata": {
        "id": "uE-icxf_vbKM"
      },
      "execution_count": null,
      "outputs": []
    },
    {
      "cell_type": "code",
      "source": [],
      "metadata": {
        "id": "FJczMcYQvbG_"
      },
      "execution_count": null,
      "outputs": []
    },
    {
      "cell_type": "code",
      "source": [],
      "metadata": {
        "id": "GeyW8snfvbEb"
      },
      "execution_count": null,
      "outputs": []
    },
    {
      "cell_type": "code",
      "source": [],
      "metadata": {
        "id": "_gGez51PvbCH"
      },
      "execution_count": null,
      "outputs": []
    },
    {
      "cell_type": "code",
      "source": [],
      "metadata": {
        "id": "73oze7MMva9k"
      },
      "execution_count": null,
      "outputs": []
    },
    {
      "cell_type": "code",
      "source": [],
      "metadata": {
        "id": "NNnRlj97va69"
      },
      "execution_count": null,
      "outputs": []
    },
    {
      "cell_type": "code",
      "source": [],
      "metadata": {
        "id": "8Rzj6piWva4z"
      },
      "execution_count": null,
      "outputs": []
    },
    {
      "cell_type": "code",
      "source": [],
      "metadata": {
        "id": "86reVBniva0W"
      },
      "execution_count": null,
      "outputs": []
    },
    {
      "cell_type": "code",
      "source": [],
      "metadata": {
        "id": "6kVUIa16vaw0"
      },
      "execution_count": null,
      "outputs": []
    },
    {
      "cell_type": "code",
      "source": [],
      "metadata": {
        "id": "PgkXA-Nkvat6"
      },
      "execution_count": null,
      "outputs": []
    },
    {
      "cell_type": "code",
      "source": [],
      "metadata": {
        "id": "7PntiiZdvaq_"
      },
      "execution_count": null,
      "outputs": []
    },
    {
      "cell_type": "code",
      "source": [],
      "metadata": {
        "id": "Z17VkUhovaor"
      },
      "execution_count": null,
      "outputs": []
    },
    {
      "cell_type": "code",
      "source": [],
      "metadata": {
        "id": "po1BtX81vakn"
      },
      "execution_count": null,
      "outputs": []
    },
    {
      "cell_type": "code",
      "source": [],
      "metadata": {
        "id": "ISnaXVzTvahn"
      },
      "execution_count": null,
      "outputs": []
    },
    {
      "cell_type": "code",
      "source": [],
      "metadata": {
        "id": "k34ndIXxvafc"
      },
      "execution_count": null,
      "outputs": []
    },
    {
      "cell_type": "code",
      "source": [],
      "metadata": {
        "id": "GkwkkS9JvabV"
      },
      "execution_count": null,
      "outputs": []
    },
    {
      "cell_type": "code",
      "source": [],
      "metadata": {
        "id": "zg91Kn0yvaXt"
      },
      "execution_count": null,
      "outputs": []
    },
    {
      "cell_type": "code",
      "source": [],
      "metadata": {
        "id": "Sff3o6S-vaTq"
      },
      "execution_count": null,
      "outputs": []
    },
    {
      "cell_type": "code",
      "source": [],
      "metadata": {
        "id": "KT_1guWKvaQU"
      },
      "execution_count": null,
      "outputs": []
    },
    {
      "cell_type": "code",
      "source": [],
      "metadata": {
        "id": "62F4mAmPvaNG"
      },
      "execution_count": null,
      "outputs": []
    },
    {
      "cell_type": "code",
      "source": [],
      "metadata": {
        "id": "Qk6i-1jxvaID"
      },
      "execution_count": null,
      "outputs": []
    },
    {
      "cell_type": "code",
      "source": [],
      "metadata": {
        "id": "R13wbS3_vaES"
      },
      "execution_count": null,
      "outputs": []
    },
    {
      "cell_type": "code",
      "source": [],
      "metadata": {
        "id": "n5Au4RNBvaAu"
      },
      "execution_count": null,
      "outputs": []
    },
    {
      "cell_type": "code",
      "source": [],
      "metadata": {
        "id": "DFPD3JrQvZ85"
      },
      "execution_count": null,
      "outputs": []
    },
    {
      "cell_type": "code",
      "source": [],
      "metadata": {
        "id": "FygW1FlsvZ3-"
      },
      "execution_count": null,
      "outputs": []
    },
    {
      "cell_type": "code",
      "source": [],
      "metadata": {
        "id": "9Y2UUavSvZ0k"
      },
      "execution_count": null,
      "outputs": []
    },
    {
      "cell_type": "code",
      "source": [],
      "metadata": {
        "id": "BsogBQqkvZxH"
      },
      "execution_count": null,
      "outputs": []
    },
    {
      "cell_type": "code",
      "source": [],
      "metadata": {
        "id": "pHm51uadvZtR"
      },
      "execution_count": null,
      "outputs": []
    },
    {
      "cell_type": "code",
      "source": [],
      "metadata": {
        "id": "WgnKD4llvZq1"
      },
      "execution_count": null,
      "outputs": []
    },
    {
      "cell_type": "code",
      "source": [],
      "metadata": {
        "id": "I3Lb7De3vZoz"
      },
      "execution_count": null,
      "outputs": []
    },
    {
      "cell_type": "code",
      "source": [],
      "metadata": {
        "id": "d9YgE3HavZlY"
      },
      "execution_count": null,
      "outputs": []
    },
    {
      "cell_type": "code",
      "source": [],
      "metadata": {
        "id": "g8UeBSH9vZh0"
      },
      "execution_count": null,
      "outputs": []
    },
    {
      "cell_type": "code",
      "source": [],
      "metadata": {
        "id": "fpxSAa_KvZeN"
      },
      "execution_count": null,
      "outputs": []
    },
    {
      "cell_type": "code",
      "source": [],
      "metadata": {
        "id": "62nasEE-vZas"
      },
      "execution_count": null,
      "outputs": []
    },
    {
      "cell_type": "code",
      "source": [],
      "metadata": {
        "id": "-tcvwH9hvZXT"
      },
      "execution_count": null,
      "outputs": []
    },
    {
      "cell_type": "code",
      "source": [],
      "metadata": {
        "id": "wAjQKEinvZUQ"
      },
      "execution_count": null,
      "outputs": []
    },
    {
      "cell_type": "code",
      "source": [],
      "metadata": {
        "id": "vSh1frn8vZRX"
      },
      "execution_count": null,
      "outputs": []
    },
    {
      "cell_type": "code",
      "source": [],
      "metadata": {
        "id": "Cvg6rR6AvZPj"
      },
      "execution_count": null,
      "outputs": []
    },
    {
      "cell_type": "code",
      "source": [],
      "metadata": {
        "id": "c2ZWGzyBvZMI"
      },
      "execution_count": null,
      "outputs": []
    },
    {
      "cell_type": "code",
      "source": [],
      "metadata": {
        "id": "raLlrB6svZI-"
      },
      "execution_count": null,
      "outputs": []
    },
    {
      "cell_type": "code",
      "source": [],
      "metadata": {
        "id": "Kj4rZfCAvZF5"
      },
      "execution_count": null,
      "outputs": []
    },
    {
      "cell_type": "code",
      "source": [],
      "metadata": {
        "id": "M9g9u4jGvZB2"
      },
      "execution_count": null,
      "outputs": []
    },
    {
      "cell_type": "code",
      "source": [],
      "metadata": {
        "id": "uhqTwkO3vY_A"
      },
      "execution_count": null,
      "outputs": []
    },
    {
      "cell_type": "code",
      "source": [],
      "metadata": {
        "id": "1Sy56lOEvY86"
      },
      "execution_count": null,
      "outputs": []
    },
    {
      "cell_type": "code",
      "source": [],
      "metadata": {
        "id": "TOAj1X8fvY54"
      },
      "execution_count": null,
      "outputs": []
    },
    {
      "cell_type": "code",
      "source": [],
      "metadata": {
        "id": "q2BsgfzovY2f"
      },
      "execution_count": null,
      "outputs": []
    },
    {
      "cell_type": "code",
      "source": [],
      "metadata": {
        "id": "dUpwp1g7vYzO"
      },
      "execution_count": null,
      "outputs": []
    },
    {
      "cell_type": "code",
      "source": [],
      "metadata": {
        "id": "BDQwA82FvYv7"
      },
      "execution_count": null,
      "outputs": []
    },
    {
      "cell_type": "code",
      "source": [],
      "metadata": {
        "id": "cIN8-V-yvYsv"
      },
      "execution_count": null,
      "outputs": []
    },
    {
      "cell_type": "code",
      "source": [],
      "metadata": {
        "id": "Bykk8RM1vYps"
      },
      "execution_count": null,
      "outputs": []
    },
    {
      "cell_type": "code",
      "source": [],
      "metadata": {
        "id": "7AeKuxAvvYm2"
      },
      "execution_count": null,
      "outputs": []
    },
    {
      "cell_type": "code",
      "source": [],
      "metadata": {
        "id": "6Gvybj0ovYj-"
      },
      "execution_count": null,
      "outputs": []
    },
    {
      "cell_type": "code",
      "source": [],
      "metadata": {
        "id": "fIl1GJDevYg4"
      },
      "execution_count": null,
      "outputs": []
    },
    {
      "cell_type": "code",
      "source": [],
      "metadata": {
        "id": "xueMslravYd7"
      },
      "execution_count": null,
      "outputs": []
    },
    {
      "cell_type": "code",
      "source": [],
      "metadata": {
        "id": "-eD-rhmbvYaZ"
      },
      "execution_count": null,
      "outputs": []
    },
    {
      "cell_type": "code",
      "source": [],
      "metadata": {
        "id": "Z-59qjUDvYXg"
      },
      "execution_count": null,
      "outputs": []
    },
    {
      "cell_type": "code",
      "source": [],
      "metadata": {
        "id": "EVSHr75QvYUV"
      },
      "execution_count": null,
      "outputs": []
    },
    {
      "cell_type": "code",
      "source": [],
      "metadata": {
        "id": "-wyuw0pHvYRK"
      },
      "execution_count": null,
      "outputs": []
    },
    {
      "cell_type": "code",
      "source": [],
      "metadata": {
        "id": "dDZTQ1v-vYN-"
      },
      "execution_count": null,
      "outputs": []
    },
    {
      "cell_type": "code",
      "source": [],
      "metadata": {
        "id": "4a5_m4djvYK5"
      },
      "execution_count": null,
      "outputs": []
    },
    {
      "cell_type": "code",
      "source": [],
      "metadata": {
        "id": "8fo8GseqvYIB"
      },
      "execution_count": null,
      "outputs": []
    },
    {
      "cell_type": "code",
      "source": [],
      "metadata": {
        "id": "8NE7zC9KvYFP"
      },
      "execution_count": null,
      "outputs": []
    },
    {
      "cell_type": "code",
      "source": [],
      "metadata": {
        "id": "xWmIZvvMvYCK"
      },
      "execution_count": null,
      "outputs": []
    },
    {
      "cell_type": "code",
      "source": [],
      "metadata": {
        "id": "pNrY6SD1vX_Z"
      },
      "execution_count": null,
      "outputs": []
    },
    {
      "cell_type": "code",
      "source": [],
      "metadata": {
        "id": "jjKX4-GgvX8o"
      },
      "execution_count": null,
      "outputs": []
    },
    {
      "cell_type": "code",
      "source": [],
      "metadata": {
        "id": "VhDVWEpNvX5h"
      },
      "execution_count": null,
      "outputs": []
    },
    {
      "cell_type": "code",
      "execution_count": null,
      "metadata": {
        "id": "EfW8HhCfvWtZ"
      },
      "outputs": [],
      "source": []
    }
  ]
}