{
  "nbformat": 4,
  "nbformat_minor": 0,
  "metadata": {
    "colab": {
      "provenance": []
    },
    "kernelspec": {
      "name": "python3",
      "display_name": "Python 3"
    },
    "language_info": {
      "name": "python"
    }
  },
  "cells": [
    {
      "cell_type": "code",
      "source": [
        "#Ques1 What is hypothesis testing in statistics?\n",
        "#Ans  Hypothesis testing in statistics is a method used to make decisions or inferences about population parameters based on sample data.\n",
        "\n",
        "#It involves the following key components:\n",
        "\n",
        "#Null Hypothesis ((H_0)): A statement that there is no effect or no difference, serving as the default assumption.\n",
        "#Alternative Hypothesis ((H_a) or (H_1)): A statement that contradicts the null hypothesis, indicating the presence of an effect or difference.\n",
        "#Test Statistic: A standardized value calculated from sample data that is used to determine whether to reject the null hypothesis.\n",
        "#P-value: The probability of obtaining a test statistic as extreme as, or more extreme than, the observed value under the null hypothesis. A low p-value indicates strong evidence against (H_0).\n",
        "#Significance Level ((\\alpha)): A threshold (commonly set at 0.05) used to determine whether to reject the null hypothesis. If the p-value is less than (\\alpha), (H_0) is rejected.\n",
        "#Conclusion: Based on the comparison of the p-value and the significance level, a decision is made to either reject or fail to reject the null hypothesis."
      ],
      "metadata": {
        "id": "JCn9uIPu-1CD"
      },
      "execution_count": null,
      "outputs": []
    },
    {
      "cell_type": "code",
      "source": [
        "#Ques2  What is the null hypothesis, and how does it differ from the alternative hypothesis?\n",
        "#Ans The null hypothesis ((H_0)) is a statement that there is no effect, no difference, or no relationship between variables in a population.\n",
        "#It serves as the default assumption in hypothesis testing.\n",
        "\n",
        "#The alternative hypothesis ((H_a) or (H_1)) is a statement that contradicts the null hypothesis, suggesting that there is an effect, a difference, or a relationship.\n",
        "\n",
        "#Key Differences:\n",
        "\n",
        "#Nature: (H_0) assumes no effect; (H_a) assumes there is an effect.\n",
        "#Testing: The null hypothesis is tested directly, while the alternative hypothesis is what researchers aim to support.\n",
        "#Directionality: (H_a) can be one-tailed (specific direction) or two-tailed (any difference), while (H_0) is typically a specific statement of equality."
      ],
      "metadata": {
        "id": "zCaSqeWp-z4X"
      },
      "execution_count": null,
      "outputs": []
    },
    {
      "cell_type": "code",
      "source": [
        "#Ques3  What is the significance level in hypothesis testing, and why is it important?\n",
        "#Ans The significance level ((\\alpha)) in hypothesis testing is the threshold probability used to determine whether to reject the null hypothesis. It represents the probability of making a Type I error, which occurs when the null hypothesis is incorrectly rejected when it is actually true. Common significance levels are 0.05, 0.01, and 0.10.\n",
        "\n",
        "#Importance:\n",
        "#Decision Making: It helps researchers decide how strong the evidence must be to reject the null hypothesis.\n",
        "#Control of Errors: By setting a significance level, researchers can control the risk of falsely concluding that an effect exists when it does not.\n",
        "#Interpretation of Results: It provides a standard for interpreting p-values, allowing for consistent conclusions across studies. #Ques"
      ],
      "metadata": {
        "id": "AEYITHJ8-z2C"
      },
      "execution_count": null,
      "outputs": []
    },
    {
      "cell_type": "code",
      "source": [
        "#Ques4 What does a P-value represent in hypothesis testing?\n",
        "#Ans A p-value in hypothesis testing represents the probability of obtaining a test statistic as extreme as, or more extreme than, the observed value, assuming that the null hypothesis ((H_0)) is true.\n",
        "\n",
        "#Significance:\n",
        "#A low p-value (typically less than the significance level (\\alpha), such as 0.05) indicates strong evidence against the null hypothesis, leading to its rejection.\n",
        "#A high p-value suggests insufficient evidence to reject the null hypothesis, implying that the observed data is consistent with (H_0)."
      ],
      "metadata": {
        "id": "tgGeb99B-z0r"
      },
      "execution_count": null,
      "outputs": []
    },
    {
      "cell_type": "code",
      "source": [
        "#Ques5 How do you interpret the P-value in hypothesis testing?\n",
        "#Ans In hypothesis testing, the p-value is interpreted as follows:\n",
        "\n",
        "#A low p-value (typically ≤ 0.05) indicates strong evidence against the null hypothesis ((H_0)), suggesting that it should be rejected in favor of the alternative hypothesis ((H_a)).\n",
        "#A high p-value (> 0.05) suggests insufficient evidence to reject the null hypothesis, indicating that the observed data is consistent with (H_0).\n",
        "#Essentially, the p-value quantifies the strength of evidence against the null hypothesis based on the sample data."
      ],
      "metadata": {
        "id": "Cnkw0PC5-zxz"
      },
      "execution_count": null,
      "outputs": []
    },
    {
      "cell_type": "code",
      "source": [
        "#Ques6  What are Type 1 and Type 2 errors in hypothesis testing?\n",
        "#Ans In hypothesis testing:\n",
        "\n",
        "#Type I Error: This occurs when the null hypothesis ((H_0)) is incorrectly rejected when it is actually true. It is denoted by the significance level ((\\alpha)), representing the probability of making this error.\n",
        "\n",
        "#Type II Error: This occurs when the null hypothesis is not rejected when it is false. It is denoted by (\\beta), representing the probability of failing to detect an effect or difference that actually exists."
      ],
      "metadata": {
        "id": "zCpKz1_x-zsZ"
      },
      "execution_count": null,
      "outputs": []
    },
    {
      "cell_type": "code",
      "source": [
        "#Ques7 What is the difference between a one-tailed and a two-tailed test in hypothesis testing?\n",
        "#Ans In hypothesis testing:\n",
        "\n",
        "#One-Tailed Test: This test evaluates the possibility of the relationship in one direction only. It tests whether a parameter is greater than or less than a certain value (e.g., (H_a: \\mu > \\mu_0) or (H_a: \\mu < \\mu_0)). It has more power to detect an effect in that specific direction.\n",
        "\n",
        "#Two-Tailed Test: This test evaluates the possibility of the relationship in both directions. It tests whether a parameter is different from a certain value (e.g., (H_a: \\mu \\neq \\mu_0)). It is used when deviations in either direction are of interest.\n",
        "\n",
        "#Summary:\n",
        "\n",
        "#One-Tailed: Tests for an effect in one direction.\n",
        "#Two-Tailed: Tests for an effect in both directions."
      ],
      "metadata": {
        "id": "8CerP6vx-zKV"
      },
      "execution_count": null,
      "outputs": []
    },
    {
      "cell_type": "code",
      "source": [
        "#Ques8 What is the Z-test, and when is it used in hypothesis testing?\n",
        "#Ans The Z-test is a statistical test used to determine whether there is a significant difference between sample and population means or between the means of two samples when the population variance is known or the sample size is large (typically (n \\geq 30)).\n",
        "\n",
        "#When to Use a Z-test:\n",
        "#When the population standard deviation is known.\n",
        "#When the sample size is large (n ≥ 30), allowing the Central Limit Theorem to apply.\n",
        "#For comparing sample means to a known population mean (one-sample Z-test) or comparing the means of two independent samples (two-sample Z-test)."
      ],
      "metadata": {
        "id": "U_fi0njA-zEL"
      },
      "execution_count": null,
      "outputs": []
    },
    {
      "cell_type": "code",
      "source": [
        "#Ques9 How do you calculate the Z-score, and what does it represent in hypothesis testing?\n",
        "#Ans To calculate the Z-score, use the formula:\n",
        "\n",
        "#[ Z = \\frac{X - \\mu}{\\sigma} ]\n",
        "\n",
        "#Where:\n",
        "\n",
        "#(Z) = Z-score\n",
        "#(X) = value of the sample or observation\n",
        "#(\\mu) = population mean\n",
        "#(\\sigma) = population standard deviation\n",
        "\n",
        "#Representation in Hypothesis Testing:\n",
        "#The Z-score represents the number of standard deviations a data point is from the mean. In hypothesis testing, it is used to determine how far the sample mean is from the population mean under the null hypothesis.\n",
        "#A higher absolute Z-score indicates a greater likelihood of rejecting the null hypothesis, suggesting that the observed data is significantly different from what is expected under (H_0)."
      ],
      "metadata": {
        "id": "UouoPUQS-zAD"
      },
      "execution_count": 1,
      "outputs": []
    },
    {
      "cell_type": "code",
      "source": [
        "#QUes10 What is the T-distribution, and when should it be used instead of the normal distribution?\n",
        "#Ans The T-distribution is a type of probability distribution that is symmetric and bell-shaped, similar to the normal distribution, but has heavier tails.\n",
        "#It is primarily used when dealing with small sample sizes (typically (n < 30)) or when the population standard deviation is unknown, making it more appropriate than the normal distribution in these scenarios. ### Characteristics of the T-distribution:\n",
        "\n",
        "#Shape: Bell-shaped and symmetric, like the normal distribution.\n",
        "#Heavier Tails: Provides a greater chance for extreme values, which is useful for small sample sizes.\n",
        "#Degrees of Freedom: The shape of the T-distribution changes based on the degrees of freedom, which is typically (n - 1) for a sample size of (n).\n",
        "\n",
        "#When to Use the T-distribution:\n",
        "#Small Sample Sizes: When the sample size is less than 30, the T-distribution is preferred due to its ability to account for the increased variability in smaller samples.\n",
        "#Unknown Population Standard Deviation: If the population standard deviation is not known, the T-distribution should be used instead of the normal distribution to avoid underestimating the variability."
      ],
      "metadata": {
        "id": "mUH_TwQ3-y8i"
      },
      "execution_count": null,
      "outputs": []
    },
    {
      "cell_type": "code",
      "source": [
        "#Ques11 What is the difference between a Z-test and a T-test?\n",
        "#Ans The Z-test and T-test are both statistical tests used to determine if there is a significant difference between means, but they differ in their applications and assumptions:\n",
        "\n",
        "#Key Differences:\n",
        "\n",
        "#Sample Size:\n",
        "#Z-test: Used when the sample size is large (typically (n \\geq 30)).\n",
        "#T-test: Used when the sample size is small (typically (n < 30)).\n",
        "\n",
        "#Population Standard Deviation:\n",
        "#Z-test: Requires the population standard deviation to be known.\n",
        "#T-test: Used when the population standard deviation is unknown and is estimated from the sample.\n",
        "\n",
        "#Distribution:\n",
        "#Z-test: Based on the normal distribution.\n",
        "#T-test: Based on the T-distribution, which has heavier tails, making it more appropriate for small samples.\n",
        "\n",
        "#Use Cases:\n",
        "#Z-test: Commonly used for large samples or when comparing sample means to a known population mean.\n",
        "#T-test: Used for comparing means between two groups (independent or paired samples) or when the sample size is small."
      ],
      "metadata": {
        "id": "S5kFFB6r-y4l"
      },
      "execution_count": null,
      "outputs": []
    },
    {
      "cell_type": "code",
      "source": [
        "#Ques12 What is the T-test, and how is it used in hypothesis testing?\n",
        "#Ans The T-test is a statistical test used to determine whether there is a significant difference between the means of two groups or between a sample mean and a population mean. It is particularly useful when the sample size is small (typically (n < 30)) and the population standard deviation is unknown.\n",
        "\n",
        "#Types of T-tests:\n",
        "#One-Sample T-test: Compares the mean of a single sample to a known population mean.\n",
        "#Independent Two-Sample T-test: Compares the means of two independent groups.\n",
        "#Paired Sample T-test: Compares means from the same group at different times (e.g., before and after treatment).\n",
        "\n",
        "#Usage in Hypothesis Testing:\n",
        "#Null Hypothesis ((H_0)): Assumes no difference between the means.\n",
        "#Alternative Hypothesis ((H_a)): Assumes a difference exists.\n",
        "#The T-test calculates a T-statistic, which is then compared to a critical value from the T-distribution based on the degrees of freedom. If the T-statistic exceeds the critical value (or if the p-value is less than the significance level),\n",
        "#the null hypothesis is rejected, indicating a significant difference between the means."
      ],
      "metadata": {
        "id": "IC8CQryj-y1S"
      },
      "execution_count": null,
      "outputs": []
    },
    {
      "cell_type": "code",
      "source": [
        "#Ques13 What is the relationship between Z-test and T-test in hypothesis testing?\n",
        "#Ans The Z-test and T-test are both statistical methods used in hypothesis testing to compare means, but they differ in their application based on sample size and knowledge of population parameters:\n",
        "\n",
        "#Sample Size:\n",
        "#The Z-test is used for large sample sizes (typically (n \\geq 30)), while the T-test is used for small sample sizes (typically (n < 30)).\n",
        "\n",
        "#Population Standard Deviation:\n",
        "#The Z-test requires the population standard deviation to be known, whereas the T-test is used when the population standard deviation is unknown and is estimated from the sample.\n",
        "\n",
        "#Distribution:\n",
        "#The Z-test is based on the normal distribution, while the T-test is based on the T-distribution, which has heavier tails to account for the increased variability in smaller samples.\n",
        "\n",
        "#Relationship:\n",
        "#Both tests serve the same purpose of testing hypotheses about means, but the T-test is more robust for smaller samples and situations where the population standard deviation is not known. As the sample size increases, the T-distribution approaches the normal distribution, making the T-test converge to the Z-test."
      ],
      "metadata": {
        "id": "FFAPYfjs-yza"
      },
      "execution_count": null,
      "outputs": []
    },
    {
      "cell_type": "code",
      "source": [
        "#Ques14 What is a confidence interval, and how is it used to interpret statistical results?\n",
        "#Ans A confidence interval (CI) is a range of values, derived from sample data, that is likely to contain the true population parameter (e.g., mean or proportion) with a specified level of confidence, typically expressed as a percentage (e.g., 95% or 99%).\n",
        "\n",
        "#Interpretation:\n",
        "#A 95% confidence interval means that if the same sampling procedure were repeated many times, approximately 95% of the calculated intervals would contain the true population parameter.\n",
        "#The interval provides an estimate of the uncertainty around the sample statistic, allowing researchers to assess the precision of their estimates.\n",
        "#A wider interval indicates more uncertainty, while a narrower interval suggests more precision.\n",
        "\n",
        "#Usage:\n",
        "#Confidence intervals are used to:\n",
        "#Provide a range of plausible values for the population parameter.\n",
        "#Assess the statistical significance of results (if the interval does not include a value of interest, such as zero for differences in means, it suggests a significant effect).\n",
        "#Communicate the reliability of estimates in research findings."
      ],
      "metadata": {
        "id": "BUhrXocP-yu1"
      },
      "execution_count": null,
      "outputs": []
    },
    {
      "cell_type": "code",
      "source": [
        "#Ques15 What is the margin of error, and how does it affect the confidence interval?\n",
        "#Ans The margin of error (MOE) is a measure of the uncertainty or potential error in a statistical estimate, often expressed as a plus-or-minus value. It quantifies the range within which the true population parameter is expected to lie, based on the sample data.\n",
        "\n",
        "#Calculation:\n",
        "#The margin of error is typically calculated using the formula:\n",
        "#[ \\text{Margin of Error} = z^* \\times \\frac{\\sigma}{\\sqrt{n}} ]\n",
        "#or\n",
        "#[ \\text{Margin of Error} = t^* \\times \\frac{s}{\\sqrt{n}} ]\n",
        "\n",
        "#Where:\n",
        "#(z^) or (t^) is the critical value from the Z-distribution or T-distribution, respectively, corresponding to the desired confidence level.\n",
        "#(\\sigma) is the population standard deviation (or (s) for the sample standard deviation).\n",
        "#(n) is the sample size.\n",
        "\n",
        "#Effect on Confidence Interval:\n",
        "#The margin of error directly affects the width of the confidence interval (CI):\n",
        "\n",
        "#Wider Margin of Error: A larger margin of error results in a wider confidence interval, indicating greater uncertainty about the estimate. This can occur with a smaller sample size or a higher confidence level.\n",
        "#Narrower Margin of Error: A smaller margin of error results in a narrower confidence interval, indicating more precision in the estimate. This can be achieved with a larger sample size or a lower confidence level."
      ],
      "metadata": {
        "id": "aeT6tc6v-ys2"
      },
      "execution_count": null,
      "outputs": []
    },
    {
      "cell_type": "code",
      "source": [
        "#Ques16 How is Bayes' Theorem used in statistics, and what is its significance?\n",
        "#Ans Bayes' Theorem is used in statistics to update the probability of a hypothesis based on new evidence.\n",
        "#It calculates the conditional probability of an event given prior knowledge, allowing for the incorporation of prior beliefs (prior probabilities) and new data (likelihood) to derive updated probabilities (posterior probabilities).\n",
        "\n",
        "#Significance:\n",
        "#Decision Making: It enhances decision-making under uncertainty by providing a systematic way to revise beliefs.\n",
        "#Statistical Inference: It forms the foundation for Bayesian statistics, enabling more flexible modeling and inference compared to traditional frequentist methods.\n",
        "#Applications: Widely used in fields such as medicine (diagnosis), finance (risk assessment), and machine learning (classification and prediction)."
      ],
      "metadata": {
        "id": "7jiJz6Wr-yps"
      },
      "execution_count": null,
      "outputs": []
    },
    {
      "cell_type": "code",
      "source": [
        "#Ques17 What is the Chi-square distribution, and when is it used?\n",
        "#Ans The Chi-square distribution is a continuous probability distribution that is used primarily in statistical inference.\n",
        "#It is characterized by its right-skewed shape and is defined by degrees of freedom, which typically correspond to the number of independent standard normal variables squared.\n",
        "\n",
        "#When It Is Used:\n",
        "#Goodness-of-Fit Tests: To determine if observed categorical data fits a specified distribution.\n",
        "#Test of Independence: To assess whether two categorical variables are independent in a contingency table.\n",
        "#Test of Homogeneity: To compare the distribution of a categorical variable across different populations."
      ],
      "metadata": {
        "id": "ZuovPS6L-yn7"
      },
      "execution_count": null,
      "outputs": []
    },
    {
      "cell_type": "code",
      "source": [
        "#Ques18 What is the Chi-square goodness of fit test, and how is it applied?\n",
        "#Ans The Chi-square goodness of fit test is a statistical test used to determine whether the observed frequencies of a categorical variable match\n",
        "#the expected frequencies based on a specified distribution. It assesses how well the observed data fits a theoretical model.\n",
        "\n",
        "#Application:\n",
        "\n",
        "#Formulate Hypotheses:\n",
        "#Null Hypothesis ((H_0)): The observed frequencies match the expected frequencies.\n",
        "\n",
        "#Alternative Hypothesis ((H_a)): The observed frequencies do not match the expected frequencies.\n",
        "\n",
        "#Calculate Expected Frequencies: Based on the theoretical distribution or proportions.\n",
        "\n",
        "#Compute the Chi-square Statistic: [ \\chi^2 = \\sum \\frac{(O_i - E_i)^2}{E_i} ] Where (O_i) is the observed frequency and (E_i) is the expected frequency.\n",
        "\n",
        "#Determine Degrees of Freedom: Typically calculated as (k - 1), where (k) is the number of categories.\n",
        "\n",
        "#Compare to Critical Value: Use the Chi-square distribution table to find the critical value at a chosen significance level ((\\alpha)) and the calculated degrees of freedom.\n",
        "\n",
        "#Make a Decision: If the calculated Chi-square statistic exceeds the critical value, reject the null hypothesis, indicating that the observed data does not fit the expected distribution."
      ],
      "metadata": {
        "id": "q8Ly9IY5-yfV"
      },
      "execution_count": null,
      "outputs": []
    },
    {
      "cell_type": "code",
      "source": [
        "#Ques19 What is the F-distribution, and when is it used in hypothesis testing?\n",
        "#Ans The F-distribution is a continuous probability distribution that arises in the context of variance analysis. It is characterized by\n",
        "#its right-skewed shape and is defined by two sets of degrees of freedom: one for the numerator and one for the denominator.\n",
        "\n",
        "#When It Is Used in Hypothesis Testing:\n",
        "#Analysis of Variance (ANOVA): To compare the means of three or more groups and determine if at least one group mean is significantly different from the others.\n",
        "#Regression Analysis: To assess the overall significance of a regression model by comparing the variance explained by the model to the variance not explained.\n",
        "#Comparing Variances: To test if two populations have different variances, often in the context of comparing the variability of two datasets."
      ],
      "metadata": {
        "id": "Nfr-YnAV-ybZ"
      },
      "execution_count": null,
      "outputs": []
    },
    {
      "cell_type": "code",
      "source": [
        "#Ques20 What is an ANOVA test, and what are its assumptions?\n",
        "#Ans ANOVA (Analysis of Variance) is a statistical test used to compare the means of three or more groups to determine if at least one group mean is significantly different from the others. It helps assess whether any observed differences in sample means are likely due to random chance or if they reflect true differences in the population.\n",
        "\n",
        "#Assumptions of ANOVA:\n",
        "#Independence: The samples must be independent of each other.\n",
        "#Normality: The data in each group should be approximately normally distributed.\n",
        "#Homogeneity of Variances: The variances among the groups should be roughly equal (homoscedasticity)"
      ],
      "metadata": {
        "id": "BXOaJlOT-yXy"
      },
      "execution_count": null,
      "outputs": []
    },
    {
      "cell_type": "code",
      "source": [
        "#Ques21 What are the different types of ANOVA tests?\n",
        "#Ans There are several types of ANOVA tests, each designed for specific experimental designs and data structures:\n",
        "\n",
        "#One-Way ANOVA: Compares the means of three or more independent groups based on one independent variable (factor).\n",
        "\n",
        "#Two-Way ANOVA: Compares the means of groups based on two independent variables (factors) and can assess the interaction between the factors.\n",
        "\n",
        "#Repeated Measures ANOVA: Used when the same subjects are measured multiple times under different conditions or over time, allowing for the comparison of means across related groups.\n",
        "\n",
        "#MANOVA (Multivariate Analysis of Variance): Extends ANOVA to multiple dependent variables, assessing whether the means of several groups differ across multiple outcomes simultaneously.\n",
        "\n",
        "#ANCOVA (Analysis of Covariance): Combines ANOVA and regression, allowing for the comparison of group means while controlling for one or more covariates (continuous variables)."
      ],
      "metadata": {
        "id": "4lD4Kn7t-yUU"
      },
      "execution_count": null,
      "outputs": []
    },
    {
      "cell_type": "code",
      "source": [
        "#Ques22 What is the F-test, and how does it relate to hypothesis testing?\n",
        "#Ans The F-test is a statistical test used to compare the variances of two or more groups to determine if they are significantly different from each other. It is based on the F-distribution and is commonly used in the context of ANOVA and regression analysis.\n",
        "\n",
        "#Relation to Hypothesis Testing:\n",
        "#Null Hypothesis ((H_0)): Assumes that the variances of the groups being compared are equal (homogeneity of variances).\n",
        "#Alternative Hypothesis ((H_a)): Assumes that at least one group has a different variance.\n",
        "\n",
        "#Procedure:\n",
        "#The F-test calculates the F-statistic, which is the ratio of the variance between groups to the variance within groups.\n",
        "#This F-statistic is then compared to a critical value from the F-distribution based on the degrees of freedom associated with the groups.\n",
        "#If the F-statistic exceeds the critical value (or if the p-value is below a chosen significance level), the null hypothesis is rejected, indicating that there are significant differences in variances."
      ],
      "metadata": {
        "id": "lNpGc31O-yRa"
      },
      "execution_count": null,
      "outputs": []
    },
    {
      "cell_type": "markdown",
      "source": [
        "**Practical Answers**"
      ],
      "metadata": {
        "id": "wfyjsI9pRMsx"
      }
    },
    {
      "cell_type": "code",
      "source": [
        "#Ques1  Write a Python program to perform a Z-test for comparing a sample mean to a known population mean and interpret the results?\n",
        "#Ans\n",
        "import numpy as np\n",
        "import scipy.stats as stats\n",
        "\n",
        "# Function to perform Z-test\n",
        "def z_test(sample_data, population_mean, population_std, alpha=0.05):\n",
        "    #Calculate sample mean and sample size\n",
        "    sample_mean = np.mean(sample_data)\n",
        "    sample_size = len(sample_data)\n",
        "\n",
        "    #Calculate the Z statistic\n",
        "    z_statistic = (sample_mean - population_mean) / (population_std / np.sqrt(sample_size))\n",
        "\n",
        "    # Calculate the p-value (two-tailed)\n",
        "    p_value = 2 * (1 - stats.norm.cdf(abs(z_statistic)))\n",
        "\n",
        "    print(f\"Sample Mean: {sample_mean:.2f}\")\n",
        "    print(f\"Z Statistic: {z_statistic:.2f}\")\n",
        "    print(f\"P-value: {p_value:.4f}\")\n",
        "\n",
        "    if p_value < alpha:\n",
        "        print(\"Reject the null hypothesis: There is a significant difference between the sample mean and the population mean.\")\n",
        "    else:\n",
        "        print(\"Fail to reject the null hypothesis: There is no significant difference between the sample mean and the population mean.\")\n",
        "\n",
        "#Example usage\n",
        "if __name__ == \"__main__\":\n",
        "    sample_data = [20, 22, 21, 19, 23, 20, 22, 21, 20, 19]\n",
        "\n",
        "    population_mean = 21  #Known population mean\n",
        "    population_std = 2    #Known population standard deviation\n",
        "\n",
        "    #Z-test\n",
        "    z_test(sample_data, population_mean, population_std)"
      ],
      "metadata": {
        "colab": {
          "base_uri": "https://localhost:8080/"
        },
        "id": "l8V58zrv-yOF",
        "outputId": "83218b39-633f-4325-92b6-1c6f4a404bac"
      },
      "execution_count": 2,
      "outputs": [
        {
          "output_type": "stream",
          "name": "stdout",
          "text": [
            "Sample Mean: 20.70\n",
            "Z Statistic: -0.47\n",
            "P-value: 0.6353\n",
            "Fail to reject the null hypothesis: There is no significant difference between the sample mean and the population mean.\n"
          ]
        }
      ]
    },
    {
      "cell_type": "code",
      "source": [
        "#Ques2 Simulate random data to perform hypothesis testing and calculate the corresponding P-value using Python.\n",
        "#Ans\n",
        "import numpy as np\n",
        "import scipy.stats as stats\n",
        "\n",
        "#Function to simulate random data and perform hypothesis testing\n",
        "def simulate_hypothesis_test(sample_size=30, population_mean=0, population_std=1, alpha=0.05):\n",
        "    sample_data = np.random.normal(loc=population_mean, scale=population_std, size=sample_size)\n",
        "\n",
        "    #Mean & STD\n",
        "    sample_mean = np.mean(sample_data)\n",
        "    sample_std = np.std(sample_data, ddof=1)\n",
        "\n",
        "    #Perform a one-sample t-test\n",
        "    t_statistic, p_value = stats.ttest_1samp(sample_data, population_mean)\n",
        "\n",
        "    print(f\"Sample Mean: {sample_mean:.2f}\")\n",
        "    print(f\"T Statistic: {t_statistic:.2f}\")\n",
        "    print(f\"P-value: {p_value:.4f}\")\n",
        "\n",
        "    #Interpret the results\n",
        "    if p_value < alpha:\n",
        "        print(\"Reject the null hypothesis: There is a significant difference from the population mean.\")\n",
        "    else:\n",
        "        print(\"Fail to reject the null hypothesis: There is no significant difference from the population mean.\")\n",
        "\n",
        "#Example\n",
        "if __name__ == \"__main__\":\n",
        "    #ParameterS\n",
        "    sample_size = 30  # Number of samples\n",
        "    population_mean = 0  # Known population mean\n",
        "    population_std = 1   # Known population STD\n",
        "\n",
        "    #Perform hypothesis test\n",
        "    simulate_hypothesis_test(sample_size, population_mean, population_std)"
      ],
      "metadata": {
        "colab": {
          "base_uri": "https://localhost:8080/"
        },
        "id": "Vp6JTj8e-yK8",
        "outputId": "2590c501-dd71-4b2b-9cc9-2261b2845558"
      },
      "execution_count": 3,
      "outputs": [
        {
          "output_type": "stream",
          "name": "stdout",
          "text": [
            "Sample Mean: 0.10\n",
            "T Statistic: 0.51\n",
            "P-value: 0.6163\n",
            "Fail to reject the null hypothesis: There is no significant difference from the population mean.\n"
          ]
        }
      ]
    },
    {
      "cell_type": "code",
      "source": [
        "#Ques3 Implement a one-sample Z-test using Python to compare the sample mean with the population mean\n",
        "#Ans\n",
        "import numpy as np\n",
        "import scipy.stats as stats\n",
        "\n",
        "#Function to perform a one-sample Z-test\n",
        "def one_sample_z_test(sample_data, population_mean, population_std, alpha=0.05):\n",
        "    #sample mean and sample size\n",
        "    sample_mean = np.mean(sample_data)\n",
        "    sample_size = len(sample_data)\n",
        "\n",
        "    #Z statistic\n",
        "    z_statistic = (sample_mean - population_mean) / (population_std / np.sqrt(sample_size))\n",
        "\n",
        "    #Calculate the p-value (two-tailed)\n",
        "    p_value = 2 * (1 - stats.norm.cdf(abs(z_statistic)))\n",
        "\n",
        "    #results\n",
        "    print(f\"Sample Mean: {sample_mean:.2f}\")\n",
        "    print(f\"Z Statistic: {z_statistic:.2f}\")\n",
        "    print(f\"P-value: {p_value:.4f}\")\n",
        "\n",
        "    #results\n",
        "    if p_value < alpha:\n",
        "        print(\"Reject the null hypothesis: There is a significant difference between the sample mean and the population mean.\")\n",
        "    else:\n",
        "        print(\"Fail to reject the null hypothesis: There is no significant difference between the sample mean and the population mean.\")\n",
        "\n",
        "#usage\n",
        "if __name__ == \"__main__\":\n",
        "    sample_data = [20, 22, 21, 19, 23, 20, 22, 21, 20, 19]\n",
        "\n",
        "    #parameters\n",
        "    population_mean = 21  # Known population mean\n",
        "    population_std = 2    # Known population standard deviation\n",
        "\n",
        "    #Perform Z-test\n",
        "    one_sample_z_test(sample_data, population_mean, population_std)"
      ],
      "metadata": {
        "colab": {
          "base_uri": "https://localhost:8080/"
        },
        "id": "Rizmk5N5-yG1",
        "outputId": "2a7925c2-4ad4-46d6-92bd-b23917df8813"
      },
      "execution_count": 4,
      "outputs": [
        {
          "output_type": "stream",
          "name": "stdout",
          "text": [
            "Sample Mean: 20.70\n",
            "Z Statistic: -0.47\n",
            "P-value: 0.6353\n",
            "Fail to reject the null hypothesis: There is no significant difference between the sample mean and the population mean.\n"
          ]
        }
      ]
    },
    {
      "cell_type": "code",
      "source": [
        "#Ques4  Perform a two-tailed Z-test using Python and visualize the decision region on a plot\n",
        "#Ans\n",
        "import numpy as np\n",
        "import scipy.stats as stats\n",
        "import matplotlib.pyplot as plt\n",
        "\n",
        "#Function to perform a two-tailed Z-test\n",
        "def two_tailed_z_test(sample_data, population_mean, population_std, alpha=0.05):\n",
        "    #mean and sample size\n",
        "    sample_mean = np.mean(sample_data)\n",
        "    sample_size = len(sample_data)\n",
        "\n",
        "    #Z statistic\n",
        "    z_statistic = (sample_mean - population_mean) / (population_std / np.sqrt(sample_size))\n",
        "\n",
        "    #the p-value (two-tailed)\n",
        "    p_value = 2 * (1 - stats.norm.cdf(abs(z_statistic)))\n",
        "\n",
        "    #results\n",
        "    print(f\"Sample Mean: {sample_mean:.2f}\")\n",
        "    print(f\"Z Statistic: {z_statistic:.2f}\")\n",
        "    print(f\"P-value: {p_value:.4f}\")\n",
        "\n",
        "    #Interpret the results\n",
        "    if p_value < alpha:\n",
        "        print(\"Reject the null hypothesis: There is a significant difference between the sample mean and the population mean.\")\n",
        "    else:\n",
        "        print(\"Fail to reject the null hypothesis: There is no significant difference between the sample mean and the population mean.\")\n",
        "\n",
        "    return z_statistic, alpha\n",
        "\n",
        "#Function to visualize the decision region\n",
        "def plot_decision_region(z_statistic, alpha):\n",
        "    #Create a range of Z values\n",
        "    z_values = np.linspace(-4, 4, 1000)\n",
        "    #Calculate the corresponding probabilities\n",
        "    probabilities = stats.norm.pdf(z_values)\n",
        "\n",
        "    #the plot\n",
        "    plt.figure(figsize=(10, 6))\n",
        "    plt.plot(z_values, probabilities, label='Standard Normal Distribution', color='blue')\n",
        "\n",
        "    #Critical Z values for the given alpha\n",
        "    critical_value = stats.norm.ppf(1 - alpha / 2)\n",
        "\n",
        "    #Fill the rejection regions\n",
        "    plt.fill_between(z_values, probabilities, where=(z_values <= -critical_value) | (z_values >= critical_value),\n",
        "                     color='red', alpha=0.5, label='Rejection Region')\n",
        "\n",
        "    #Mark the Z statistic\n",
        "    plt.axvline(z_statistic, color='green', linestyle='--', label='Z Statistic')\n",
        "\n",
        "    #Add labels and title\n",
        "    plt.title('Two-Tailed Z-Test Decision Region')\n",
        "    plt.xlabel('Z Value')\n",
        "    plt.ylabel('Probability Density')\n",
        "    plt.legend()\n",
        "    plt.grid()\n",
        "    plt.show()\n",
        "\n",
        "#usage\n",
        "if __name__ == \"__main__\":\n",
        "    #Sample\n",
        "    sample_data = [20, 22, 21, 19, 23, 20, 22, 21, 20, 19]\n",
        "\n",
        "    #population parameters\n",
        "    population_mean = 21  # Known population mean\n",
        "    population_std = 2    # Known population standard deviation\n",
        "\n",
        "    #Perform Z-test\n",
        "    z_statistic, alpha = two_tailed_z_test(sample_data, population_mean, population_std)\n",
        "\n",
        "    #Visualize the decision region\n",
        "    plot_decision_region(z_statistic, alpha)"
      ],
      "metadata": {
        "colab": {
          "base_uri": "https://localhost:8080/",
          "height": 633
        },
        "id": "mVchCEHt-yDp",
        "outputId": "35735349-a73e-43b8-a4ce-47064a0052eb"
      },
      "execution_count": 5,
      "outputs": [
        {
          "output_type": "stream",
          "name": "stdout",
          "text": [
            "Sample Mean: 20.70\n",
            "Z Statistic: -0.47\n",
            "P-value: 0.6353\n",
            "Fail to reject the null hypothesis: There is no significant difference between the sample mean and the population mean.\n"
          ]
        },
        {
          "output_type": "display_data",
          "data": {
            "text/plain": [
              "<Figure size 1000x600 with 1 Axes>"
            ],
            "image/png": "[encoded data removed]"
          },
          "metadata": {}
        }
      ]
    },
    {
      "cell_type": "code",
      "source": [
        "#Ques5 Create a Python function that calculates and visualizes Type 1 and Type 2 errors during hypothesis testing\n",
        "#Ans\n",
        "import numpy as np\n",
        "import matplotlib.pyplot as plt\n",
        "import scipy.stats as stats\n",
        "\n",
        "def visualize_type_errors(pop_mean, pop_std, alpha):\n",
        "    #Critical value for Type I error\n",
        "    critical_value = stats.norm.ppf(1 - alpha)\n",
        "\n",
        "    #Generate x values for plotting\n",
        "    x = np.linspace(pop_mean - 4 * pop_std, pop_mean + 4 * pop_std, 1000)\n",
        "\n",
        "    #Plot null hypothesis distribution\n",
        "    plt.plot(x, stats.norm.pdf(x, pop_mean, pop_std), label='Null Hypothesis (H0)', color='blue')\n",
        "\n",
        "    #Plot rejection region for Type I error\n",
        "    plt.fill_between(x, stats.norm.pdf(x, pop_mean, pop_std), where=(x <= critical_value), color='red', alpha=0.5, label='Type I Error Region')\n",
        "\n",
        "    #Alternative hypothesis (shifted mean)\n",
        "    alt_mean = pop_mean + 1\n",
        "    plt.plot(x, stats.norm.pdf(x, alt_mean, pop_std), label='Alternative Hypothesis (H1)', color='orange')\n",
        "\n",
        "    #Fill Type II error region\n",
        "    plt.fill_between(x, stats.norm.pdf(x, alt_mean, pop_std), where=(x > critical_value), color='green', alpha=0.5, label='Type II Error Region')\n",
        "\n",
        "    plt.axvline(critical_value, color='black', linestyle='--', label='Critical Value')\n",
        "    plt.title('Type I and Type II Errors Visualization')\n",
        "    plt.xlabel('Value')\n",
        "    plt.ylabel('Probability Density')\n",
        "    plt.legend()\n",
        "    plt.grid()\n",
        "    plt.show()\n",
        "\n",
        "#Example usage\n",
        "visualize_type_errors(pop_mean=0, pop_std=1, alpha=0.05)\n"
      ],
      "metadata": {
        "colab": {
          "base_uri": "https://localhost:8080/",
          "height": 472
        },
        "id": "IG8B3h-N-yAS",
        "outputId": "209d70e3-7f9e-41ef-c45e-320f88e6819f"
      },
      "execution_count": 4,
      "outputs": [
        {
          "output_type": "display_data",
          "data": {
            "text/plain": [
              "<Figure size 640x480 with 1 Axes>"
            ],
            "image/png": "[encoded data removed]"
          },
          "metadata": {}
        }
      ]
    },
    {
      "cell_type": "code",
      "source": [
        "#Ques6 Write a Python program to perform an independent T-test and interpret the results.\n",
        "#Ans\n",
        "\n",
        "def independent_t_test(sample1, sample2, alpha=0.05):\n",
        "    # Perform the independent T-test\n",
        "    t_statistic, p_value = stats.ttest_ind(sample1, sample2)\n",
        "\n",
        "    # Print results\n",
        "    print(f\"T Statistic: {t_statistic:.2f}\")\n",
        "    print(f\"P-value: {p_value:.4f}\")\n",
        "\n",
        "    # Interpret the results\n",
        "    if p_value < alpha:\n",
        "        print(\"Reject the null hypothesis: There is a significant difference between the two samples.\")\n",
        "    else:\n",
        "        print(\"Fail to reject the null hypothesis: There is no significant difference between the two samples.\")\n",
        "\n",
        "# Example usage\n",
        "if __name__ == \"__main__\":\n",
        "    # Sample data\n",
        "    sample1 = [20, 22, 21, 19, 23]\n",
        "    sample2 = [30, 32, 31, 29, 33]\n",
        "\n",
        "    # Perform independent T-test\n",
        "    independent_t_test(sample1, sample2)"
      ],
      "metadata": {
        "colab": {
          "base_uri": "https://localhost:8080/"
        },
        "id": "RPuEJ0rz-x87",
        "outputId": "d4157b5b-d189-4782-b697-733dfe9dbac6"
      },
      "execution_count": 5,
      "outputs": [
        {
          "output_type": "stream",
          "name": "stdout",
          "text": [
            "T Statistic: -10.00\n",
            "P-value: 0.0000\n",
            "Reject the null hypothesis: There is a significant difference between the two samples.\n"
          ]
        }
      ]
    },
    {
      "cell_type": "code",
      "source": [
        "#Ques7 Perform a paired sample T-test using Python and visualize the comparison results.\n",
        "#Ans\n",
        "#Sample data: before and after treatment\n",
        "before = [10, 12, 14, 16, 18]\n",
        "after = [11, 13, 15, 17, 19]\n",
        "\n",
        "#Perform paired sample T-test\n",
        "t_stat, p_value = stats.ttest_rel(before, after)\n",
        "\n",
        "#Visualization\n",
        "plt.figure(figsize=(6, 4))\n",
        "plt.plot(before, marker='o', label='Before Treatment')\n",
        "plt.plot(after, marker='o', label='After Treatment')\n",
        "plt.title('Paired Sample T-Test Comparison')\n",
        "plt.xlabel('Sample Index')\n",
        "plt.ylabel('Values')\n",
        "plt.xticks(range(len(before)))\n",
        "plt.legend()\n",
        "plt.grid()\n",
        "plt.show()\n",
        "\n",
        "#Output results\n",
        "print(f\"T-statistic: {t_stat:.2f}, P-value: {p_value:.4f}\")\n",
        "if p_value < 0.05:\n",
        "    print(\"Reject the null hypothesis: Significant difference exists.\")\n",
        "else:\n",
        "    print(\"Fail to reject the null hypothesis: No significant difference.\")"
      ],
      "metadata": {
        "colab": {
          "base_uri": "https://localhost:8080/",
          "height": 499
        },
        "id": "49p4ZF_n-x5Y",
        "outputId": "242d01d7-3847-401d-c9c2-0f0d24843dbc"
      },
      "execution_count": 6,
      "outputs": [
        {
          "output_type": "stream",
          "name": "stderr",
          "text": [
            "/usr/local/lib/python3.11/dist-packages/scipy/stats/_axis_nan_policy.py:573: RuntimeWarning: Precision loss occurred in moment calculation due to catastrophic cancellation. This occurs when the data are nearly identical. Results may be unreliable.\n",
            "  res = hypotest_fun_out(*samples, **kwds)\n"
          ]
        },
        {
          "output_type": "display_data",
          "data": {
            "text/plain": [
              "<Figure size 600x400 with 1 Axes>"
            ],
            "image/png": "[encoded data removed]"
          },
          "metadata": {}
        },
        {
          "output_type": "stream",
          "name": "stdout",
          "text": [
            "T-statistic: -inf, P-value: 0.0000\n",
            "Reject the null hypothesis: Significant difference exists.\n"
          ]
        }
      ]
    },
    {
      "cell_type": "code",
      "source": [
        "#Ques8 Simulate data and perform both Z-test and T-test, then compare the results using Python.\n",
        "#Ans\n",
        "from statsmodels.stats.weightstats import ztest\n",
        "#Simulate data\n",
        "np.random.seed(42)\n",
        "sample_size = 50\n",
        "sample_a = np.random.normal(loc=100, scale=15, size=sample_size)\n",
        "sample_b = np.random.normal(loc=110, scale=15, size=sample_size)\n",
        "\n",
        "#Perform T-test\n",
        "t_stat, t_p_value = stats.ttest_ind(sample_a, sample_b)\n",
        "\n",
        "#Perform Z-test\n",
        "z_stat, z_p_value = ztest(sample_a, sample_b)\n",
        "\n",
        "#Output\n",
        "print(f\"T-test: T-statistic = {t_stat:.2f}, P-value = {t_p_value:.4f}\")\n",
        "print(f\"Z-test: Z-statistic = {z_stat:.2f}, P-value = {z_p_value:.4f}\")\n",
        "\n",
        "# Interpretation\n",
        "for test, p_value in [(\"T-test\", t_p_value), (\"Z-test\", z_p_value)]:\n",
        "    if p_value < 0.05:\n",
        "        print(f\"{test}: Reject the null hypothesis (significant difference).\")\n",
        "    else:\n",
        "        print(f\"{test}: Fail to reject the null hypothesis (no significant difference).\")"
      ],
      "metadata": {
        "colab": {
          "base_uri": "https://localhost:8080/"
        },
        "id": "qMVBlL49-x1m",
        "outputId": "0d2f5e93-5fff-48c9-c2f0-65d60bcf8591"
      },
      "execution_count": 8,
      "outputs": [
        {
          "output_type": "stream",
          "name": "stdout",
          "text": [
            "T-test: T-statistic = -5.03, P-value = 0.0000\n",
            "Z-test: Z-statistic = -5.03, P-value = 0.0000\n",
            "T-test: Reject the null hypothesis (significant difference).\n",
            "Z-test: Reject the null hypothesis (significant difference).\n"
          ]
        }
      ]
    },
    {
      "cell_type": "code",
      "source": [
        "#Ques9 Write a Python function to calculate the confidence interval for a sample mean and explain its significance.\n",
        "#Ans\n",
        "def confidence_interval(sample, confidence=0.95):\n",
        "    #Calculate sample mean and standard error\n",
        "    mean = np.mean(sample)\n",
        "    sem = stats.sem(sample)  # Standard Error of the Mean\n",
        "    #Calculate the critical value for the given confidence level\n",
        "    critical_value = stats.t.ppf((1 + confidence) / 2, len(sample) - 1)\n",
        "    #the margin of error\n",
        "    margin_of_error = critical_value * sem\n",
        "    #the confidence interval\n",
        "    ci_lower = mean - margin_of_error\n",
        "    ci_upper = mean + margin_of_error\n",
        "    return (ci_lower, ci_upper)\n",
        "\n",
        "#Example\n",
        "sample_data = [20, 22, 21, 19, 23]\n",
        "ci = confidence_interval(sample_data)\n",
        "print(f\"Confidence Interval: {ci}\")\n"
      ],
      "metadata": {
        "colab": {
          "base_uri": "https://localhost:8080/"
        },
        "id": "GabHcOR1-xxK",
        "outputId": "57da7306-6c12-4de0-96eb-fdfc054c06cb"
      },
      "execution_count": 9,
      "outputs": [
        {
          "output_type": "stream",
          "name": "stdout",
          "text": [
            "Confidence Interval: (np.float64(19.03675683852244), np.float64(22.96324316147756))\n"
          ]
        }
      ]
    },
    {
      "cell_type": "code",
      "source": [
        "#Ques10 Write a Python program to calculate the margin of error for a given confidence level using sample data\n",
        "#Ans\n",
        "def margin_of_error(sample, confidence=0.95):\n",
        "    #sample mean and standard error\n",
        "    mean = np.mean(sample)\n",
        "    sem = stats.sem(sample)  # Standard Error of the Mean\n",
        "    #the critical value for the given confidence level\n",
        "    critical_value = stats.t.ppf((1 + confidence) / 2, len(sample) - 1)\n",
        "    #the margin of error\n",
        "    margin_of_error = critical_value * sem\n",
        "    return margin_of_error\n",
        "\n",
        "#Example\n",
        "sample_data = [20, 22, 21, 19, 23]\n",
        "me = margin_of_error(sample_data)\n",
        "print(f\"Margin of Error: {me:.2f}\")\n"
      ],
      "metadata": {
        "colab": {
          "base_uri": "https://localhost:8080/"
        },
        "id": "r9bDbJYN-xsy",
        "outputId": "19ea43cd-5a9b-4d2e-b4ab-f197273cebe4"
      },
      "execution_count": 10,
      "outputs": [
        {
          "output_type": "stream",
          "name": "stdout",
          "text": [
            "Margin of Error: 1.96\n"
          ]
        }
      ]
    },
    {
      "cell_type": "code",
      "source": [
        "#Ques11 Implement a Bayesian inference method using Bayes' Theorem in Python and explain the process.\n",
        "#Ans\n",
        "import numpy as np\n",
        "\n",
        "#Prior probabilities\n",
        "p_A = 0.2  # Probability of event A (e.g., machine A)\n",
        "p_B = 0.3  # Probability of event B (e.g., machine B)\n",
        "p_C = 0.5  # Probability of event C (e.g., machine C)\n",
        "\n",
        "#Likelihoods\n",
        "p_Y_given_A = 0.05  # Probability of observing evidence Y given A\n",
        "p_Y_given_B = 0.03  # Probability of observing evidence Y given B\n",
        "p_Y_given_C = 0.01  # Probability of observing evidence Y given C\n",
        "\n",
        "#Total probability of evidence Y\n",
        "p_Y = (p_Y_given_A * p_A) + (p_Y_given_B * p_B) + (p_Y_given_C * p_C)\n",
        "\n",
        "#Applying Bayes' Theorem\n",
        "p_A_given_Y = (p_Y_given_A * p_A) / p_Y  # Posterior probability for A\n",
        "p_B_given_Y = (p_Y_given_B * p_B) / p_Y  # Posterior probability for B\n",
        "p_C_given_Y = (p_Y_given_C * p_C) / p_Y  # Posterior probability for C\n",
        "\n",
        "#results\n",
        "print(f\"P(A | Y): {p_A_given_Y:.3f}\")\n",
        "print(f\"P(B | Y): {p_B_given_Y:.3f}\")\n",
        "print(f\"P(C | Y): {p_C_given_Y:.3f}\")"
      ],
      "metadata": {
        "colab": {
          "base_uri": "https://localhost:8080/"
        },
        "id": "2YPOmrXH-xpk",
        "outputId": "b2f665fa-f73c-45d4-e210-cc49bb440bca"
      },
      "execution_count": 11,
      "outputs": [
        {
          "output_type": "stream",
          "name": "stdout",
          "text": [
            "P(A | Y): 0.417\n",
            "P(B | Y): 0.375\n",
            "P(C | Y): 0.208\n"
          ]
        }
      ]
    },
    {
      "cell_type": "code",
      "source": [
        "#Ques12 Perform a Chi-square test for independence between two categorical variables in Python.\n",
        "#Ans\n",
        "import pandas as pd\n",
        "from scipy.stats import chi2_contingency\n",
        "\n",
        "#Sample data: Contingency table\n",
        "data = {\n",
        "    'Category A': [30, 10, 20],\n",
        "    'Category B': [20, 25, 15]\n",
        "}\n",
        "contingency_table = pd.DataFrame(data, index=['Group 1', 'Group 2', 'Group 3'])\n",
        "\n",
        "#Perform Chi-square test\n",
        "chi2_stat, p_value, dof, expected = chi2_contingency(contingency_table)\n",
        "\n",
        "#Output\n",
        "print(f\"Chi-square Statistic: {chi2_stat:.2f}\")\n",
        "print(f\"P-value: {p_value:.4f}\")\n",
        "print(f\"Degrees of Freedom: {dof}\")\n",
        "print(\"Expected Frequencies:\\n\", expected)\n",
        "\n",
        "#Interpretation\n",
        "alpha = 0.05\n",
        "if p_value < alpha:\n",
        "    print(\"Reject the null hypothesis: There is a significant association between the variables.\")\n",
        "else:\n",
        "    print(\"Fail to reject the null hypothesis: No significant association between the variables.\")"
      ],
      "metadata": {
        "colab": {
          "base_uri": "https://localhost:8080/"
        },
        "id": "tJpBxWDJ-xmE",
        "outputId": "11a4b583-1cc4-4353-efb4-28640e17a472"
      },
      "execution_count": 13,
      "outputs": [
        {
          "output_type": "stream",
          "name": "stdout",
          "text": [
            "Chi-square Statistic: 9.14\n",
            "P-value: 0.0103\n",
            "Degrees of Freedom: 2\n",
            "Expected Frequencies:\n",
            " [[25.  25. ]\n",
            " [17.5 17.5]\n",
            " [17.5 17.5]]\n",
            "Reject the null hypothesis: There is a significant association between the variables.\n"
          ]
        }
      ]
    },
    {
      "cell_type": "code",
      "source": [
        "#Ques13 Write a Python program to calculate the expected frequencies for a Chi-square test based on observed data.\n",
        "#Ans\n",
        "def calculate_expected_frequencies(observed):\n",
        "    #Convert observed data to a NumPy array\n",
        "    observed = np.array(observed)\n",
        "\n",
        "    #Calculate the total counts for rows and columns\n",
        "    row_sums = observed.sum(axis=1)\n",
        "    col_sums = observed.sum(axis=0)\n",
        "    total = observed.sum()\n",
        "\n",
        "    #Calculate expected frequencies\n",
        "    expected = np.outer(row_sums, col_sums) / total\n",
        "    return expected\n",
        "\n",
        "#Example observed data (contingency table)\n",
        "observed_data = [\n",
        "    [30, 10, 20],  # Group 1\n",
        "    [20, 25, 15]   # Group 2\n",
        "]\n",
        "\n",
        "#Calculate expected frequencies\n",
        "expected_frequencies = calculate_expected_frequencies(observed_data)\n",
        "\n",
        "#Output results\n",
        "print(\"Observed Frequencies:\\n\", np.array(observed_data))\n",
        "print(\"Expected Frequencies:\\n\", expected_frequencies)"
      ],
      "metadata": {
        "colab": {
          "base_uri": "https://localhost:8080/"
        },
        "id": "29C4_Ef2-xiX",
        "outputId": "6a7c83b8-aa18-4dcd-c7dc-190ca8212bbc"
      },
      "execution_count": 14,
      "outputs": [
        {
          "output_type": "stream",
          "name": "stdout",
          "text": [
            "Observed Frequencies:\n",
            " [[30 10 20]\n",
            " [20 25 15]]\n",
            "Expected Frequencies:\n",
            " [[25.  17.5 17.5]\n",
            " [25.  17.5 17.5]]\n"
          ]
        }
      ]
    },
    {
      "cell_type": "code",
      "source": [
        "#Ques14 Perform a goodness-of-fit test using Python to compare the observed data to an expected distribution\n",
        "#Ans\n",
        "from scipy.stats import chisquare\n",
        "\n",
        "# Example observed data (counts)\n",
        "observed = np.array([50, 30, 20])  # Observed frequencies\n",
        "\n",
        "# Example expected data (theoretical distribution)\n",
        "expected = np.array([40, 40, 20])  # Expected frequencies\n",
        "\n",
        "# Perform Chi-square goodness-of-fit test\n",
        "chi2_stat, p_value = chisquare(observed, expected)\n",
        "\n",
        "# Output results\n",
        "print(f\"Chi-square Statistic: {chi2_stat:.2f}\")\n",
        "print(f\"P-value: {p_value:.4f}\")\n",
        "\n",
        "# Interpretation\n",
        "alpha = 0.05\n",
        "if p_value < alpha:\n",
        "    print(\"Reject the null hypothesis: The observed data does not fit the expected distribution.\")\n",
        "else:\n",
        "    print(\"Fail to reject the null hypothesis: The observed data fits the expected distribution.\")"
      ],
      "metadata": {
        "colab": {
          "base_uri": "https://localhost:8080/"
        },
        "id": "-9UgW1Ka-xe6",
        "outputId": "12930a96-42d5-4cd6-f8ff-58fe89464c8f"
      },
      "execution_count": 15,
      "outputs": [
        {
          "output_type": "stream",
          "name": "stdout",
          "text": [
            "Chi-square Statistic: 5.00\n",
            "P-value: 0.0821\n",
            "Fail to reject the null hypothesis: The observed data fits the expected distribution.\n"
          ]
        }
      ]
    },
    {
      "cell_type": "code",
      "source": [
        "#Ques15 Create a Python script to simulate and visualize the Chi-square distribution and discuss its characteristics.\n",
        "#Ans\n",
        "#Parameters for the Chi-square distribution\n",
        "degrees_of_freedom = [1, 2, 5, 10]  # Different degrees of freedom\n",
        "x = np.linspace(0, 30, 1000)  # Range of x values\n",
        "\n",
        "#Plotting the Chi-square distributions\n",
        "plt.figure(figsize=(10, 6))\n",
        "for df in degrees_of_freedom:\n",
        "    plt.plot(x, stats.chi2.pdf(x, df), label=f'DF = {df}')\n",
        "\n",
        "plt.title('Chi-square Distribution')\n",
        "plt.xlabel('Value')\n",
        "plt.ylabel('Probability Density Function (PDF)')\n",
        "plt.legend()\n",
        "plt.grid()\n",
        "plt.show()"
      ],
      "metadata": {
        "colab": {
          "base_uri": "https://localhost:8080/",
          "height": 564
        },
        "id": "7TNnyxTX-xbx",
        "outputId": "3264aab8-80ab-4828-a3f1-30fe9885d500"
      },
      "execution_count": 16,
      "outputs": [
        {
          "output_type": "display_data",
          "data": {
            "text/plain": [
              "<Figure size 1000x600 with 1 Axes>"
            ],
            "image/png": "[encoded data removed]"
          },
          "metadata": {}
        }
      ]
    },
    {
      "cell_type": "code",
      "source": [
        "#Ques16 Implement an F-test using Python to compare the variances of two random samples\n",
        "#Ans\n",
        "from scipy.stats import f\n",
        "\n",
        "def f_test(sample1, sample2):\n",
        "    #Calculate variances\n",
        "    var1 = np.var(sample1, ddof=1)  # Sample variance of sample1\n",
        "    var2 = np.var(sample2, ddof=1)  # Sample variance of sample2\n",
        "\n",
        "    #F-statistic\n",
        "    f_statistic = var1 / var2\n",
        "\n",
        "    #Degrees of freedom\n",
        "    df1 = len(sample1) - 1  # Degrees of freedom for sample1\n",
        "    df2 = len(sample2) - 1  # Degrees of freedom for sample2\n",
        "\n",
        "    #p-value\n",
        "    p_value = 1 - f.cdf(f_statistic, df1, df2)\n",
        "\n",
        "    return f_statistic, p_value\n",
        "\n",
        "#Example\n",
        "sample1 = [20, 22, 21, 19, 23]\n",
        "sample2 = [30, 32, 31, 29, 33]\n",
        "\n",
        "f_stat, p_val = f_test(sample1, sample2)\n",
        "\n",
        "#Output\n",
        "print(f\"F-statistic: {f_stat:.2f}\")\n",
        "print(f\"P-value: {p_val:.4f}\")\n",
        "\n",
        "#Interpretation\n",
        "alpha = 0.05\n",
        "if p_val < alpha:\n",
        "    print(\"Reject the null hypothesis: The variances are significantly different.\")\n",
        "else:\n",
        "    print(\"Fail to reject the null hypothesis: The variances are not significantly different.\")"
      ],
      "metadata": {
        "colab": {
          "base_uri": "https://localhost:8080/"
        },
        "id": "NOd7Zul--xYc",
        "outputId": "1cce683f-7e2f-4ef4-c850-fed32f9eeb0f"
      },
      "execution_count": 17,
      "outputs": [
        {
          "output_type": "stream",
          "name": "stdout",
          "text": [
            "F-statistic: 1.00\n",
            "P-value: 0.5000\n",
            "Fail to reject the null hypothesis: The variances are not significantly different.\n"
          ]
        }
      ]
    },
    {
      "cell_type": "code",
      "source": [
        "#Ques17 Write a Python program to perform an ANOVA test to compare means between multiple groups and interpret the results\n",
        "#Ans\n",
        "import numpy as np\n",
        "from scipy.stats import f_oneway\n",
        "\n",
        "#data: three groups\n",
        "group1 = [20, 22, 21, 19, 23]\n",
        "group2 = [30, 32, 31, 29, 33]\n",
        "group3 = [25, 27, 26, 24, 28]\n",
        "\n",
        "#ANOVA test\n",
        "f_statistic, p_value = f_oneway(group1, group2, group3)\n",
        "\n",
        "#Output\n",
        "print(f\"F-statistic: {f_statistic:.2f}\")\n",
        "print(f\"P-value: {p_value:.4f}\")\n",
        "\n",
        "#Interpretation\n",
        "alpha = 0.05\n",
        "if p_value < alpha:\n",
        "    print(\"Reject the null hypothesis: There is a significant difference between the group means.\")\n",
        "else:\n",
        "    print(\"Fail to reject the null hypothesis: There is no significant difference between the group means.\")"
      ],
      "metadata": {
        "colab": {
          "base_uri": "https://localhost:8080/"
        },
        "id": "L70MaFb6-xU8",
        "outputId": "28f897dc-eae1-460c-f46d-abc380840027"
      },
      "execution_count": 18,
      "outputs": [
        {
          "output_type": "stream",
          "name": "stdout",
          "text": [
            "F-statistic: 50.00\n",
            "P-value: 0.0000\n",
            "Reject the null hypothesis: There is a significant difference between the group means.\n"
          ]
        }
      ]
    },
    {
      "cell_type": "code",
      "source": [
        "#Ques18  Perform a one-way ANOVA test using Python to compare the means of different groups and plot the results.\n",
        "#Ans\n",
        "import matplotlib.pyplot as plt\n",
        "from scipy.stats import f_oneway\n",
        "\n",
        "#data: three groups\n",
        "group1 = [20, 22, 21, 19, 23]\n",
        "group2 = [30, 32, 31, 29, 33]\n",
        "group3 = [25, 27, 26, 24, 28]\n",
        "\n",
        "#one-way ANOVA test\n",
        "f_statistic, p_value = f_oneway(group1, group2, group3)\n",
        "\n",
        "print(f\"F-statistic: {f_statistic:.2f}\")\n",
        "print(f\"P-value: {p_value:.4f}\")\n",
        "\n",
        "alpha = 0.05\n",
        "if p_value < alpha:\n",
        "    print(\"Reject the null hypothesis: There is a significant difference between the group means.\")\n",
        "else:\n",
        "    print(\"Fail to reject the null hypothesis: There is no significant difference between the group means.\")\n",
        "\n",
        "#results\n",
        "plt.boxplot([group1, group2, group3], labels=['Group 1', 'Group 2', 'Group 3'])\n",
        "plt.title('One-way ANOVA Comparison of Group Means')\n",
        "plt.ylabel('Values')\n",
        "plt.grid()\n",
        "plt.show()"
      ],
      "metadata": {
        "colab": {
          "base_uri": "https://localhost:8080/",
          "height": 559
        },
        "id": "a0QvaWNG-xRq",
        "outputId": "c61a5c53-3dac-4f34-e972-de2fcd8c3b75"
      },
      "execution_count": 19,
      "outputs": [
        {
          "output_type": "stream",
          "name": "stdout",
          "text": [
            "F-statistic: 50.00\n",
            "P-value: 0.0000\n",
            "Reject the null hypothesis: There is a significant difference between the group means.\n"
          ]
        },
        {
          "output_type": "stream",
          "name": "stderr",
          "text": [
            "<ipython-input-19-ed15bf627ee0>:24: MatplotlibDeprecationWarning: The 'labels' parameter of boxplot() has been renamed 'tick_labels' since Matplotlib 3.9; support for the old name will be dropped in 3.11.\n",
            "  plt.boxplot([group1, group2, group3], labels=['Group 1', 'Group 2', 'Group 3'])\n"
          ]
        },
        {
          "output_type": "display_data",
          "data": {
            "text/plain": [
              "<Figure size 640x480 with 1 Axes>"
            ],
            "image/png": "[encoded data removed]"
          },
          "metadata": {}
        }
      ]
    },
    {
      "cell_type": "code",
      "source": [
        "#Ques19 Write a Python function to check the assumptions (normality, independence, and equal variance) for ANOVA\n",
        "#Ans\n",
        "def check_anova_assumptions(groups):\n",
        "    #Check normality using Shapiro-Wilk test\n",
        "    normality_results = {}\n",
        "    for i, group in enumerate(groups):\n",
        "        stat, p_value = stats.shapiro(group)\n",
        "        normality_results[f'Group {i+1}'] = p_value > 0.05  # True if normal\n",
        "\n",
        "    #Check equal variance using Levene's test\n",
        "    stat, p_value = stats.levene(*groups)\n",
        "    equal_variance = p_value > 0.05  # True if variances are equal\n",
        "\n",
        "    #boxplots for visual inspection\n",
        "    plt.boxplot(groups, labels=[f'Group {i+1}' for i in range(len(groups))])\n",
        "    plt.title('Boxplot of Groups')\n",
        "    plt.ylabel('Values')\n",
        "    plt.grid()\n",
        "    plt.show()\n",
        "\n",
        "    return normality_results, equal_variance\n",
        "\n",
        "#Example\n",
        "group1 = [20, 22, 21, 19, 23]\n",
        "group2 = [30, 32, 31, 29, 33]\n",
        "group3 = [25, 27, 26, 24, 28]\n",
        "\n",
        "assumptions = check_anova_assumptions([group1, group2, group3])\n",
        "print(\"Normality Assumption Results:\", assumptions[0])\n",
        "print(\"Equal Variance Assumption Result:\", assumptions[1])"
      ],
      "metadata": {
        "colab": {
          "base_uri": "https://localhost:8080/",
          "height": 541
        },
        "id": "x7f2luay-xOg",
        "outputId": "1abcab6a-d1b7-468a-c93f-8810eb68e384"
      },
      "execution_count": 20,
      "outputs": [
        {
          "output_type": "stream",
          "name": "stderr",
          "text": [
            "<ipython-input-20-2db5e886784c>:15: MatplotlibDeprecationWarning: The 'labels' parameter of boxplot() has been renamed 'tick_labels' since Matplotlib 3.9; support for the old name will be dropped in 3.11.\n",
            "  plt.boxplot(groups, labels=[f'Group {i+1}' for i in range(len(groups))])\n"
          ]
        },
        {
          "output_type": "display_data",
          "data": {
            "text/plain": [
              "<Figure size 640x480 with 1 Axes>"
            ],
            "image/png": "[encoded data removed]"
          },
          "metadata": {}
        },
        {
          "output_type": "stream",
          "name": "stdout",
          "text": [
            "Normality Assumption Results: {'Group 1': np.True_, 'Group 2': np.True_, 'Group 3': np.True_}\n",
            "Equal Variance Assumption Result: True\n"
          ]
        }
      ]
    },
    {
      "cell_type": "code",
      "source": [
        "#Ques20  Perform a two-way ANOVA test using Python to study the interaction between two factors and visualize the results\n",
        "#Ans\n",
        "import statsmodels.api as sm\n",
        "from statsmodels.formula.api import ols\n",
        "import matplotlib.pyplot as plt\n",
        "import seaborn as sns\n",
        "\n",
        "#data: Two factors (Factor A and Factor B)\n",
        "data = {\n",
        "    'Factor_A': ['A1', 'A1', 'A1', 'A2', 'A2', 'A2', 'A1', 'A1', 'A1', 'A2', 'A2', 'A2'],\n",
        "    'Factor_B': ['B1', 'B1', 'B2', 'B1', 'B1', 'B2', 'B2', 'B2', 'B1', 'B2', 'B2', 'B1'],\n",
        "    'Values': [20, 22, 21, 30, 32, 31, 25, 27, 26, 35, 37, 36]\n",
        "}\n",
        "\n",
        "#DataFrame\n",
        "df = pd.DataFrame(data)\n",
        "\n",
        "# Perform two-way ANOVA\n",
        "model = ols('Values ~ C(Factor_A) * C(Factor_B)', data=df).fit()\n",
        "anova_table = sm.stats.anova_lm(model, typ=2)\n",
        "\n",
        "#ANOVA results\n",
        "print(anova_table)\n",
        "\n",
        "#Visualization\n",
        "plt.figure(figsize=(8, 6))\n",
        "sns.boxplot(x='Factor_A', y='Values', hue='Factor_B', data=df)\n",
        "plt.title('Two-way ANOVA Interaction Plot')\n",
        "plt.xlabel('Factor A')\n",
        "plt.ylabel('Values')\n",
        "plt.legend(title='Factor B')\n",
        "plt.grid()\n",
        "plt.show()"
      ],
      "metadata": {
        "colab": {
          "base_uri": "https://localhost:8080/",
          "height": 651
        },
        "id": "3ReofzLv-xLO",
        "outputId": "0039fde0-a09f-40c0-8f4f-89dc94b914c0"
      },
      "execution_count": 23,
      "outputs": [
        {
          "output_type": "stream",
          "name": "stdout",
          "text": [
            "                               sum_sq   df             F    PR(>F)\n",
            "C(Factor_A)              3.000000e+02  1.0  3.214286e+01  0.000471\n",
            "C(Factor_B)              8.333333e+00  1.0  8.928571e-01  0.372364\n",
            "C(Factor_A):C(Factor_B)  2.899064e-29  1.0  3.106140e-30  1.000000\n",
            "Residual                 7.466667e+01  8.0           NaN       NaN\n"
          ]
        },
        {
          "output_type": "display_data",
          "data": {
            "text/plain": [
              "<Figure size 800x600 with 1 Axes>"
            ],
            "image/png": "[encoded data removed]"
          },
          "metadata": {}
        }
      ]
    },
    {
      "cell_type": "code",
      "source": [
        "#Ques21 Write a Python program to visualize the F-distribution and discuss its use in hypothesis testing.\n",
        "#Ans\n",
        "import numpy as np\n",
        "import matplotlib.pyplot as plt\n",
        "import scipy.stats as stats\n",
        "\n",
        "#the F-distribution\n",
        "df1 = 5  # Degrees of freedom for the numerator\n",
        "df2 = 2  # Degrees of freedom for the denominator\n",
        "x = np.linspace(0, 5, 1000)  # Range of x values\n",
        "\n",
        "#the F-distribution PDF\n",
        "pdf = stats.f.pdf(x, df1, df2)\n",
        "\n",
        "#Plotting the F-distribution\n",
        "plt.figure(figsize=(10, 6))\n",
        "plt.plot(x, pdf, label=f'F-distribution (df1={df1}, df2={df2})', color='blue')\n",
        "plt.title('F-distribution')\n",
        "plt.xlabel('F value')\n",
        "plt.ylabel('Probability Density Function (PDF)')\n",
        "plt.legend()\n",
        "plt.grid()\n",
        "plt.show()"
      ],
      "metadata": {
        "colab": {
          "base_uri": "https://localhost:8080/",
          "height": 564
        },
        "id": "ycS5AUTG-xIJ",
        "outputId": "c1445ce9-be2d-4954-841d-a031ce063443"
      },
      "execution_count": 24,
      "outputs": [
        {
          "output_type": "display_data",
          "data": {
            "text/plain": [
              "<Figure size 1000x600 with 1 Axes>"
            ],
            "image/png": "[encoded data removed]"
          },
          "metadata": {}
        }
      ]
    },
    {
      "cell_type": "code",
      "source": [
        "#Ques22 Perform a one-way ANOVA test in Python and visualize the results with boxplots to compare group means\n",
        "#Ans\n",
        "\n",
        "#data: three groups\n",
        "group1 = [20, 22, 21, 19, 23]\n",
        "group2 = [30, 32, 31, 29, 33]\n",
        "group3 = [25, 27, 26, 24, 28]\n",
        "\n",
        "#Create a DataFrame\n",
        "data = {\n",
        "    'Group': ['Group 1'] * len(group1) + ['Group 2'] * len(group2) + ['Group 3'] * len(group3),\n",
        "    'Values': group1 + group2 + group3\n",
        "}\n",
        "df = pd.DataFrame(data)\n",
        "\n",
        "#one-way ANOVA test\n",
        "f_statistic, p_value = f_oneway(group1, group2, group3)\n",
        "\n",
        "#Output\n",
        "print(f\"F-statistic: {f_statistic:.2f}\")\n",
        "print(f\"P-value: {p_value:.4f}\")\n",
        "\n",
        "#Interpretation\n",
        "alpha = 0.05\n",
        "if p_value < alpha:\n",
        "    print(\"Reject the null hypothesis: There is a significant difference between the group means.\")\n",
        "else:\n",
        "    print(\"Fail to reject the null hypothesis: There is no significant difference between the group means.\")\n",
        "\n",
        "#Visualization with boxplots\n",
        "plt.figure(figsize=(8, 6))\n",
        "plt.boxplot([group1, group2, group3], labels=['Group 1', 'Group 2', 'Group 3'])\n",
        "plt.title('One-way ANOVA Comparison of Group Means')\n",
        "plt.ylabel('Values')\n",
        "plt.grid()\n",
        "plt.show()"
      ],
      "metadata": {
        "colab": {
          "base_uri": "https://localhost:8080/",
          "height": 652
        },
        "id": "lBSt4Wne-xEw",
        "outputId": "35120c7a-d997-4b57-ca0b-1c992b5374ae"
      },
      "execution_count": 25,
      "outputs": [
        {
          "output_type": "stream",
          "name": "stdout",
          "text": [
            "F-statistic: 50.00\n",
            "P-value: 0.0000\n",
            "Reject the null hypothesis: There is a significant difference between the group means.\n"
          ]
        },
        {
          "output_type": "stream",
          "name": "stderr",
          "text": [
            "<ipython-input-25-924448a80143>:32: MatplotlibDeprecationWarning: The 'labels' parameter of boxplot() has been renamed 'tick_labels' since Matplotlib 3.9; support for the old name will be dropped in 3.11.\n",
            "  plt.boxplot([group1, group2, group3], labels=['Group 1', 'Group 2', 'Group 3'])\n"
          ]
        },
        {
          "output_type": "display_data",
          "data": {
            "text/plain": [
              "<Figure size 800x600 with 1 Axes>"
            ],
            "image/png": "[encoded data removed]"
          },
          "metadata": {}
        }
      ]
    },
    {
      "cell_type": "code",
      "source": [
        "#Ques23 Simulate random data from a normal distribution, then perform hypothesis testing to evaluate the means.\n",
        "#Ans\n",
        "#parameters for the normal distribution\n",
        "mean = 100        # True mean of the population\n",
        "std_dev = 15      # Standard deviation of the population\n",
        "sample_size = 30  # Size of the sample\n",
        "hypothesized_mean = 95  # Hypothesized mean for testing\n",
        "\n",
        "#random data from a normal distribution\n",
        "np.random.seed(42)  # For reproducibility\n",
        "sample_data = np.random.normal(loc=mean, scale=std_dev, size=sample_size)\n",
        "\n",
        "#a one-sample t-test\n",
        "t_statistic, p_value = stats.ttest_1samp(sample_data, hypothesized_mean)\n",
        "\n",
        "#Output\n",
        "print(f\"Sample Mean: {np.mean(sample_data):.2f}\")\n",
        "print(f\"T-statistic: {t_statistic:.2f}\")\n",
        "print(f\"P-value: {p_value:.4f}\")\n",
        "\n",
        "#Interpretation\n",
        "alpha = 0.05\n",
        "if p_value < alpha:\n",
        "    print(\"Reject the null hypothesis: The sample mean is significantly different from the hypothesized mean.\")\n",
        "else:\n",
        "    print(\"Fail to reject the null hypothesis: The sample mean is not significantly different from the hypothesized mean.\")"
      ],
      "metadata": {
        "colab": {
          "base_uri": "https://localhost:8080/"
        },
        "id": "pDf5qq1n-xBH",
        "outputId": "51c3463f-9541-4e95-e56b-600d1d19e222"
      },
      "execution_count": 26,
      "outputs": [
        {
          "output_type": "stream",
          "name": "stdout",
          "text": [
            "Sample Mean: 97.18\n",
            "T-statistic: 0.88\n",
            "P-value: 0.3842\n",
            "Fail to reject the null hypothesis: The sample mean is not significantly different from the hypothesized mean.\n"
          ]
        }
      ]
    },
    {
      "cell_type": "code",
      "source": [
        "#Ques24 Perform a hypothesis test for population variance using a Chi-square distribution and interpret the results\n",
        "#Ans\n",
        "import numpy as np\n",
        "from scipy.stats import chi2\n",
        "\n",
        "#Sample data\n",
        "data = [20, 22, 19, 24, 30, 28, 25, 27]  # Example sample data\n",
        "sample_size = len(data)\n",
        "sample_variance = np.var(data, ddof=1)  # Sample variance\n",
        "hypothesized_variance = 25  # Hypothesized population variance\n",
        "\n",
        "#Calculate the Chi-square test statistic\n",
        "chi_square_statistic = (sample_size - 1) * sample_variance / hypothesized_variance\n",
        "\n",
        "#Determine the critical value for a two-tailed test\n",
        "alpha = 0.05\n",
        "df = sample_size - 1  # Degrees of freedom\n",
        "critical_value_lower = chi2.ppf(alpha / 2, df)\n",
        "critical_value_upper = chi2.ppf(1 - alpha / 2, df)\n",
        "\n",
        "#Output results\n",
        "print(f\"Chi-square Statistic: {chi_square_statistic:.4f}\")\n",
        "print(f\"Critical Value Lower: {critical_value_lower:.4f}\")\n",
        "print(f\"Critical Value Upper: {critical_value_upper:.4f}\")\n",
        "\n",
        "#Decision\n",
        "if chi_square_statistic < critical_value_lower or chi_square_statistic > critical_value_upper:\n",
        "    print(\"Reject the null hypothesis: The population variance is significantly different from the hypothesized variance.\")\n",
        "else:\n",
        "    print(\"Fail to reject the null hypothesis: The population variance is not significantly different from the hypothesized variance.\")"
      ],
      "metadata": {
        "colab": {
          "base_uri": "https://localhost:8080/"
        },
        "id": "Iin-VNmB-w9O",
        "outputId": "e5078fb1-c527-4a35-e5d9-7e1b2bb54a2e"
      },
      "execution_count": 27,
      "outputs": [
        {
          "output_type": "stream",
          "name": "stdout",
          "text": [
            "Chi-square Statistic: 4.2350\n",
            "Critical Value Lower: 1.6899\n",
            "Critical Value Upper: 16.0128\n",
            "Fail to reject the null hypothesis: The population variance is not significantly different from the hypothesized variance.\n"
          ]
        }
      ]
    },
    {
      "cell_type": "code",
      "source": [
        "#Ques25 Write a Python script to perform a Z-test for comparing proportions between two datasets or groups.\n",
        "#Ans\n",
        "from statsmodels.stats.proportion import proportions_ztest\n",
        "\n",
        "#data\n",
        "success_a = 50  # Number of successes in group A\n",
        "n_a = 100       # Total observations in group A\n",
        "success_b = 30  # Number of successes in group B\n",
        "n_b = 80        # Total observations in group B\n",
        "\n",
        "#Perform Z-test for proportions\n",
        "count = np.array([success_a, success_b])\n",
        "nobs = np.array([n_a, n_b])\n",
        "z_statistic, p_value = proportions_ztest(count, nobs)\n",
        "\n",
        "#Output\n",
        "print(f\"Z-statistic: {z_statistic:.4f}\")\n",
        "print(f\"P-value: {p_value:.4f}\")\n",
        "\n",
        "#Interpretation\n",
        "alpha = 0.05\n",
        "if p_value < alpha:\n",
        "    print(\"Reject the null hypothesis: The proportions are significantly different.\")\n",
        "else:\n",
        "    print(\"Fail to reject the null hypothesis: The proportions are not significantly different.\")"
      ],
      "metadata": {
        "colab": {
          "base_uri": "https://localhost:8080/"
        },
        "id": "SnTMo7ws-w5n",
        "outputId": "1f433ecf-78c1-4d76-d4a6-afebd7101b09"
      },
      "execution_count": 28,
      "outputs": [
        {
          "output_type": "stream",
          "name": "stdout",
          "text": [
            "Z-statistic: 1.6771\n",
            "P-value: 0.0935\n",
            "Fail to reject the null hypothesis: The proportions are not significantly different.\n"
          ]
        }
      ]
    },
    {
      "cell_type": "code",
      "source": [],
      "metadata": {
        "id": "ptJWuJyK-w2B"
      },
      "execution_count": null,
      "outputs": []
    },
    {
      "cell_type": "code",
      "source": [],
      "metadata": {
        "id": "lMzuG_mY-wyo"
      },
      "execution_count": null,
      "outputs": []
    },
    {
      "cell_type": "code",
      "source": [],
      "metadata": {
        "id": "5oBBmdZq-wvN"
      },
      "execution_count": null,
      "outputs": []
    },
    {
      "cell_type": "code",
      "source": [],
      "metadata": {
        "id": "3459QKaN-wrp"
      },
      "execution_count": null,
      "outputs": []
    },
    {
      "cell_type": "code",
      "source": [],
      "metadata": {
        "id": "jmv9k4BJ-wom"
      },
      "execution_count": null,
      "outputs": []
    },
    {
      "cell_type": "code",
      "source": [],
      "metadata": {
        "id": "n0FC_8de-wlO"
      },
      "execution_count": null,
      "outputs": []
    },
    {
      "cell_type": "code",
      "source": [],
      "metadata": {
        "id": "_Fd1ABaP-wiQ"
      },
      "execution_count": null,
      "outputs": []
    },
    {
      "cell_type": "code",
      "source": [],
      "metadata": {
        "id": "7MXxizJX-wYY"
      },
      "execution_count": null,
      "outputs": []
    },
    {
      "cell_type": "code",
      "source": [],
      "metadata": {
        "id": "tHw-8tFH-wU6"
      },
      "execution_count": null,
      "outputs": []
    },
    {
      "cell_type": "code",
      "source": [],
      "metadata": {
        "id": "MOeYYmA_-wRv"
      },
      "execution_count": null,
      "outputs": []
    },
    {
      "cell_type": "code",
      "source": [],
      "metadata": {
        "id": "UVVaZExS-wOC"
      },
      "execution_count": null,
      "outputs": []
    },
    {
      "cell_type": "code",
      "source": [],
      "metadata": {
        "id": "Hk0E1pDD-wKp"
      },
      "execution_count": null,
      "outputs": []
    },
    {
      "cell_type": "code",
      "source": [],
      "metadata": {
        "id": "tXVIs9Uy-wG-"
      },
      "execution_count": null,
      "outputs": []
    },
    {
      "cell_type": "code",
      "source": [],
      "metadata": {
        "id": "oxfxEr3u-wDj"
      },
      "execution_count": null,
      "outputs": []
    },
    {
      "cell_type": "code",
      "source": [],
      "metadata": {
        "id": "wdvhZTzP-wAR"
      },
      "execution_count": null,
      "outputs": []
    },
    {
      "cell_type": "code",
      "source": [],
      "metadata": {
        "id": "j8jLVQ7Z-v83"
      },
      "execution_count": null,
      "outputs": []
    },
    {
      "cell_type": "code",
      "source": [],
      "metadata": {
        "id": "8SG-To_S-v5d"
      },
      "execution_count": null,
      "outputs": []
    },
    {
      "cell_type": "code",
      "source": [],
      "metadata": {
        "id": "j5FrenL2-v15"
      },
      "execution_count": null,
      "outputs": []
    },
    {
      "cell_type": "code",
      "source": [],
      "metadata": {
        "id": "7wLIUFew-vyd"
      },
      "execution_count": null,
      "outputs": []
    },
    {
      "cell_type": "code",
      "source": [],
      "metadata": {
        "id": "_LMRMZge-vvS"
      },
      "execution_count": null,
      "outputs": []
    },
    {
      "cell_type": "code",
      "source": [],
      "metadata": {
        "id": "nfReg34Y-vo2"
      },
      "execution_count": null,
      "outputs": []
    },
    {
      "cell_type": "code",
      "source": [],
      "metadata": {
        "id": "FZ4i9Kcl-vlm"
      },
      "execution_count": null,
      "outputs": []
    },
    {
      "cell_type": "code",
      "source": [],
      "metadata": {
        "id": "r8eqctcu-viW"
      },
      "execution_count": null,
      "outputs": []
    },
    {
      "cell_type": "code",
      "source": [],
      "metadata": {
        "id": "Ki4Kl15B-vfO"
      },
      "execution_count": null,
      "outputs": []
    },
    {
      "cell_type": "code",
      "source": [],
      "metadata": {
        "id": "FtdJ3ywc-vcG"
      },
      "execution_count": null,
      "outputs": []
    },
    {
      "cell_type": "code",
      "source": [],
      "metadata": {
        "id": "18K6W_P6-vRn"
      },
      "execution_count": null,
      "outputs": []
    },
    {
      "cell_type": "code",
      "source": [],
      "metadata": {
        "id": "AFaiVpFz-vOM"
      },
      "execution_count": null,
      "outputs": []
    },
    {
      "cell_type": "code",
      "source": [],
      "metadata": {
        "id": "lCH6X16v-vKm"
      },
      "execution_count": null,
      "outputs": []
    },
    {
      "cell_type": "code",
      "source": [],
      "metadata": {
        "id": "yWsXNZSh-vHO"
      },
      "execution_count": null,
      "outputs": []
    },
    {
      "cell_type": "code",
      "source": [],
      "metadata": {
        "id": "5TKAJpJC-vDx"
      },
      "execution_count": null,
      "outputs": []
    },
    {
      "cell_type": "code",
      "source": [],
      "metadata": {
        "id": "ffKg80C3-vAO"
      },
      "execution_count": null,
      "outputs": []
    },
    {
      "cell_type": "code",
      "source": [],
      "metadata": {
        "id": "eRe0MA1x-u8-"
      },
      "execution_count": null,
      "outputs": []
    },
    {
      "cell_type": "code",
      "source": [],
      "metadata": {
        "id": "Cefv74r2-u5e"
      },
      "execution_count": null,
      "outputs": []
    },
    {
      "cell_type": "code",
      "source": [],
      "metadata": {
        "id": "SvH6KG75-u14"
      },
      "execution_count": null,
      "outputs": []
    },
    {
      "cell_type": "code",
      "source": [],
      "metadata": {
        "id": "aeoDF9fE-uyW"
      },
      "execution_count": null,
      "outputs": []
    },
    {
      "cell_type": "code",
      "source": [],
      "metadata": {
        "id": "0DjQU0Av-uu4"
      },
      "execution_count": null,
      "outputs": []
    },
    {
      "cell_type": "code",
      "source": [],
      "metadata": {
        "id": "9HC3seXy-urz"
      },
      "execution_count": null,
      "outputs": []
    },
    {
      "cell_type": "code",
      "source": [],
      "metadata": {
        "id": "atpUw0mU-uoO"
      },
      "execution_count": null,
      "outputs": []
    },
    {
      "cell_type": "code",
      "source": [],
      "metadata": {
        "id": "xbosqaeS-uk1"
      },
      "execution_count": null,
      "outputs": []
    },
    {
      "cell_type": "code",
      "source": [],
      "metadata": {
        "id": "j-9cRwAc-uhX"
      },
      "execution_count": null,
      "outputs": []
    },
    {
      "cell_type": "code",
      "source": [],
      "metadata": {
        "id": "zyfDPRLw-udf"
      },
      "execution_count": null,
      "outputs": []
    },
    {
      "cell_type": "code",
      "source": [],
      "metadata": {
        "id": "obkiOItO-uaV"
      },
      "execution_count": null,
      "outputs": []
    },
    {
      "cell_type": "code",
      "source": [],
      "metadata": {
        "id": "KnRJnkNB-uXN"
      },
      "execution_count": null,
      "outputs": []
    },
    {
      "cell_type": "code",
      "source": [],
      "metadata": {
        "id": "9Axzskee-uUO"
      },
      "execution_count": null,
      "outputs": []
    },
    {
      "cell_type": "code",
      "source": [],
      "metadata": {
        "id": "AHKQctmh-uRI"
      },
      "execution_count": null,
      "outputs": []
    },
    {
      "cell_type": "code",
      "source": [],
      "metadata": {
        "id": "CHTDAp6Q-uN3"
      },
      "execution_count": null,
      "outputs": []
    },
    {
      "cell_type": "code",
      "source": [],
      "metadata": {
        "id": "P7WQSJwC-uKp"
      },
      "execution_count": null,
      "outputs": []
    },
    {
      "cell_type": "code",
      "source": [],
      "metadata": {
        "id": "rs9XczTN-uHQ"
      },
      "execution_count": null,
      "outputs": []
    },
    {
      "cell_type": "code",
      "source": [],
      "metadata": {
        "id": "HNYuaHL8-uD-"
      },
      "execution_count": null,
      "outputs": []
    },
    {
      "cell_type": "code",
      "source": [],
      "metadata": {
        "id": "XDwqfqju-uA2"
      },
      "execution_count": null,
      "outputs": []
    },
    {
      "cell_type": "code",
      "source": [],
      "metadata": {
        "id": "sN5VKA_w-t92"
      },
      "execution_count": null,
      "outputs": []
    },
    {
      "cell_type": "code",
      "source": [],
      "metadata": {
        "id": "MljoR6J9-t6v"
      },
      "execution_count": null,
      "outputs": []
    },
    {
      "cell_type": "code",
      "source": [],
      "metadata": {
        "id": "YHEzDI6G-t3m"
      },
      "execution_count": null,
      "outputs": []
    },
    {
      "cell_type": "code",
      "source": [],
      "metadata": {
        "id": "C5j2XkUI-t0g"
      },
      "execution_count": null,
      "outputs": []
    },
    {
      "cell_type": "code",
      "source": [],
      "metadata": {
        "id": "lIst7ctW-txN"
      },
      "execution_count": null,
      "outputs": []
    },
    {
      "cell_type": "code",
      "source": [],
      "metadata": {
        "id": "63DFCJ2r-tuQ"
      },
      "execution_count": null,
      "outputs": []
    },
    {
      "cell_type": "code",
      "source": [],
      "metadata": {
        "id": "u6H8K-wp-trI"
      },
      "execution_count": null,
      "outputs": []
    },
    {
      "cell_type": "code",
      "source": [],
      "metadata": {
        "id": "wqaWPU0Y-tn-"
      },
      "execution_count": null,
      "outputs": []
    },
    {
      "cell_type": "code",
      "source": [],
      "metadata": {
        "id": "zBhsi9vb-tk4"
      },
      "execution_count": null,
      "outputs": []
    },
    {
      "cell_type": "code",
      "source": [],
      "metadata": {
        "id": "hcS7UYhp-thx"
      },
      "execution_count": null,
      "outputs": []
    },
    {
      "cell_type": "code",
      "source": [],
      "metadata": {
        "id": "0B8R-lU6-ted"
      },
      "execution_count": null,
      "outputs": []
    },
    {
      "cell_type": "code",
      "source": [],
      "metadata": {
        "id": "V6YWLIW2-tbP"
      },
      "execution_count": null,
      "outputs": []
    },
    {
      "cell_type": "code",
      "source": [],
      "metadata": {
        "id": "WAgx4zhk-tYO"
      },
      "execution_count": null,
      "outputs": []
    },
    {
      "cell_type": "code",
      "source": [],
      "metadata": {
        "id": "e6Eqlq0u-tVQ"
      },
      "execution_count": null,
      "outputs": []
    },
    {
      "cell_type": "code",
      "source": [],
      "metadata": {
        "id": "JZf2A2aX-tSN"
      },
      "execution_count": null,
      "outputs": []
    },
    {
      "cell_type": "code",
      "source": [],
      "metadata": {
        "id": "ZBggqXBc-tPU"
      },
      "execution_count": null,
      "outputs": []
    },
    {
      "cell_type": "code",
      "source": [],
      "metadata": {
        "id": "bvQU4kI--tMW"
      },
      "execution_count": null,
      "outputs": []
    },
    {
      "cell_type": "code",
      "source": [],
      "metadata": {
        "id": "Jp9WR4Qu-tJW"
      },
      "execution_count": null,
      "outputs": []
    },
    {
      "cell_type": "code",
      "execution_count": null,
      "metadata": {
        "id": "WMlAmg91-sEj"
      },
      "outputs": [],
      "source": []
    }
  ]
}