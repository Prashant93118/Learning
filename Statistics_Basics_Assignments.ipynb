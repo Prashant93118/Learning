{
  "nbformat": 4,
  "nbformat_minor": 0,
  "metadata": {
    "colab": {
      "provenance": []
    },
    "kernelspec": {
      "name": "python3",
      "display_name": "Python 3"
    },
    "language_info": {
      "name": "python"
    }
  },
  "cells": [
    {
      "cell_type": "code",
      "source": [
        "#Ques1 Explain the different types of data (qualitative and quantitative) and provide examples of each. Discuss nominal, ordinal, interval, and ratio scales.\n",
        "#Ans\n",
        "#Types of Data: Qualitative and Quantitative\n",
        "#Qualitative Data:\n",
        "#Definition: Descriptive data that cannot be measured numerically.\n",
        "#Examples: Colors (red, blue), names of cities (Paris, London).\n",
        "#Quantitative Data:\n",
        "#Definition: Numerical data that can be counted or measured.\n",
        "#Examples: Height (180 cm), age (25 years).\n",
        "\n",
        "#Scales of Measurement:\n",
        "#Nominal Scale: categories without a specific order (e.g., gender, types of fruit).\n",
        "#Ordinal Scale: Ordered categories that show relative ranking but not the difference between them (e.g., movie ratings: poor, fair, good).\n",
        "#Interval Scale: Numerical scale where the distance between values is meaningful, but there is no true zero (e.g., temperature in Celsius).\n",
        "#Ratio Scale:Similar to interval but with a true zero, allowing for comparison of absolute magnitudes (e.g., weight, height).\n",
        "\n"
      ],
      "metadata": {
        "id": "86cSGQtClbgu"
      },
      "execution_count": null,
      "outputs": []
    },
    {
      "cell_type": "code",
      "source": [
        "#Ques2 What are the measures of central tendency, and when should you use each? Discuss the mean, median, and mode with examples and situations where each is appropriate.\n",
        "#Ans\n",
        "#Measures of Central Tendency\n",
        "#Measures of central tendency help summarize a dataset with a single value that represents the center. The three main measures are mean, median, and mode.\n",
        "\n",
        "#Mean : The average of a dataset, calculated by summing all values and dividing by the number of values.\n",
        "#Use case: Best for data that is normally distributed without outliers.\n",
        "#Example: The average score of a class on a test. If scores are 70, 75, 80, 85, 90, the mean is (70+75+80+85+90)/5 = 80.\n",
        "\n",
        "#Median : The middle value when the data is arranged in ascending order.\n",
        "#Use case: Useful for skewed distributions or datasets with outliers.\n",
        "#Example: In the dataset 1, 2, 3, 4, 100, the median is 3 (middle value) rather than the mean, which would be distorted by the outlier (low mean of 22.5).\n",
        "\n",
        "#Mode : The most frequently occurring value in a dataset.\n",
        "#Use case: Ideal for categorical data or to identify the most common item in a dataset.\n",
        "#Example: In a survey about favorite fruits where responses include apple, banana, apple, and orange, the mode is apple as it appears most frequently."
      ],
      "metadata": {
        "id": "wy4HEI0KlbdW"
      },
      "execution_count": null,
      "outputs": []
    },
    {
      "cell_type": "code",
      "source": [
        "#Ques3 Explain the concept of dispersion. How do variance and standard deviation measure the spread of data?\n",
        "#Ans Dispersion : Dispersion refers to the extent to which data points in a dataset vary or spread out from the central value (mean, median, or mode).\n",
        "#Variance : Variance is the average of the squared differences from the mean.\n",
        "#Formula: [ \\text{Variance} (\\sigma^2) = \\frac{\\Sigma (x_i - \\mu)^2}{N} ] where:\n",
        "\n",
        "#(x_i) = individual data points\n",
        "#(\\mu) = mean of the data\n",
        "#(N) = number of data points\n",
        "\n",
        "#Standard Deviation : Standard deviation is the square root of the variance, providing a measure of the average distance from the mean.\n",
        "\n",
        "#Formula: [ \\text{Standard Deviation} (\\sigma) = \\sqrt{\\text{Variance}} ]"
      ],
      "metadata": {
        "id": "CDPu47pTlbal"
      },
      "execution_count": null,
      "outputs": []
    },
    {
      "cell_type": "code",
      "source": [
        "#Ques4 What is a box plot, and what can it tell you about the distribution of data?\n",
        "#Ans Box Plot : A box plot (or whisker plot) is a graphical representation of data that displays the minimum, first quartile (Q1), median (Q2), third quartile (Q3), and maximum values.\n",
        "#What a Box Plot Tells us\n",
        "\n",
        "#Central Tendency: The line inside the box represents the median, showing the center of the data.\n",
        "#Spread of Data: The length of the box indicates the interquartile range (IQR), which measures the spread of the middle 50% of the data.\n",
        "#Outliers: Individual points outside the \"whiskers\" (the lines extending from the box) indicate potential outliers.\n",
        "#Skewness: The position of the median within the box can indicate skewness of the distribution (e.g., if it's closer to Q1 or Q3)."
      ],
      "metadata": {
        "id": "-ZA-4S7ulbX4"
      },
      "execution_count": null,
      "outputs": []
    },
    {
      "cell_type": "code",
      "source": [
        "#Ques5 Discuss the role of random sampling in making inferences about populations.\n",
        "#Ans\n",
        "#Random Sampling: Random sampling ensures that every member of a population has an equal chance of being included in the sample, promoting representativeness.\n",
        "\n",
        "#Importance in Making Inferences:\n",
        "\n",
        "#Reducing Bias: Helps eliminate selection bias, ensuring that the sample accurately reflects the characteristics of the entire population.\n",
        "#Generalizability:Results from a random sample can be more confidently generalized to the population, leading to more accurate insights and conclusions.\n",
        "#Statistical Validity:Facilitates the application of statistical tests and models. This is crucial for estimating population parameters (like means or proportions) and conducting hypothesis testing.\n",
        "#Estimation of Error:Enables the calculation of sampling error and confidence intervals, providing a measure of uncertainty regarding population estimates."
      ],
      "metadata": {
        "id": "8f8wM7GOlbUd"
      },
      "execution_count": null,
      "outputs": []
    },
    {
      "cell_type": "code",
      "source": [
        "#Ques6 Explain the concept of skewness and its types. How does skewness affect the interpretation of data?\n",
        "#Ans Skewness: Skewness measures the asymmetry of a probability distribution around its mean.\n",
        "#Types of Skewness\n",
        "#Positive Skewness (Right Skew):\n",
        "#Tail on the right side is longer.\n",
        "#Mean > Median > Mode.\n",
        "#Indicates a concentration of values on the lower end.\n",
        "\n",
        "#Negative Skewness (Left Skew):\n",
        "#Tail on the left side is longer.\n",
        "#Mean < Median < Mode.\n",
        "#Indicates a concentration of values on the higher end.\n",
        "\n",
        "#Zero Skewness:\n",
        "#Symmetric distribution.\n",
        "#Mean = Median = Mode.\n",
        "#Impact on Data Interpretation\n",
        "#Understanding Distribution: Skewness helps in identifying the symmetry or asymmetry in data distribution, crucial for appropriate statistical analysis.\n",
        "\n",
        "#Influence on Central Measures: Affected by skewness:\n",
        "#Mean: Can be skewed by extreme values.\n",
        "#Median: More robust and often preferred in skewed distributions.\n",
        "#Statistical Tests: Many parametric tests assume normality. High skewness may violate these assumptions, affecting analysis validity.\n",
        "#Risk Assessment: In finance, skewness can signal potential risks, particularly in investment returns."
      ],
      "metadata": {
        "id": "MDgVFXi_lbRe"
      },
      "execution_count": null,
      "outputs": []
    },
    {
      "cell_type": "code",
      "source": [
        "#Ques7 What is the interquartile range (IQR), and how is it used to detect outliers?\n",
        "#Ans Interquartile Range (IQR) and Outlier Detection\n",
        "#Definition: The interquartile range (IQR) is a measure of statistical dispersion that represents the range of the middle 50% of a dataset. It is calculated as the difference between the third quartile (Q3) and the first quartile (Q1):\n",
        "#IQR = Q3 - Q1\n",
        "\n",
        "#Outlier Detection:\n",
        "#Outliers are identified using the IQR by calculating lower and upper bounds:\n",
        "#Lower Bound: Q1 - 1.5 × IQR\n",
        "#Upper Bound: Q3 + 1.5 × IQR\n",
        "#Any data point outside these bounds is considered an outlier."
      ],
      "metadata": {
        "id": "y-dcvQKUlbO1"
      },
      "execution_count": null,
      "outputs": []
    },
    {
      "cell_type": "code",
      "source": [
        "#Ques8 Discuss the conditions under which the binomial distribution is used.\n",
        "#Ans Conditions for Using the Binomial Distribution\n",
        "#Fixed Number of Trials: The experiment consists of a fixed number of trials (n).\n",
        "#Two Possible Outcomes: Each trial results in one of two outcomes: success or failure.\n",
        "#Constant Probability: The probability of success (p) remains constant across trials.\n",
        "#Independent Trials: The outcome of one trial does not affect the outcome of another.\n",
        "#Discrete Variables: The distribution is used for discrete random variables that count the number of successes in n trials.\n",
        "\n",
        "##These conditions ensure that the binomial distribution appropriately models the situation being analyzed."
      ],
      "metadata": {
        "id": "NHOkCl-8lbLL"
      },
      "execution_count": null,
      "outputs": []
    },
    {
      "cell_type": "code",
      "source": [
        "#Ques9 Explain the properties of the normal distribution and the empirical rule (68-95-99.7 rule).\n",
        "#Ans\n",
        "#Properties of the Normal Distribution\n",
        "#Symmetry: The distribution is symmetric around the mean, so the left and right sides are mirror images.\n",
        "#Bell-shaped Curve: It has a single peak (mode) which corresponds to the mean, median, and mode being equal.\n",
        "#Mean, Median, and Mode: All three measures of central tendency are located at the center of the distribution.\n",
        "#Asymptotic: The tails of the distribution approach, but never touch, the horizontal axis.\n",
        "#Defined by Two Parameters: It is characterized by its mean (μ) and standard deviation (σ).\n",
        "#Area under the Curve: The total area under the curve equals 1, representing the entirety of the distribution’s probability.\n",
        "\n",
        "#Empirical Rule (68-95-99.7 Rule)\n",
        "#68% within 1 Standard Deviation: About 68% of the data falls within one standard deviation (μ ± σ) from the mean.\n",
        "#95% within 2 Standard Deviations: Approximately 95% of the data falls within two standard deviations (μ ± 2σ) from the mean.\n",
        "#99.7% within 3 Standard Deviations: About 99.7% of the data falls within three standard deviations (μ ± 3σ) from the mean."
      ],
      "metadata": {
        "id": "-oWMpeghlbIE"
      },
      "execution_count": null,
      "outputs": []
    },
    {
      "cell_type": "code",
      "source": [
        "#Ques10 Provide a real-life example of a Poisson process and calculate the probability for a specific event.\n",
        "#Ans\n",
        "#Example of a Poisson Process\n",
        "#Scenario: Number of phone calls received at a call center per hour.\n",
        "#Assumptions:\n",
        "#Calls occur randomly.\n",
        "#The average rate of calls is consistent (e.g., 10 calls per hour).\n",
        "#Each call is independent of another.\n",
        "#Calculation of Probability for a Specific Event\n",
        "\n",
        "#Parameters:\n",
        "#Rate (λ) = 10 calls/hour\n",
        "#We want to find the probability of receiving exactly 5 calls in one hour.\n",
        "#Poisson Probability Formula: [ P(X = k) = \\frac{e^{-\\lambda} \\cdot \\lambda^k}{k!} ] Where:\n",
        "#( e ) is approximately 2.71828\n",
        "#( k ) is the number of occurrences (in this case, 5).\n",
        "#Substitution: [ P(X = 5) = \\frac{e^{-10} \\cdot 10^5}{5!} ] [ = \\frac{e^{-10} \\cdot 100000}{120} ] [ = \\frac{100000 \\cdot e^{-10}}{120} ]\n",
        "\n",
        "#Calculation:\n",
        "#First calculate ( e^{-10} \\approx 0.0000453999 ) [ P(X = 5) \\approx \\frac{100000 \\cdot 0.0000453999}{120} \\approx 0.037 ]\n",
        "\n",
        "##The probability of receiving exactly 5 calls in one hour is approximately 0.037 or 3.7%."
      ],
      "metadata": {
        "id": "OepCMR1qlbEp"
      },
      "execution_count": null,
      "outputs": []
    },
    {
      "cell_type": "code",
      "source": [
        "#Ques11 Explain what a random variable is and differentiate between discrete and continuous random variables.\n",
        "#Ans Random Variable: A random variable is a numerical outcome of a random phenomenon, often represented by letters like X or Y.\n",
        "\n",
        "#Types of Random Variables\n",
        "\n",
        "#Discrete Random Variables\n",
        "#Take on a countable number of distinct values.\n",
        "#Examples: Number of heads in coin tosses, number of students in a class.\n",
        "\n",
        "#Continuous Random Variables\n",
        "#Can take on any value within a given range or interval.\n",
        "#Examples: Height of individuals, temperature readings."
      ],
      "metadata": {
        "id": "-mK-WlwplbBq"
      },
      "execution_count": null,
      "outputs": []
    },
    {
      "cell_type": "code",
      "source": [
        "#Ques12 Provide an example dataset, calculate both covariance and correlation, and interpret the results.\n",
        "#Ans\n",
        "#Example Dataset IS GIVEN BELOW\n",
        "\n",
        "#Calculations\n",
        "#Mean of X: ( \\bar{X} = 6 )\n",
        "\n",
        "#Mean of Y: ( \\bar{Y} = 8.8 )\n",
        "\n",
        "#Covariance:[ \\text{Cov}(X,Y) = \\frac{\\sum{(X_i - \\bar{X})(Y_i - \\bar{Y})}}{n-1} = \\frac{(2-6)(3-8.8)+(4-6)(5-8.8)+(6-6)(9-8.8)+(8-6)(12-8.8)+(10-6)(15-8.8)}{5-1} = 5.8 ]\n",
        "#Correlation: [ r = \\frac{\\text{Cov}(X,Y)}{s_X s_Y} ] Where ( s_X ) and ( s_Y ) are standard deviations of X and Y. [ r = 0.98 ]\n",
        "\n",
        "#Interpretation\n",
        "#Covariance (5.8): Indicates that as X increases, Y tends to also increase, suggesting a positive relationship.\n",
        "#Correlation (0.98): A strong positive correlation suggests a very strong linear relationship between X and Y, where increases in X are closely associated with increases in Y.\n"
      ],
      "metadata": {
        "id": "gTzTBoKCla-R"
      },
      "execution_count": null,
      "outputs": []
    },
    {
      "cell_type": "markdown",
      "source": [
        "![image.png](data:image/png;base64,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)"
      ],
      "metadata": {
        "id": "a1tyIgy1zf0d"
      }
    },
    {
      "cell_type": "code",
      "source": [],
      "metadata": {
        "id": "uejLGQuela7b"
      },
      "execution_count": null,
      "outputs": []
    },
    {
      "cell_type": "code",
      "source": [],
      "metadata": {
        "id": "AodM_9Zkla4f"
      },
      "execution_count": null,
      "outputs": []
    },
    {
      "cell_type": "code",
      "source": [],
      "metadata": {
        "id": "B9P5mOlLla1U"
      },
      "execution_count": null,
      "outputs": []
    },
    {
      "cell_type": "code",
      "source": [],
      "metadata": {
        "id": "EB-vfW1jlayA"
      },
      "execution_count": null,
      "outputs": []
    },
    {
      "cell_type": "code",
      "source": [],
      "metadata": {
        "id": "-QUkN9ZGlavX"
      },
      "execution_count": null,
      "outputs": []
    },
    {
      "cell_type": "code",
      "source": [],
      "metadata": {
        "id": "qFtS8jvqlasI"
      },
      "execution_count": null,
      "outputs": []
    },
    {
      "cell_type": "code",
      "source": [],
      "metadata": {
        "id": "DkH5NFYQlapN"
      },
      "execution_count": null,
      "outputs": []
    },
    {
      "cell_type": "code",
      "source": [],
      "metadata": {
        "id": "hVKGdTwplamT"
      },
      "execution_count": null,
      "outputs": []
    },
    {
      "cell_type": "code",
      "source": [],
      "metadata": {
        "id": "7JUJj8yxlai6"
      },
      "execution_count": null,
      "outputs": []
    },
    {
      "cell_type": "code",
      "source": [],
      "metadata": {
        "id": "uaEO43xMlagF"
      },
      "execution_count": null,
      "outputs": []
    },
    {
      "cell_type": "code",
      "source": [],
      "metadata": {
        "id": "8asfucjDladB"
      },
      "execution_count": null,
      "outputs": []
    },
    {
      "cell_type": "code",
      "source": [],
      "metadata": {
        "id": "sExBNTrHlaaN"
      },
      "execution_count": null,
      "outputs": []
    },
    {
      "cell_type": "code",
      "source": [],
      "metadata": {
        "id": "URtLgKDHlaXI"
      },
      "execution_count": null,
      "outputs": []
    },
    {
      "cell_type": "code",
      "source": [],
      "metadata": {
        "id": "_a4pQQ2SlaUQ"
      },
      "execution_count": null,
      "outputs": []
    },
    {
      "cell_type": "code",
      "source": [],
      "metadata": {
        "id": "7-GNzIg2laQy"
      },
      "execution_count": null,
      "outputs": []
    },
    {
      "cell_type": "code",
      "source": [],
      "metadata": {
        "id": "1MIhufqZlaM-"
      },
      "execution_count": null,
      "outputs": []
    },
    {
      "cell_type": "code",
      "source": [],
      "metadata": {
        "id": "hpMeVQyAlaJ4"
      },
      "execution_count": null,
      "outputs": []
    },
    {
      "cell_type": "code",
      "source": [],
      "metadata": {
        "id": "vubAJ89PlaGx"
      },
      "execution_count": null,
      "outputs": []
    },
    {
      "cell_type": "code",
      "source": [],
      "metadata": {
        "id": "uoXzJ-ablaDa"
      },
      "execution_count": null,
      "outputs": []
    },
    {
      "cell_type": "code",
      "source": [],
      "metadata": {
        "id": "RTgnBf69laAj"
      },
      "execution_count": null,
      "outputs": []
    },
    {
      "cell_type": "code",
      "source": [],
      "metadata": {
        "id": "7Ww9blrulZ8w"
      },
      "execution_count": null,
      "outputs": []
    },
    {
      "cell_type": "code",
      "source": [],
      "metadata": {
        "id": "jAKzQbWplZ5f"
      },
      "execution_count": null,
      "outputs": []
    },
    {
      "cell_type": "code",
      "source": [],
      "metadata": {
        "id": "LWKAn-mblZ1n"
      },
      "execution_count": null,
      "outputs": []
    },
    {
      "cell_type": "code",
      "source": [],
      "metadata": {
        "id": "sICwMGNdlZyh"
      },
      "execution_count": null,
      "outputs": []
    },
    {
      "cell_type": "code",
      "source": [],
      "metadata": {
        "id": "PMOQlUKSlZvD"
      },
      "execution_count": null,
      "outputs": []
    },
    {
      "cell_type": "code",
      "source": [],
      "metadata": {
        "id": "8e9k-8VZlZsP"
      },
      "execution_count": null,
      "outputs": []
    },
    {
      "cell_type": "code",
      "source": [],
      "metadata": {
        "id": "-ET9_G9qlZow"
      },
      "execution_count": null,
      "outputs": []
    },
    {
      "cell_type": "code",
      "source": [],
      "metadata": {
        "id": "nSHOgbwglZlg"
      },
      "execution_count": null,
      "outputs": []
    },
    {
      "cell_type": "code",
      "source": [],
      "metadata": {
        "id": "54uWAImclZiG"
      },
      "execution_count": null,
      "outputs": []
    },
    {
      "cell_type": "code",
      "source": [],
      "metadata": {
        "id": "bU96g0ZulZe5"
      },
      "execution_count": null,
      "outputs": []
    },
    {
      "cell_type": "code",
      "source": [],
      "metadata": {
        "id": "WfbaJ2SFlZbX"
      },
      "execution_count": null,
      "outputs": []
    },
    {
      "cell_type": "code",
      "source": [],
      "metadata": {
        "id": "w6MYqPo5lZYI"
      },
      "execution_count": null,
      "outputs": []
    },
    {
      "cell_type": "code",
      "source": [],
      "metadata": {
        "id": "-F8B91YGlZVB"
      },
      "execution_count": null,
      "outputs": []
    },
    {
      "cell_type": "code",
      "source": [],
      "metadata": {
        "id": "roQeKj6VlZRv"
      },
      "execution_count": null,
      "outputs": []
    },
    {
      "cell_type": "code",
      "source": [],
      "metadata": {
        "id": "Q1pjcCvNlZOx"
      },
      "execution_count": null,
      "outputs": []
    },
    {
      "cell_type": "code",
      "source": [],
      "metadata": {
        "id": "6oEayVdDlZLp"
      },
      "execution_count": null,
      "outputs": []
    },
    {
      "cell_type": "code",
      "source": [],
      "metadata": {
        "id": "BKgG2YWclZIn"
      },
      "execution_count": null,
      "outputs": []
    },
    {
      "cell_type": "code",
      "source": [],
      "metadata": {
        "id": "rhf6xVbklZDv"
      },
      "execution_count": null,
      "outputs": []
    },
    {
      "cell_type": "code",
      "source": [],
      "metadata": {
        "id": "Ahj4mNpalY_B"
      },
      "execution_count": null,
      "outputs": []
    },
    {
      "cell_type": "code",
      "source": [],
      "metadata": {
        "id": "HG2afTBclY7e"
      },
      "execution_count": null,
      "outputs": []
    },
    {
      "cell_type": "code",
      "source": [],
      "metadata": {
        "id": "4BP2DmqFlY4g"
      },
      "execution_count": null,
      "outputs": []
    },
    {
      "cell_type": "code",
      "source": [],
      "metadata": {
        "id": "NIsp6RC8lY1g"
      },
      "execution_count": null,
      "outputs": []
    },
    {
      "cell_type": "code",
      "source": [],
      "metadata": {
        "id": "BzYkDWrulYyr"
      },
      "execution_count": null,
      "outputs": []
    },
    {
      "cell_type": "code",
      "source": [],
      "metadata": {
        "id": "4XmdT883lYvg"
      },
      "execution_count": null,
      "outputs": []
    },
    {
      "cell_type": "code",
      "source": [],
      "metadata": {
        "id": "eMS4ZChrlYsp"
      },
      "execution_count": null,
      "outputs": []
    },
    {
      "cell_type": "code",
      "source": [],
      "metadata": {
        "id": "5O41Ui8KlYpe"
      },
      "execution_count": null,
      "outputs": []
    },
    {
      "cell_type": "code",
      "source": [],
      "metadata": {
        "id": "_7kfW26TlYmn"
      },
      "execution_count": null,
      "outputs": []
    },
    {
      "cell_type": "code",
      "source": [],
      "metadata": {
        "id": "cZiGyRaflYjf"
      },
      "execution_count": null,
      "outputs": []
    },
    {
      "cell_type": "code",
      "source": [],
      "metadata": {
        "id": "QA8qYnM6lYgO"
      },
      "execution_count": null,
      "outputs": []
    },
    {
      "cell_type": "code",
      "source": [],
      "metadata": {
        "id": "YzrJklbClYda"
      },
      "execution_count": null,
      "outputs": []
    },
    {
      "cell_type": "code",
      "source": [],
      "metadata": {
        "id": "3PE_HKI-lYa8"
      },
      "execution_count": null,
      "outputs": []
    },
    {
      "cell_type": "code",
      "source": [],
      "metadata": {
        "id": "uOpWKc--lYXs"
      },
      "execution_count": null,
      "outputs": []
    },
    {
      "cell_type": "code",
      "source": [],
      "metadata": {
        "id": "UatFoo5FlYU3"
      },
      "execution_count": null,
      "outputs": []
    },
    {
      "cell_type": "code",
      "execution_count": null,
      "metadata": {
        "id": "IhvtLSfglQEa"
      },
      "outputs": [],
      "source": []
    }
  ]
}