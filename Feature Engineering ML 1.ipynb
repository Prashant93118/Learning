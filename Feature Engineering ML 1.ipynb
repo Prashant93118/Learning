{
  "nbformat": 4,
  "nbformat_minor": 0,
  "metadata": {
    "colab": {
      "provenance": []
    },
    "kernelspec": {
      "name": "python3",
      "display_name": "Python 3"
    },
    "language_info": {
      "name": "python"
    }
  },
  "cells": [
    {
      "cell_type": "code",
      "source": [
        "# 1. What is a parameter?\n",
        "\n",
        "# A parameter in Machine Learning is a configuration variable that is learned from data during training.\n",
        "# Example: In linear regression, the slope (weights) and intercept (bias) are parameters.\n",
        "# These are not set manually, but adjusted by algorithms like gradient descent."
      ],
      "metadata": {
        "id": "3wzItGhpe3rT"
      },
      "execution_count": null,
      "outputs": []
    },
    {
      "cell_type": "code",
      "source": [
        "# 2. What is correlation?\n",
        "\n",
        "# Correlation is a statistical measure that describes the relationship between two variables.\n",
        "# Values range from -1 to +1.\n",
        "# +1 = strong positive relationship, -1 = strong negative relationship, 0 = no relationship."
      ],
      "metadata": {
        "id": "jrDj9Otce4w0"
      },
      "execution_count": null,
      "outputs": []
    },
    {
      "cell_type": "code",
      "source": [
        "# 3. What does negative correlation mean?\n",
        "\n",
        "# A negative correlation means that as one variable increases, the other decreases.\n",
        "# Example: The number of hours spent watching TV 📺 vs. exam scores 📊.\n",
        "# More TV time → lower scores → negative correlation."
      ],
      "metadata": {
        "id": "uiXEchDue4uE"
      },
      "execution_count": null,
      "outputs": []
    },
    {
      "cell_type": "code",
      "source": [
        "# 4. Define Machine Learning. What are the main components in Machine Learning?\n",
        "\n",
        "# Machine Learning (ML) is a field of AI that enables systems to learn from data and improve without being explicitly programmed.\n",
        "\n",
        "# Main components:\n",
        "# Data – Input for training.\n",
        "# Features – Independent variables used for learning.\n",
        "# Model – Algorithm/architecture that learns patterns.\n",
        "# Loss Function – Measures prediction error.\n",
        "# Optimizer – Minimizes loss by updating parameters.\n",
        "# Evaluation – Validating performance using metrics."
      ],
      "metadata": {
        "id": "hl5iq1mMe4qt"
      },
      "execution_count": null,
      "outputs": []
    },
    {
      "cell_type": "code",
      "source": [
        "# 5. How does loss value help in determining whether the model is good or not?\n",
        "\n",
        "# The loss value tells how far the model’s predictions are from the actual output.\n",
        "# Low loss → better model performance.\n",
        "# Example: In regression, Mean Squared Error (MSE); in classification, Cross-Entropy Loss.\n",
        "# If loss decreases over iterations, the model is learning correctly."
      ],
      "metadata": {
        "id": "bRbfVFx6e4nw"
      },
      "execution_count": null,
      "outputs": []
    },
    {
      "cell_type": "code",
      "source": [
        "# 6. What are continuous and categorical variables?\n",
        "\n",
        "# Continuous variables: Numeric, can take infinite values. (e.g., height, salary, temperature)\n",
        "# Categorical variables: Represent groups/categories. (e.g., gender: Male/Female, country: India/USA)"
      ],
      "metadata": {
        "id": "-_R1f1i5e4kj"
      },
      "execution_count": null,
      "outputs": []
    },
    {
      "cell_type": "code",
      "source": [
        "# 7. How do we handle categorical variables in Machine Learning? What are the common techniques?\n",
        "\n",
        "# Handling categorical data is essential because ML algorithms work with numbers.\n",
        "\n",
        "# Techniques:\n",
        "# Label Encoding – Assigns a number to each category (e.g., Male=0, Female=1).\n",
        "# One-Hot Encoding – Creates binary columns for each category.\n",
        "# Target Encoding – Replaces category with mean of target variable."
      ],
      "metadata": {
        "id": "mB63MA_pe4hY"
      },
      "execution_count": null,
      "outputs": []
    },
    {
      "cell_type": "code",
      "source": [
        "# 8. What do you mean by training and testing a dataset?\n",
        "\n",
        "# Training dataset: Used to teach the model patterns.\n",
        "# Testing dataset: Used to evaluate performance on unseen data.\n",
        "\n",
        "# This ensures the model generalizes well."
      ],
      "metadata": {
        "id": "oPKvhJfye4eD"
      },
      "execution_count": null,
      "outputs": []
    },
    {
      "cell_type": "code",
      "source": [
        "# 9. How do you approach a Machine Learning problem?\n",
        "\n",
        "# General ML problem-solving approach:\n",
        "# Understand the problem & business objective.\n",
        "# Collect & explore data.\n",
        "# Perform EDA (Exploratory Data Analysis).\n",
        "# Preprocess data (cleaning, encoding, scaling).\n",
        "# Split into train/test sets.\n",
        "# Train model(s).\n",
        "# Evaluate using metrics (accuracy, precision, recall, etc.).\n",
        "# Tune hyperparameters.\n",
        "# Deploy the best-performing model."
      ],
      "metadata": {
        "id": "5lwXvbmDe4a5"
      },
      "execution_count": null,
      "outputs": []
    },
    {
      "cell_type": "code",
      "source": [
        "# 10. Why do we have to perform EDA before fitting a model to the data?\n",
        "\n",
        "# EDA (Exploratory Data Analysis) helps in:\n",
        "# Understanding distributions, patterns, and relationships.\n",
        "# Identifying missing values, outliers, and anomalies.\n",
        "# Choosing correct preprocessing techniques.\n",
        "# Deciding which features are useful.\n",
        "# EDA ensures the dataset is clean and ready for modeling."
      ],
      "metadata": {
        "id": "GaioODJNe4Xs"
      },
      "execution_count": null,
      "outputs": []
    },
    {
      "cell_type": "code",
      "source": [
        "# 11. What is causation? Explain difference between correlation and causation with an example.\n",
        "\n",
        "# Correlation: Two variables move together but don’t necessarily affect each other.\n",
        "# Causation: One variable directly affects the other.\n",
        "\n",
        "# Example:\n",
        "# Ice cream sales 🍦 and drowning incidents 🏊 are correlated (both increase in summer).\n",
        "# But ice cream does not cause drowning → correlation without causation.\n",
        "# Smoking 🚬 causes lung cancer → causation."
      ],
      "metadata": {
        "id": "sORSGxGde4UT"
      },
      "execution_count": null,
      "outputs": []
    },
    {
      "cell_type": "code",
      "source": [
        "# 12. What is an Optimizer? What are different types of optimizers? Explain each with an example.\n",
        "\n",
        "# An optimizer updates model parameters to minimize loss.\n",
        "\n",
        "# Types:\n",
        "# Gradient Descent – Updates parameters in steps proportional to negative gradient.\n",
        "# Stochastic Gradient Descent (SGD) – Uses one sample at a time for faster updates.\n",
        "# Adam (Adaptive Moment Estimation) – Combines momentum & adaptive learning rates, widely used.\n",
        "# RMSProp – Adjusts learning rate for each parameter individually.\n",
        "# Example: In neural networks, Adam optimizer updates weights after each batch."
      ],
      "metadata": {
        "id": "u0mp1PQue4RA"
      },
      "execution_count": null,
      "outputs": []
    },
    {
      "cell_type": "code",
      "source": [
        "# 13. What is feature scaling? How does it help in Machine Learning?\n",
        "\n",
        "# Feature scaling normalizes/standardizes numerical data.\n",
        "# Helps because many ML models (like KNN, SVM, Gradient Descent) are sensitive to different ranges of values.\n",
        "\n",
        "# Example: Age (20–60) vs. Salary (10,000–1,00,000). Without scaling, salary dominates."
      ],
      "metadata": {
        "id": "eo6-PhEBe4N4"
      },
      "execution_count": null,
      "outputs": []
    },
    {
      "cell_type": "code",
      "source": [
        "# 14. Explain data encoding.\n",
        "\n",
        "# Data encoding is the process of converting categorical variables into numerical format so that ML models can process them.\n",
        "\n",
        "# Types:\n",
        "\n",
        "# Label Encoding – assigns numeric labels.\n",
        "# One-Hot Encoding – creates binary variables.\n",
        "# Ordinal Encoding – assigns ordered values."
      ],
      "metadata": {
        "id": "SEl-so8Pe4Kp"
      },
      "execution_count": null,
      "outputs": []
    },
    {
      "cell_type": "markdown",
      "source": [],
      "metadata": {
        "id": "WI-bVtCmhNdO"
      }
    },
    {
      "cell_type": "code",
      "source": [
        "1. #Perform correlation between variables in Python\n",
        "\n",
        "#Correlation shows relationships between numerical variables.\n",
        "\n",
        "import pandas as pd\n",
        "\n",
        "data = {\n",
        "    'Age': [20, 22, 25, 30, 35],\n",
        "    'Salary': [20000, 25000, 32000, 40000, 50000],\n",
        "    'Experience': [1, 2, 3, 5, 7]\n",
        "}\n",
        "df = pd.DataFrame(data)\n",
        "\n",
        "# Correlation matrix\n",
        "correlation_matrix = df.corr()\n",
        "print(correlation_matrix)\n",
        "\n"
      ],
      "metadata": {
        "colab": {
          "base_uri": "https://localhost:8080/"
        },
        "id": "dRZOXo1se4Hn",
        "outputId": "70af972a-48f2-4ac5-c1d1-eb90b1cb1c94"
      },
      "execution_count": 5,
      "outputs": [
        {
          "output_type": "stream",
          "name": "stdout",
          "text": [
            "                 Age    Salary  Experience\n",
            "Age         1.000000  0.997500    0.999422\n",
            "Salary      0.997500  1.000000    0.997249\n",
            "Experience  0.999422  0.997249    1.000000\n"
          ]
        }
      ]
    },
    {
      "cell_type": "code",
      "source": [
        "#2 Encode categorical variables in Python\n",
        "\n",
        "#Categorical variables (e.g., Gender, Country) need encoding.\n",
        "\n",
        "import pandas as pd\n",
        "\n",
        "data = {\n",
        "    'Name': ['A', 'B', 'C', 'D'],\n",
        "    'Gender': ['Male', 'Female', 'Female', 'Male'],\n",
        "    'City': ['Delhi', 'Mumbai', 'Delhi', 'Bangalore']\n",
        "}\n",
        "df = pd.DataFrame(data)\n",
        "\n",
        "# Label Encoding\n",
        "from sklearn.preprocessing import LabelEncoder\n",
        "label_encoder = LabelEncoder()\n",
        "df['Gender_Label'] = label_encoder.fit_transform(df['Gender'])\n",
        "\n",
        "# One-Hot Encoding\n",
        "df_onehot = pd.get_dummies(df, columns=['City'])\n",
        "\n",
        "print(df)\n",
        "print(df_onehot)"
      ],
      "metadata": {
        "colab": {
          "base_uri": "https://localhost:8080/"
        },
        "id": "sQpFKy5te4Ei",
        "outputId": "1f3316f5-3286-4c9e-9826-5046e4697912"
      },
      "execution_count": 8,
      "outputs": [
        {
          "output_type": "stream",
          "name": "stdout",
          "text": [
            "  Name  Gender       City  Gender_Label\n",
            "0    A    Male      Delhi             1\n",
            "1    B  Female     Mumbai             0\n",
            "2    C  Female      Delhi             0\n",
            "3    D    Male  Bangalore             1\n",
            "  Name  Gender  Gender_Label  City_Bangalore  City_Delhi  City_Mumbai\n",
            "0    A    Male             1           False        True        False\n",
            "1    B  Female             0           False       False         True\n",
            "2    C  Female             0           False        True        False\n",
            "3    D    Male             1            True       False        False\n"
          ]
        }
      ]
    },
    {
      "cell_type": "code",
      "source": [
        "#3 Perform scaling in Python\n",
        "\n",
        "#Scaling ensures all features are in the same range.\n",
        "\n",
        "import pandas as pd\n",
        "from sklearn.preprocessing import StandardScaler, MinMaxScaler\n",
        "\n",
        "\n",
        "data = {\n",
        "    'Age': [20, 25, 30, 35, 40],\n",
        "    'Salary': [20000, 35000, 50000, 65000, 80000]\n",
        "}\n",
        "df = pd.DataFrame(data)\n",
        "\n",
        "# Standardization (mean=0, variance=1)\n",
        "scaler = StandardScaler()\n",
        "scaled_data = scaler.fit_transform(df)\n",
        "df_scaled = pd.DataFrame(scaled_data, columns=['Age', 'Salary'])\n",
        "\n",
        "# Normalization (0 to 1 range)\n",
        "minmax = MinMaxScaler()\n",
        "normalized_data = minmax.fit_transform(df)\n",
        "df_normalized = pd.DataFrame(normalized_data, columns=['Age', 'Salary'])\n",
        "\n",
        "print(\"Standardized Data:\\n\", df_scaled)\n",
        "print(\"\\nNormalized Data:\\n\", df_normalized)"
      ],
      "metadata": {
        "colab": {
          "base_uri": "https://localhost:8080/"
        },
        "id": "DMuIjeTAe4BX",
        "outputId": "d2e12bb3-aa35-463b-b735-98af075e4c0e"
      },
      "execution_count": 9,
      "outputs": [
        {
          "output_type": "stream",
          "name": "stdout",
          "text": [
            "Standardized Data:\n",
            "         Age    Salary\n",
            "0 -1.414214 -1.414214\n",
            "1 -0.707107 -0.707107\n",
            "2  0.000000  0.000000\n",
            "3  0.707107  0.707107\n",
            "4  1.414214  1.414214\n",
            "\n",
            "Normalized Data:\n",
            "     Age  Salary\n",
            "0  0.00    0.00\n",
            "1  0.25    0.25\n",
            "2  0.50    0.50\n",
            "3  0.75    0.75\n",
            "4  1.00    1.00\n"
          ]
        }
      ]
    },
    {
      "cell_type": "code",
      "source": [
        "#4. Split dataset into training and testing in Python\n",
        "\n",
        "# Splitting ensures the model is tested on unseen data.\n",
        "\n",
        "import pandas as pd\n",
        "from sklearn.model_selection import train_test_split\n",
        "\n",
        "data = {\n",
        "    'Feature1': [5, 10, 15, 20, 25, 30, 35, 40],\n",
        "    'Feature2': [1, 2, 3, 4, 5, 6, 7, 8],\n",
        "    'Target':   [0, 1, 0, 1, 0, 1, 0, 1]\n",
        "}\n",
        "df = pd.DataFrame(data)\n",
        "\n",
        "X = df[['Feature1', 'Feature2']]   # Features\n",
        "y = df['Target']                   # Target\n",
        "\n",
        "# Splitting into 70% training, 30% testing\n",
        "X_train, X_test, y_train, y_test = train_test_split(X, y, test_size=0.3, random_state=42)\n",
        "\n",
        "print(\"Training Features:\\n\", X_train)\n",
        "print(\"\\nTesting Features:\\n\", X_test)"
      ],
      "metadata": {
        "colab": {
          "base_uri": "https://localhost:8080/"
        },
        "id": "KG9_FiEXe3-I",
        "outputId": "d97a2700-7f96-4156-c8e3-e6b3a9cdca67"
      },
      "execution_count": 10,
      "outputs": [
        {
          "output_type": "stream",
          "name": "stdout",
          "text": [
            "Training Features:\n",
            "    Feature1  Feature2\n",
            "7        40         8\n",
            "2        15         3\n",
            "4        25         5\n",
            "3        20         4\n",
            "6        35         7\n",
            "\n",
            "Testing Features:\n",
            "    Feature1  Feature2\n",
            "1        10         2\n",
            "5        30         6\n",
            "0         5         1\n"
          ]
        }
      ]
    },
    {
      "cell_type": "code",
      "source": [],
      "metadata": {
        "id": "oyiwFAV6e37N"
      },
      "execution_count": null,
      "outputs": []
    },
    {
      "cell_type": "code",
      "source": [],
      "metadata": {
        "id": "iAdO3_uqe34Q"
      },
      "execution_count": null,
      "outputs": []
    }
  ]
}