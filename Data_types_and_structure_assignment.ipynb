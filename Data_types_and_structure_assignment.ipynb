{
  "nbformat": 4,
  "nbformat_minor": 0,
  "metadata": {
    "colab": {
      "provenance": []
    },
    "kernelspec": {
      "name": "python3",
      "display_name": "Python 3"
    },
    "language_info": {
      "name": "python"
    }
  },
  "cells": [
    {
      "cell_type": "code",
      "execution_count": null,
      "metadata": {
        "id": "bFPHp_P1OSsS"
      },
      "outputs": [],
      "source": [
        "#Ques1-  What are data structures, and why are they importanT?\n",
        "#Ans- Data structures help us arrange and keep data on a computer. They matter because they make it easier to find, work with, and handle information."
      ]
    },
    {
      "cell_type": "code",
      "source": [
        "#Ques2- Explain the difference between mutable and immutable data types with examples\n",
        "#Ans- Data types are either changeable or unchangeable. Changeable ones, like lists, allow you to add or remove items. On the other hand, unchangeable types, such as strings, do not let you alter their individual characters."
      ],
      "metadata": {
        "id": "jOYha6WrRKdF"
      },
      "execution_count": null,
      "outputs": []
    },
    {
      "cell_type": "code",
      "source": [
        "#Ques3- What are the main differences between lists and tuples in Python?\n",
        "#Ans- Lists can change and hold elements in a specific order, whereas tuples have a fixed order and cannot be altered."
      ],
      "metadata": {
        "id": "sEKKL6bWRfEp"
      },
      "execution_count": null,
      "outputs": []
    },
    {
      "cell_type": "code",
      "source": [
        "#Ques4- Describe how dictionaries store data.\n",
        "#Ans- Dictionaries store data as key-value pairs, where each unique key maps to a specific value.\n",
        "#Example:-\n",
        "Dict = {\"Name\":[\"Prashant\", \"gandhi\",\"nehru\"],\"Age\":(23,12,30),\"Gender\":(\"Male\",\"Female\")}\n",
        "Dict"
      ],
      "metadata": {
        "colab": {
          "base_uri": "https://localhost:8080/"
        },
        "id": "HZoHShZeR0zs",
        "outputId": "a22b5a70-43c8-46f3-f475-98341a6e5b00"
      },
      "execution_count": 2,
      "outputs": [
        {
          "output_type": "execute_result",
          "data": {
            "text/plain": [
              "{'Name': ['Prashant', 'gandhi', 'nehru'],\n",
              " 'Age': (23, 12, 30),\n",
              " 'Gender': ('Male', 'Female')}"
            ]
          },
          "metadata": {},
          "execution_count": 2
        }
      ]
    },
    {
      "cell_type": "code",
      "source": [
        "#Ques5- Why might you use a set instead of a list in Python?\n",
        "#Ans- We use sets when we want to keep unique items and the order of those items doesn't matter."
      ],
      "metadata": {
        "id": "5brYD9nsSSwD"
      },
      "execution_count": null,
      "outputs": []
    },
    {
      "cell_type": "code",
      "source": [
        "#Ques6- What is a string in Python, and how is it different from a list?\n",
        "#Ans- Strings are sequences of characters that cannot be changed, whereas lists are sequences that can be changed and can contain any type of data."
      ],
      "metadata": {
        "id": "4hvs9YK4SqhB"
      },
      "execution_count": null,
      "outputs": []
    },
    {
      "cell_type": "code",
      "source": [
        "#Ques7- How do tuples ensure data integrity in Python?\n",
        "#Ans- Tuples cannot be changed once they are created, which helps keep the data safe and reliable."
      ],
      "metadata": {
        "id": "mwO4c_EeS9hT"
      },
      "execution_count": null,
      "outputs": []
    },
    {
      "cell_type": "code",
      "source": [
        "#Ques8- What is a hash table, and how does it relate to dictionaries in Python?\n",
        "#Ans- A hash table is a way to organize data that uses a hash function to connect keys with specific positions, making it quick to find information. In Python, dictionaries are built on this hash table idea."
      ],
      "metadata": {
        "id": "sc_aZPXzTakr"
      },
      "execution_count": null,
      "outputs": []
    },
    {
      "cell_type": "code",
      "source": [
        "#Ques9- Can lists contain different data types in Python?\n",
        "#Ans- Yes, lists can contain elements of different data types."
      ],
      "metadata": {
        "id": "dgwL3KMCT1l5"
      },
      "execution_count": null,
      "outputs": []
    },
    {
      "cell_type": "code",
      "source": [
        "#Ques10- Explain why strings are immutable in Python?\n",
        "#Ans- Strings cannot be changed to keep things running smoothly and to protect the data."
      ],
      "metadata": {
        "id": "yxh5kB6CUBoK"
      },
      "execution_count": null,
      "outputs": []
    },
    {
      "cell_type": "code",
      "source": [
        "#Ques11- What advantages do dictionaries offer over lists for certain task?\n",
        "#Ans- Dictionaries allow for quick searches by using keys, which makes them great for tasks that need key-value pairs."
      ],
      "metadata": {
        "id": "sShREHtTUT1R"
      },
      "execution_count": null,
      "outputs": []
    },
    {
      "cell_type": "code",
      "source": [
        "#Ques12- Describe a scenario where using a tuple would be preferable over a list.\n",
        "#Ans- If we want to keep our data safe from changes, it's better to use a tuple to avoid any unintentional edits."
      ],
      "metadata": {
        "id": "A54VM-UKUm6D"
      },
      "execution_count": null,
      "outputs": []
    },
    {
      "cell_type": "code",
      "source": [
        "#Ques13- How do sets handle duplicate values in Python?\n",
        "#Ans- Sets automatically remove any repeated values, making sure they have only unique items."
      ],
      "metadata": {
        "id": "GrUiZ2wnVGRx"
      },
      "execution_count": null,
      "outputs": []
    },
    {
      "cell_type": "code",
      "source": [
        "#Ques14-  How does the “in” keyword work differently for lists and dictionaries?\n",
        "#Ans- When working with lists, we can use the \"in\" keyword to see if an element is part of the list. Similarly, for dictionaries, the \"in\" keyword helps us to check if a key is present in the dictionary."
      ],
      "metadata": {
        "id": "0ORPJgczVTAD"
      },
      "execution_count": null,
      "outputs": []
    },
    {
      "cell_type": "code",
      "source": [
        "#Ques15- Can you modify the elements of a tuple? Explain why or why not.\n",
        "#Ans- We can't change the elements of a tuple. Tuples are fixed data structures, which means that once we create them, we can't alter what’s inside it. This unchangeable nature is important for keeping data safe and reliable. If we want a data structure that allows us to modify its elements, then we have to consider using a list instead of a tuple.\n"
      ],
      "metadata": {
        "id": "Y5qEAEmkV5ML"
      },
      "execution_count": null,
      "outputs": []
    },
    {
      "cell_type": "code",
      "source": [
        "#Ques16- What is a nested dictionary, and give an example of its use case?\n",
        "#Ans- A nested dictionary is simply a dictionary that has other dictionaries inside it as values. This setup helps us to arrange data in levels, making it easier to manage.\n",
        "students = {\"student1\": {\"name\": \"John Doe\",\"age\": 18,\"grades\": {\"math\": 90,\"science\": 85}},\"student2\": {\"name\": \"Jane Smith\",\"age\": 17,\"grades\": {\"math\": 80,\"science\": 90}}}\n",
        "print(students[\"student1\"][\"grades\"][\"math\"])"
      ],
      "metadata": {
        "colab": {
          "base_uri": "https://localhost:8080/"
        },
        "id": "Gfbzo7rbWzRN",
        "outputId": "40858ebe-0b56-4f2d-8fd6-51f084a9f674"
      },
      "execution_count": 4,
      "outputs": [
        {
          "output_type": "stream",
          "name": "stdout",
          "text": [
            "90\n"
          ]
        }
      ]
    },
    {
      "cell_type": "code",
      "source": [
        "#Ques17- Describe the time complexity of accessing elements in a dictionary.\n",
        "#Ans- Not understand the question."
      ],
      "metadata": {
        "id": "mERXYcwzfbl4"
      },
      "execution_count": null,
      "outputs": []
    },
    {
      "cell_type": "code",
      "source": [
        "#Ques18- In what situations are lists preferred over dictionaries?\n",
        "#Ans- Keeping things in order: If the order of our items really matters, using lists is better since they keep things in the same order we added them. Dictionaries, however, don’t maintain any order.\n",
        "#Going through items and finding them: If we want to go through items one by one or look them up by their position, lists make this much easier. While we can go through a dictionary too, the order of items isn't guaranteed."
      ],
      "metadata": {
        "id": "ttO2gkOif5um"
      },
      "execution_count": null,
      "outputs": []
    },
    {
      "cell_type": "code",
      "source": [
        "#Ques19- Why are dictionaries considered unordered, and how does that affect data retrieval?\n",
        "#Ans- In Python, dictionaries are called unordered because there’s no guarantee about the order of the elements. Unlike lists, where items follow a specific sequence, dictionaries arrange their elements around their keys. Because of this unordered nature, we can’t get to the elements by their index as we would with lists. Instead, we need to use the right key to find the value we’re looking for."
      ],
      "metadata": {
        "id": "fON0uZBxgrv7"
      },
      "execution_count": null,
      "outputs": []
    },
    {
      "cell_type": "code",
      "source": [
        "#Ques20- Explain the difference between a list and a dictionary in terms of data retrieval.\n",
        "#Ans- Lists are collections of items arranged in a specific order, and we can access these items by their position. To get an item from a list, we need to know where it is located. This design makes lists great for accessing data in sequence.\n",
        "#Dictionaries, on the other hand, keep data in pairs of keys and values. we fetch the information by using the key, not by its position. This setup is handy when we need to find a specific piece of information, as long as we have the right key."
      ],
      "metadata": {
        "id": "pdPAIT0_hu8v"
      },
      "execution_count": null,
      "outputs": []
    },
    {
      "cell_type": "markdown",
      "source": [
        "# **# Practicle** **Questions**"
      ],
      "metadata": {
        "id": "-URuSCHTinZU"
      }
    },
    {
      "cell_type": "code",
      "source": [
        "#Ques1- Write a code to create a string with your name and print it.\n",
        "#Ans-\n",
        "Name = \"prashant\"\n",
        "Name"
      ],
      "metadata": {
        "colab": {
          "base_uri": "https://localhost:8080/",
          "height": 35
        },
        "id": "Zcqr89VNi5O2",
        "outputId": "b5f26c0f-e7cd-425c-ec09-28225ac46d1a"
      },
      "execution_count": 6,
      "outputs": [
        {
          "output_type": "execute_result",
          "data": {
            "text/plain": [
              "'prashant'"
            ],
            "application/vnd.google.colaboratory.intrinsic+json": {
              "type": "string"
            }
          },
          "metadata": {},
          "execution_count": 6
        }
      ]
    },
    {
      "cell_type": "code",
      "source": [
        "type(Name)"
      ],
      "metadata": {
        "colab": {
          "base_uri": "https://localhost:8080/"
        },
        "id": "_-YsqzR6jND5",
        "outputId": "75a9904e-c23a-47be-a556-a03779c244fb"
      },
      "execution_count": 7,
      "outputs": [
        {
          "output_type": "execute_result",
          "data": {
            "text/plain": [
              "str"
            ]
          },
          "metadata": {},
          "execution_count": 7
        }
      ]
    },
    {
      "cell_type": "code",
      "source": [
        "#Ques2- Write a code to find the length of the string \"Hello World\".\n",
        "#Ans\n",
        "a = \"Hello World\"\n",
        "len(a)"
      ],
      "metadata": {
        "colab": {
          "base_uri": "https://localhost:8080/"
        },
        "id": "-635H7FfjQfA",
        "outputId": "53e2275b-c14a-4021-948b-2b67a663f717"
      },
      "execution_count": 9,
      "outputs": [
        {
          "output_type": "execute_result",
          "data": {
            "text/plain": [
              "11"
            ]
          },
          "metadata": {},
          "execution_count": 9
        }
      ]
    },
    {
      "cell_type": "code",
      "source": [
        "#Ques3- Write a code to slice the first 3 characters from the string \"Python Programming\"+\n",
        "#Ans-\n",
        "string = \"Python Programming\"\n",
        "sliced_string = string[0:3]\n",
        "print(sliced_string)"
      ],
      "metadata": {
        "colab": {
          "base_uri": "https://localhost:8080/"
        },
        "id": "VdIZ98skjjrk",
        "outputId": "b19979e7-a257-4c27-e22f-8cdf178a6b00"
      },
      "execution_count": 10,
      "outputs": [
        {
          "output_type": "stream",
          "name": "stdout",
          "text": [
            "Pyt\n"
          ]
        }
      ]
    },
    {
      "cell_type": "code",
      "source": [
        "#Ques4- Write a code to convert the string \"hello\" to uppercase\n",
        "#Ans-\n",
        "G = \"hello\"\n",
        "G.upper()"
      ],
      "metadata": {
        "colab": {
          "base_uri": "https://localhost:8080/",
          "height": 35
        },
        "id": "3H3msu_wk51c",
        "outputId": "3241894b-0423-43d4-dccc-d1ace530532c"
      },
      "execution_count": 16,
      "outputs": [
        {
          "output_type": "execute_result",
          "data": {
            "text/plain": [
              "'HELLO'"
            ],
            "application/vnd.google.colaboratory.intrinsic+json": {
              "type": "string"
            }
          },
          "metadata": {},
          "execution_count": 16
        }
      ]
    },
    {
      "cell_type": "code",
      "source": [
        "#Ques5- Write a code to replace the word \"apple\" with \"orange\" in the string \"I like apple\n",
        "#Ans-\n",
        "a = \"I like apple\"\n",
        "a.replace(\"apple\",\"orange\")"
      ],
      "metadata": {
        "colab": {
          "base_uri": "https://localhost:8080/",
          "height": 35
        },
        "id": "tCUETgBnlK4X",
        "outputId": "51cdb00f-e25b-499f-a889-98352657b0d9"
      },
      "execution_count": 18,
      "outputs": [
        {
          "output_type": "execute_result",
          "data": {
            "text/plain": [
              "'I like orange'"
            ],
            "application/vnd.google.colaboratory.intrinsic+json": {
              "type": "string"
            }
          },
          "metadata": {},
          "execution_count": 18
        }
      ]
    },
    {
      "cell_type": "code",
      "source": [
        "#Ques6- Write a code to create a list with numbers 1 to 5 and print it\n",
        "#Ans-\n",
        "num = list(range(1,6))\n",
        "num"
      ],
      "metadata": {
        "colab": {
          "base_uri": "https://localhost:8080/"
        },
        "id": "y7qdNRT1lrWW",
        "outputId": "5000d257-f110-452a-e557-c50a32df682f"
      },
      "execution_count": 20,
      "outputs": [
        {
          "output_type": "execute_result",
          "data": {
            "text/plain": [
              "[1, 2, 3, 4, 5]"
            ]
          },
          "metadata": {},
          "execution_count": 20
        }
      ]
    },
    {
      "cell_type": "code",
      "source": [
        "#Ques7- Write a code to append the number 10 to the list [1, 2, 3, 4].\n",
        "#Ans-\n",
        "num = list(range(1,5))\n",
        "num.append(10)\n",
        "num"
      ],
      "metadata": {
        "colab": {
          "base_uri": "https://localhost:8080/"
        },
        "id": "GEOKD4EImLHE",
        "outputId": "db2a76f1-ea3b-4450-9e07-b09b17f1ee5e"
      },
      "execution_count": 24,
      "outputs": [
        {
          "output_type": "execute_result",
          "data": {
            "text/plain": [
              "[1, 2, 3, 4, 10]"
            ]
          },
          "metadata": {},
          "execution_count": 24
        }
      ]
    },
    {
      "cell_type": "code",
      "source": [
        "#Ques8- Write a code to remove the number 3 from the list [1, 2, 3, 4, 5]\n",
        "#Ans-\n",
        "num1 = [1,2,3,4,5]\n",
        "num1.remove(3)\n",
        "num1"
      ],
      "metadata": {
        "colab": {
          "base_uri": "https://localhost:8080/"
        },
        "id": "KnwPap5emrH7",
        "outputId": "329bd273-9952-401d-d135-8259c09c053f"
      },
      "execution_count": 25,
      "outputs": [
        {
          "output_type": "execute_result",
          "data": {
            "text/plain": [
              "[1, 2, 4, 5]"
            ]
          },
          "metadata": {},
          "execution_count": 25
        }
      ]
    },
    {
      "cell_type": "code",
      "source": [
        "#Ques9- Write a code to access the second element in the list ['a', 'b', 'c', 'd']\n",
        "#Ans-\n",
        "H = [\"a\",\"b\",\"c\",\"d\",\"e\"]\n",
        "H[1]"
      ],
      "metadata": {
        "colab": {
          "base_uri": "https://localhost:8080/",
          "height": 35
        },
        "id": "S5R5Jkysmvsl",
        "outputId": "a0a72a8f-c763-48e1-8748-21d698040e2f"
      },
      "execution_count": 27,
      "outputs": [
        {
          "output_type": "execute_result",
          "data": {
            "text/plain": [
              "'b'"
            ],
            "application/vnd.google.colaboratory.intrinsic+json": {
              "type": "string"
            }
          },
          "metadata": {},
          "execution_count": 27
        }
      ]
    },
    {
      "cell_type": "code",
      "source": [
        "#Ques10-  Write a code to reverse the list [10, 20, 30, 40, 50].\n",
        "#Ans-\n",
        "my_list = [10, 20, 30, 40, 50]\n",
        "my_list[::-1]"
      ],
      "metadata": {
        "colab": {
          "base_uri": "https://localhost:8080/"
        },
        "id": "hqvNoeFAoXP4",
        "outputId": "a914c077-ba4a-4e54-83ff-b22a08878149"
      },
      "execution_count": 30,
      "outputs": [
        {
          "output_type": "execute_result",
          "data": {
            "text/plain": [
              "[50, 40, 30, 20, 10]"
            ]
          },
          "metadata": {},
          "execution_count": 30
        }
      ]
    },
    {
      "cell_type": "code",
      "source": [
        "#Ques11- Write a code to create a tuple with the elements 10, 20, 30 and print it.\n",
        "#Ans-\n",
        "tuple = (10,20,30)\n",
        "tuple"
      ],
      "metadata": {
        "colab": {
          "base_uri": "https://localhost:8080/"
        },
        "id": "FQBgHHn5ospN",
        "outputId": "8ba3cb6b-ded2-4124-faf6-d1d5cb756fdf"
      },
      "execution_count": 31,
      "outputs": [
        {
          "output_type": "execute_result",
          "data": {
            "text/plain": [
              "(10, 20, 30)"
            ]
          },
          "metadata": {},
          "execution_count": 31
        }
      ]
    },
    {
      "cell_type": "code",
      "source": [
        "#Ques12- Write a code to access the first element of the tuple ('apple', 'banana', 'cherry').\n",
        "#Ans-\n",
        "my_tuple = ('apple', 'banana', 'cherry')\n",
        "my_tuple[0]"
      ],
      "metadata": {
        "colab": {
          "base_uri": "https://localhost:8080/",
          "height": 35
        },
        "id": "aXKuAG4Gov62",
        "outputId": "7d2c0722-b01a-41ae-d036-69c3cf2a2fe9"
      },
      "execution_count": 33,
      "outputs": [
        {
          "output_type": "execute_result",
          "data": {
            "text/plain": [
              "'apple'"
            ],
            "application/vnd.google.colaboratory.intrinsic+json": {
              "type": "string"
            }
          },
          "metadata": {},
          "execution_count": 33
        }
      ]
    },
    {
      "cell_type": "code",
      "source": [
        "from ctypes import pointer\n",
        "#Ques13- Write a code to count how many times the number 2 appears in the tuple (1, 2, 3, 2, 4, 2).\n",
        "#Ans-\n",
        "point =(1, 2, 3, 2, 4, 2)\n",
        "point.count(2)"
      ],
      "metadata": {
        "colab": {
          "base_uri": "https://localhost:8080/"
        },
        "id": "wJB0D67Fpuui",
        "outputId": "d4d51e07-36b8-4998-fd40-cb1ec6cd1c28"
      },
      "execution_count": 34,
      "outputs": [
        {
          "output_type": "execute_result",
          "data": {
            "text/plain": [
              "3"
            ]
          },
          "metadata": {},
          "execution_count": 34
        }
      ]
    },
    {
      "cell_type": "code",
      "source": [
        " #Ques14- Write a code to find the index of the element \"cat\" in the tuple ('dog', 'cat', 'rabbit').\n",
        " #Ans-\n",
        " My_tuple = ('dog', 'cat', 'rabbit')\n",
        " My_tuple.index(\"cat\")"
      ],
      "metadata": {
        "colab": {
          "base_uri": "https://localhost:8080/"
        },
        "id": "4DgtE_EbqijN",
        "outputId": "922dcbb8-38ff-41c5-b357-637cc9880a27"
      },
      "execution_count": 35,
      "outputs": [
        {
          "output_type": "execute_result",
          "data": {
            "text/plain": [
              "1"
            ]
          },
          "metadata": {},
          "execution_count": 35
        }
      ]
    },
    {
      "cell_type": "code",
      "source": [
        "#Ques15- Write a code to check if the element \"banana\" is in the tuple ('apple', 'orange', 'banana')\n",
        "#Ans-\n",
        "TUPLE = ('apple', 'orange', 'banana')\n",
        "\"banana\" in TUPLE"
      ],
      "metadata": {
        "colab": {
          "base_uri": "https://localhost:8080/"
        },
        "id": "fyq1ROz1rHB1",
        "outputId": "dc4522bd-68ad-4c0d-9a04-a9bac07f0a0a"
      },
      "execution_count": 39,
      "outputs": [
        {
          "output_type": "execute_result",
          "data": {
            "text/plain": [
              "True"
            ]
          },
          "metadata": {},
          "execution_count": 39
        }
      ]
    },
    {
      "cell_type": "code",
      "source": [
        "#Ques16- Write a code to create a set with the elements 1, 2, 3, 4, 5 and print it\n",
        "#Ans-\n",
        "set = {1,2,3,4,5}\n",
        "set"
      ],
      "metadata": {
        "colab": {
          "base_uri": "https://localhost:8080/"
        },
        "id": "X_KIPdh_rYjR",
        "outputId": "fe442eb0-e911-4214-a292-57454a65820f"
      },
      "execution_count": 40,
      "outputs": [
        {
          "output_type": "execute_result",
          "data": {
            "text/plain": [
              "{1, 2, 3, 4, 5}"
            ]
          },
          "metadata": {},
          "execution_count": 40
        }
      ]
    },
    {
      "cell_type": "code",
      "source": [
        "#Ques17- Write a code to add the element 6 to the set {1, 2, 3, 4}.\n",
        "my_set ={1, 2, 3, 4}\n",
        "my_set.add(6)\n",
        "my_set"
      ],
      "metadata": {
        "colab": {
          "base_uri": "https://localhost:8080/"
        },
        "id": "yIvdG9eGrfWa",
        "outputId": "04259136-bd3a-4888-d680-f384bc57bbac"
      },
      "execution_count": 44,
      "outputs": [
        {
          "output_type": "execute_result",
          "data": {
            "text/plain": [
              "{1, 2, 3, 4, 6}"
            ]
          },
          "metadata": {},
          "execution_count": 44
        }
      ]
    },
    {
      "cell_type": "code",
      "source": [
        "#Ques18- Write a code to create a tuple with the elements 10, 20, 30 and print it\n",
        "#Ans\n",
        "tuple8 = (10, 20, 30)\n",
        "print(tuple8)"
      ],
      "metadata": {
        "colab": {
          "base_uri": "https://localhost:8080/"
        },
        "id": "FxyXaPnAstJL",
        "outputId": "b4c617d8-5e6a-4e9e-adda-6d7b89b296bd"
      },
      "execution_count": 45,
      "outputs": [
        {
          "output_type": "stream",
          "name": "stdout",
          "text": [
            "(10, 20, 30)\n"
          ]
        }
      ]
    },
    {
      "cell_type": "code",
      "source": [
        "#Ques19- Write a code to access the first element of the tuple ('apple', 'banana', 'cherry')\n",
        "#Ans-\n",
        "my_tuple = ('apple', 'banana', 'cherry')\n",
        "my_tuple[0]"
      ],
      "metadata": {
        "colab": {
          "base_uri": "https://localhost:8080/",
          "height": 35
        },
        "id": "kjN6faSFtY68",
        "outputId": "cb5cc4d0-91ad-447d-fbb6-50ff85814857"
      },
      "execution_count": 46,
      "outputs": [
        {
          "output_type": "execute_result",
          "data": {
            "text/plain": [
              "'apple'"
            ],
            "application/vnd.google.colaboratory.intrinsic+json": {
              "type": "string"
            }
          },
          "metadata": {},
          "execution_count": 46
        }
      ]
    },
    {
      "cell_type": "code",
      "source": [
        "#Ques20- Write a code to count how many times the number 2 appears in the tuple (1, 2, 3, 2, 4, 2).\n",
        "#Ans-\n",
        "my_tuple = (1, 2, 3, 2, 4, 2)\n",
        "my_tuple.count(2)"
      ],
      "metadata": {
        "colab": {
          "base_uri": "https://localhost:8080/"
        },
        "id": "eEaFpMhrtkXe",
        "outputId": "901ce51a-195c-4859-de1b-3353530ef091"
      },
      "execution_count": 47,
      "outputs": [
        {
          "output_type": "execute_result",
          "data": {
            "text/plain": [
              "3"
            ]
          },
          "metadata": {},
          "execution_count": 47
        }
      ]
    },
    {
      "cell_type": "code",
      "source": [
        "#Ques21- Write a code to find the index of the element \"cat\" in the tuple ('dog', 'cat', 'rabbit').\n",
        "#Ans-\n",
        "My_tuple = ('dog', 'cat', 'rabbit')\n",
        "My_tuple.index(\"cat\")"
      ],
      "metadata": {
        "colab": {
          "base_uri": "https://localhost:8080/"
        },
        "id": "8p9kcJI-t3Mq",
        "outputId": "b2d931d3-445c-4325-f56b-d7328a74531b"
      },
      "execution_count": 48,
      "outputs": [
        {
          "output_type": "execute_result",
          "data": {
            "text/plain": [
              "1"
            ]
          },
          "metadata": {},
          "execution_count": 48
        }
      ]
    },
    {
      "cell_type": "code",
      "source": [
        "#Ques22- Write a code to check if the element \"banana\" is in the tuple ('apple', 'orange', 'banana').\n",
        "#Ans-\n",
        "TUPLE = ('apple', 'orange', 'banana')\n",
        "\"banana\" in TUPLE"
      ],
      "metadata": {
        "colab": {
          "base_uri": "https://localhost:8080/"
        },
        "id": "-KLNkFWnuMbt",
        "outputId": "5b4020e5-5d02-4867-e4d2-dc1ff4e1046d"
      },
      "execution_count": 49,
      "outputs": [
        {
          "output_type": "execute_result",
          "data": {
            "text/plain": [
              "True"
            ]
          },
          "metadata": {},
          "execution_count": 49
        }
      ]
    },
    {
      "cell_type": "code",
      "source": [
        "#Ques23- Write a code to create a set with the elements 1, 2, 3, 4, 5 and print it.\n",
        "#Ans-\n",
        "set = {1,2,3,4,5}\n",
        "set"
      ],
      "metadata": {
        "colab": {
          "base_uri": "https://localhost:8080/"
        },
        "id": "MGZCzGKmufjJ",
        "outputId": "fcf17cac-b3b7-4125-c4b8-35678c61fe2a"
      },
      "execution_count": 50,
      "outputs": [
        {
          "output_type": "execute_result",
          "data": {
            "text/plain": [
              "{1, 2, 3, 4, 5}"
            ]
          },
          "metadata": {},
          "execution_count": 50
        }
      ]
    },
    {
      "cell_type": "code",
      "source": [
        "#Ques24- Write a code to add the element 6 to the set {1, 2, 3, 4}.\n",
        "#Ans-\n",
        "tUPLE9 = {1,2,3,4}\n",
        "tUPLE9.add(6)\n",
        "tUPLE9"
      ],
      "metadata": {
        "colab": {
          "base_uri": "https://localhost:8080/"
        },
        "id": "UvLjPWNeu8FX",
        "outputId": "06efa13e-4114-4382-d000-792970b7c38a"
      },
      "execution_count": 51,
      "outputs": [
        {
          "output_type": "execute_result",
          "data": {
            "text/plain": [
              "{1, 2, 3, 4, 6}"
            ]
          },
          "metadata": {},
          "execution_count": 51
        }
      ]
    },
    {
      "cell_type": "code",
      "source": [],
      "metadata": {
        "id": "zGh3UZIgvO-y"
      },
      "execution_count": null,
      "outputs": []
    }
  ]
}